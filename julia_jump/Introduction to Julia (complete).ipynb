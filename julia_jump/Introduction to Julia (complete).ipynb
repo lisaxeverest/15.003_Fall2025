{
 "cells": [
  {
   "cell_type": "markdown",
   "metadata": {},
   "source": [
    "# Introduction to Julia\n",
    "15.003 Software Tools\\\n",
    "MBAn Orientation 2024\n",
    "\n",
    "by Sean Lo (`seanlo@mit.edu`) and Yu Ma (`midsumer@mit.edu`)"
   ]
  },
  {
   "cell_type": "markdown",
   "metadata": {},
   "source": [
    "\n",
    "This notebook is an introduction to the Julia programming language, which is well-suited for scientific computing and developed at MIT. \n",
    "We'll introduce some of the components of the `Julia` language and noteworthy differences from Python (this notebook will assume that you have experience in Python or some other high-level programming language)."
   ]
  },
  {
   "cell_type": "markdown",
   "metadata": {},
   "source": [
    "## Julia Basics"
   ]
  },
  {
   "cell_type": "markdown",
   "metadata": {},
   "source": [
    "### Variables"
   ]
  },
  {
   "cell_type": "markdown",
   "metadata": {},
   "source": [
    "Variables are exactly what you expect from a high-level language: they store numbers, text, and allow you to perform operations on them. Some examples:"
   ]
  },
  {
   "cell_type": "code",
   "execution_count": null,
   "metadata": {},
   "outputs": [],
   "source": [
    "mystring = \"Hello world!\" # Unlike Python, Julia requires double-quotes for strings\n",
    "println(mystring) # Adds a newline character\n",
    "print(mystring)\n",
    "print(mystring)"
   ]
  },
  {
   "cell_type": "code",
   "execution_count": null,
   "metadata": {},
   "outputs": [],
   "source": [
    "a = 1.0\n",
    "b = 1\n",
    "a == b # Tests for numerical equality"
   ]
  },
  {
   "cell_type": "code",
   "execution_count": null,
   "metadata": {},
   "outputs": [],
   "source": [
    "# Julia distinguishes between floating-point numbers and integers!\n",
    "println(typeof(a)) \n",
    "println(typeof(b))"
   ]
  },
  {
   "cell_type": "code",
   "execution_count": null,
   "metadata": {},
   "outputs": [],
   "source": [
    "# You can convert between different numeric types:\n",
    "println(typeof(Int(a)))\n",
    "println(typeof(Float64(b)))"
   ]
  },
  {
   "cell_type": "markdown",
   "metadata": {},
   "source": [
    "We can perform computations on numbers like a calculator:"
   ]
  },
  {
   "cell_type": "code",
   "execution_count": null,
   "metadata": {},
   "outputs": [],
   "source": [
    "# Exponentiation\n",
    "println(2^6)    #                   (In Python, this is 2**6)\n",
    "# Three different types of division...\n",
    "println(9 / 4)  # Floating-point\n",
    "println(9 // 4) # Rational\n",
    "println(9 ÷ 4)  # Integer part      (In Python, this is 9 // 4)\n",
    "# Remainder\n",
    "println(9 % 4)  # Remainder"
   ]
  },
  {
   "cell_type": "markdown",
   "metadata": {},
   "source": [
    "Just like in Python, there are updating versions of these operations:"
   ]
  },
  {
   "cell_type": "code",
   "execution_count": null,
   "metadata": {},
   "outputs": [],
   "source": [
    "a = 2\n",
    "a += 1\n",
    "a *= 3\n",
    "a ^= 2\n",
    "println(a)"
   ]
  },
  {
   "cell_type": "markdown",
   "metadata": {},
   "source": [
    "Conversion of floating-point numbers to integers in Julia is explicit, unlike Python!!"
   ]
  },
  {
   "cell_type": "code",
   "execution_count": null,
   "metadata": {},
   "outputs": [],
   "source": [
    "println(round(9 / 4))\n",
    "println(round(11 / 4))\n",
    "println(ceil(9 / 4))\n",
    "println(floor(11 / 4)) \n",
    "# Converting floats to ints should be explicit\n",
    "println(Int(9 / 4)) "
   ]
  },
  {
   "cell_type": "code",
   "execution_count": null,
   "metadata": {},
   "outputs": [],
   "source": [
    "# Converting floats to ints should be explicit\n",
    "println(Int(floor(9 / 4))) # Specify whether you want to take the floor or ceil or closest"
   ]
  },
  {
   "cell_type": "markdown",
   "metadata": {},
   "source": [
    "### Arrays (v.s. lists in Python) - and vectorized operations\n",
    "\n",
    "Arrays in Julia are like Python's `numpy` arrays: containers which can be flexible and general, or containing a single datatype and fast. They can be multi-dimensional too unlike Python lists. Some examples and common operations:"
   ]
  },
  {
   "cell_type": "code",
   "execution_count": null,
   "metadata": {},
   "outputs": [],
   "source": [
    "# Array comprehensions work in the same way as in Python\n",
    "A = Int[] # empty array containing elements of type Int\n",
    "push!(A, 1) # The `!` is a Julia convention that indicates that the function modifies its argument"
   ]
  },
  {
   "cell_type": "code",
   "execution_count": null,
   "metadata": {},
   "outputs": [],
   "source": [
    "push!(A, 2.5) # what do you think will happen?"
   ]
  },
  {
   "cell_type": "code",
   "execution_count": null,
   "metadata": {},
   "outputs": [],
   "source": [
    "x = pop!(A)\n",
    "x"
   ]
  },
  {
   "cell_type": "code",
   "execution_count": null,
   "metadata": {},
   "outputs": [],
   "source": [
    "A = [1, 2, 3]\n",
    "println(A * 2)\n",
    "println(A ^ 2)"
   ]
  },
  {
   "cell_type": "code",
   "execution_count": null,
   "metadata": {},
   "outputs": [],
   "source": [
    "# Vectorizing the exponent operation via a dot right before\n",
    "println(A .^ 2)"
   ]
  },
  {
   "cell_type": "code",
   "execution_count": null,
   "metadata": {},
   "outputs": [],
   "source": [
    "A = [x^2 for x in 1:5]\n",
    "A = [x^2 for x in 1:5 if x % 2 == 0] # Just like list comprehensions in Python!"
   ]
  },
  {
   "cell_type": "code",
   "execution_count": null,
   "metadata": {},
   "outputs": [],
   "source": [
    "# Two-dimensional array\n",
    "A = ones(Float64, (2, 3)) # Initializing a 2-by-3 array filled with 0.0\n",
    "A[4] = 3\n",
    "A[1,:] .= 5//2  # Note the dot, since we are assigning to multiple places in a slice\n",
    "A               # Note how the elements are coerced to have type Float64?"
   ]
  },
  {
   "cell_type": "code",
   "execution_count": null,
   "metadata": {},
   "outputs": [],
   "source": [
    "println(A * [1 1; 2 4; 0 1])    # Matrix-matrix multiplication\n",
    "println(A * [1, 2, 0])          # Matrix-vector multiplication\n",
    "println(A \\ [2, 3])             # Solving for x in Ax = b"
   ]
  },
  {
   "cell_type": "code",
   "execution_count": null,
   "metadata": {},
   "outputs": [],
   "source": [
    "# Chaining comparisons (can Python do this?)\n",
    "println(1 < 2 < 3)\n",
    "# Broadcasting comparisons\n",
    "A = rand(Float64, (2, 3))\n",
    "A"
   ]
  },
  {
   "cell_type": "code",
   "execution_count": null,
   "metadata": {},
   "outputs": [],
   "source": [
    "println(0.25 .< A .< 0.75) # Returns a Boolean array of values in the middle quartiles"
   ]
  },
  {
   "cell_type": "markdown",
   "metadata": {},
   "source": [
    "### Control Flow"
   ]
  },
  {
   "cell_type": "markdown",
   "metadata": {},
   "source": [
    "Many control flow elements are the same as in Python, with some exceptions:\n",
    "- the `end` keyword is used to close `if`, `for`, `while` blocks\n",
    "- therefore, you don't need a colon at the end of the line, and you don't need indentation!"
   ]
  },
  {
   "cell_type": "markdown",
   "metadata": {},
   "source": [
    "Conditional evaluation: the `if`-`elseif`-`else` block functions exactly like the `if`-`elif`-`else` block in Python. Something useful here is the logical operators `&&` (and) and `||` (or), which are short-circuiting (they evaluate left-to-right, terminating when a false value is found):"
   ]
  },
  {
   "cell_type": "code",
   "execution_count": null,
   "metadata": {},
   "outputs": [],
   "source": [
    "x = 3\n",
    "if x % 2 == 0\n",
    "    println(\"x is even\")\n",
    "elseif x % 2 == 1\n",
    "    println(\"x is odd\")\n",
    "else\n",
    "    println(\"x is not an integer\")\n",
    "end"
   ]
  },
  {
   "cell_type": "markdown",
   "metadata": {},
   "source": [
    "This can be expressed via a logical ternary operator too, which can also be chained:"
   ]
  },
  {
   "cell_type": "code",
   "execution_count": null,
   "metadata": {},
   "outputs": [],
   "source": [
    "x = 3\n",
    "println(\n",
    "    !isinteger(x)   ? \"x is not an integer\" :\n",
    "    x % 2 == 0      ? \"x is even\"           : \"x is odd\"\n",
    ")"
   ]
  },
  {
   "cell_type": "markdown",
   "metadata": {},
   "source": [
    "Here, we see how `&&` works as a logical \"and\" which evaluates the first statement, and if true evaluates the second statement."
   ]
  },
  {
   "cell_type": "code",
   "execution_count": null,
   "metadata": {},
   "outputs": [],
   "source": [
    "x = 4.5\n",
    "if isinteger(x) && x % 2 == 0\n",
    "    message = \"x is even\"\n",
    "elseif isinteger(x) && x % 2 == 1\n",
    "    message = \"x is odd\"\n",
    "# else\n",
    "#     message = \"x is not an integer\"\n",
    "end\n",
    "println(message)"
   ]
  },
  {
   "cell_type": "markdown",
   "metadata": {},
   "source": [
    "For loops function just like in Python! In particular, the `break` keyword (early termination) and `continue` keyword (moving on to the next loop iteration) can be used inside for loops (and while loops too). The `eachindex()` function is the Julian way to iterate over the indices of a container, and it generalizes to various containers."
   ]
  },
  {
   "cell_type": "code",
   "execution_count": null,
   "metadata": {},
   "outputs": [],
   "source": [
    "# For loop\n",
    "for i in 1:5\n",
    "    println(i)\n",
    "end"
   ]
  },
  {
   "cell_type": "code",
   "execution_count": null,
   "metadata": {},
   "outputs": [],
   "source": [
    "alphabet = \"ABCDEFGHIJKLMNOPQRSTUVWXYZ\"\n",
    "for char in alphabet # you can iterate over strings, yielding single characters\n",
    "    println(lowercase(char))\n",
    "    break # Just like in Python - early termination of a loop\n",
    "end\n"
   ]
  },
  {
   "cell_type": "code",
   "execution_count": null,
   "metadata": {},
   "outputs": [],
   "source": [
    "for i in eachindex(alphabet) # using eachindex() is the Julian way to get the indices iterating over a collection\n",
    "    if i > 5\n",
    "        continue # Just like Python - moving to next iteration of loop\n",
    "    end\n",
    "    println(\"$i, $(alphabet[i])\") # String interpolation uses the $ symbol, using brackets if necessary\n",
    "end"
   ]
  },
  {
   "cell_type": "markdown",
   "metadata": {},
   "source": [
    "Something to note: the indexing variable in a `for` loop does not remain available in scope after the loop, unlike in Python:"
   ]
  },
  {
   "cell_type": "code",
   "execution_count": null,
   "metadata": {},
   "outputs": [],
   "source": [
    "for ind in 1:5\n",
    "    println(ind)\n",
    "end\n",
    "println(ind) # would give 5 in say Python"
   ]
  },
  {
   "cell_type": "code",
   "execution_count": null,
   "metadata": {},
   "outputs": [],
   "source": [
    "x = 0\n",
    "while x < 250 # performs the loop contents while this condition is true\n",
    "    x += 1\n",
    "    x *= 2 \n",
    "end\n",
    "println(x)"
   ]
  },
  {
   "cell_type": "code",
   "execution_count": null,
   "metadata": {},
   "outputs": [],
   "source": [
    "x = 0\n",
    "while true\n",
    "    if x >= 250 # performs the loop contents while this condition is not yet satisfied\n",
    "        break\n",
    "    end\n",
    "    x += 1\n",
    "    x *= 2 \n",
    "end\n",
    "println(x)"
   ]
  },
  {
   "cell_type": "markdown",
   "metadata": {},
   "source": [
    "### Exercise\n",
    "\n",
    "Write a procedure which prints repeated applications of the Collatz function applied to the number 19, until the number 1 is reached. The Collatz function $f: \\mathbb{N} \\to \\mathbb{N}$ is defined as:\n",
    "$$ f(n) := \\begin{cases}\n",
    "    3n + 1 & \\text{if $n$ odd} \\\\\n",
    "    n / 2 & \\text{if $n$ even}\n",
    "\\end{cases} "
   ]
  },
  {
   "cell_type": "code",
   "execution_count": null,
   "metadata": {},
   "outputs": [],
   "source": [
    "n = 19\n",
    "# Write your code here!\n",
    "while n > 1 # Be careful of entering an infinite loop!\n",
    "    if n % 2 == 1\n",
    "        n = 3*n + 1\n",
    "    else\n",
    "        n = n ÷ 2 # Note we use integer division!\n",
    "    end\n",
    "    println(n)\n",
    "end"
   ]
  },
  {
   "cell_type": "markdown",
   "metadata": {},
   "source": [
    "### Functions, Methods, and Multiple Dispatch\n",
    "Functions are an essential part of every high-level language. Julia is no different, and \n",
    "it is [recommended](https://docs.julialang.org/en/v1/manual/performance-tips/#Performance-critical-code-should-be-inside-a-function) that re-usable chunks of code are moved into their own functions, which can contain other functions -- this helps Julia's compiler speed up computations.\n",
    "\n",
    "Each function has a few basic components:\n",
    "* name (this is what you will use to run the function)\n",
    "* arguments/input data\n",
    "* body (code that runs in the function)\n",
    "* return value\n",
    "The function is ended by a `end` keyword, just like the control flow elements -- notice how there are no colons as well."
   ]
  },
  {
   "cell_type": "code",
   "execution_count": null,
   "metadata": {},
   "outputs": [],
   "source": [
    "function add_one(x) # name(arguments)\n",
    "    # body of the function\n",
    "    y = x + 1.0\n",
    "    return y # return value\n",
    "end\n",
    "println(add_one(5.0))\n",
    "println(add_one(5)) # What happens here?"
   ]
  },
  {
   "cell_type": "markdown",
   "metadata": {},
   "source": [
    "What happened in the above example is that there was an automatic \"promotion\" going on in evaluating `5 + 1.0`; since the first argument is of type `Int` and the second of type `Float64`, the result got promoted to a common supertype `Float64` (you can read more [here](https://docs.julialang.org/en/v1/manual/conversion-and-promotion/#conversion-and-promotion)). Is there a way we can prevent that?"
   ]
  },
  {
   "cell_type": "markdown",
   "metadata": {},
   "source": [
    "What is different in Julia is the idea of \"methods\". Methods are specific implementations of a function, for a possible combination of input argument types. This is important because the `add_one()` function might be optimized differently internally if the argument was a `Float64` or `Int` or `Real` type, and methods help detemine which implementation is used. From the Julia documentation:\n",
    "> ...Thus, the overall behavior of a function is a patchwork of the behaviors of its various method definitions. If the patchwork is well designed, even though the implementations of the methods may be quite different, the outward behavior of the function will appear seamless and consistent.\n",
    "\n",
    "This process of determining which method to use for given input arguments is known as **dispatch**. This is already present in languages like Python, where you can define classes and custom methods for each class (e.g. you can define a custom `MyFloat` class and a `MyFloat.add_one()` method). Using all of a function's arguments to choose which method should be invoked, rather than just the first, is known as **multiple dispatch**.\n",
    "    "
   ]
  },
  {
   "cell_type": "code",
   "execution_count": null,
   "metadata": {},
   "outputs": [],
   "source": [
    "# This is a method definition for the `add_one` function\n",
    "function add_one(x::Int) # type annotations for input arguments\n",
    "    return x + 1\n",
    "end\n",
    "println(add_one(5))\n",
    "println(add_one(5.0))"
   ]
  },
  {
   "cell_type": "code",
   "execution_count": null,
   "metadata": {},
   "outputs": [],
   "source": [
    "methods(add_one) # This tells me what methods I have defined so far for the `add_one` function"
   ]
  },
  {
   "cell_type": "markdown",
   "metadata": {},
   "source": [
    "In this easy example however, we should take care not to overspecialize (define methods with narrow type input arguments). This is because the `+` operator is itself a function with its own methods! We can see that here:"
   ]
  },
  {
   "cell_type": "code",
   "execution_count": null,
   "metadata": {},
   "outputs": [],
   "source": [
    "methods(+)"
   ]
  },
  {
   "cell_type": "code",
   "execution_count": null,
   "metadata": {},
   "outputs": [],
   "source": [
    "# This doesn't include a method dealing with a String and Float64, hence this doesn't work (unlike JavasScript):\n",
    "add_one(\"Hello\")"
   ]
  },
  {
   "cell_type": "markdown",
   "metadata": {},
   "source": [
    "This is how you might implement a `add_one` function in practice: don't constrain the datatype of the input argument, instead relying on the `oneunit()` function which returns the \"one\" quantity with the same datatype as the input (see this [link](https://docs.julialang.org/en/v1/manual/style-guide/#Avoid-writing-overly-specific-types)):"
   ]
  },
  {
   "cell_type": "code",
   "execution_count": null,
   "metadata": {},
   "outputs": [],
   "source": [
    "function add_one(x)\n",
    "    return x + oneunit(x)\n",
    "end"
   ]
  },
  {
   "cell_type": "markdown",
   "metadata": {},
   "source": [
    "Now the function works for a variety of input types:"
   ]
  },
  {
   "cell_type": "code",
   "execution_count": null,
   "metadata": {},
   "outputs": [],
   "source": [
    "println(add_one(5))\n",
    "println(add_one(5.0))\n",
    "println(add_one(9 // 4))\n",
    "println(add_one(0.32f0)) # Float32\n",
    "println(add_one(3 + 2im)) # Complex{Int}\n",
    "println(add_one(3 + 2.1im)) # Complex{Float64}"
   ]
  },
  {
   "cell_type": "markdown",
   "metadata": {},
   "source": [
    "In Julia, optional and keyword arguments are also a thing:\n",
    "* optional arguments come supplied with a default value in case you don't supply anything;\n",
    "* keyword arguments come after a semicolon, and must include the name of the argument.\n",
    "\n",
    "Using these are encouraged to modify your functions based on various input parameters. Here's an example:"
   ]
  },
  {
   "cell_type": "code",
   "execution_count": null,
   "metadata": {},
   "outputs": [],
   "source": [
    "function plot_histogram(\n",
    "    values,                         # Required argument\n",
    "    xlimit_lower = minimum(values), # Optional argument - note that it can depend on other _previous_ arguments\n",
    "    xlimit_upper = maximum(values),\n",
    "    ;\n",
    "    # Keyword arguments\n",
    "    color,                          # Required keyword argument (not commonly used)\n",
    "    box_style = \"solid\",            # Optional keyword argument\n",
    ")\n",
    "    ## Code goes here\n",
    "end"
   ]
  },
  {
   "cell_type": "code",
   "execution_count": null,
   "metadata": {},
   "outputs": [],
   "source": [
    "plot_histogram([1, 2, 2, 4, 6], color=\"black\")"
   ]
  },
  {
   "cell_type": "code",
   "execution_count": null,
   "metadata": {},
   "outputs": [],
   "source": [
    "# Not supplying the required keyword argument gives an error\n",
    "plot_histogram([1, 2, 2, 4, 6])"
   ]
  },
  {
   "cell_type": "markdown",
   "metadata": {},
   "source": [
    "Under the hood, the above function definition with a bunch of optional and keyword arguments translates into a few different method definitions:"
   ]
  },
  {
   "cell_type": "code",
   "execution_count": null,
   "metadata": {},
   "outputs": [],
   "source": [
    "methods(plot_histogram)"
   ]
  },
  {
   "cell_type": "markdown",
   "metadata": {},
   "source": [
    "### Exercise: softmax\n",
    "Write a function that returns the softmax function applied to a vector of real numbers. The softmax function maps a vector $\\bm{x} = (x_1, \\dots, x_n) \\in \\mathbb{R}^n$ to the vector:\n",
    "$$ \\left( \n",
    "    \\frac{e^{x_1}}{\\sum_{i=1}^n e^{x_i}}, \\dots, \\frac{e^{x_n}}{\\sum_{i=1}^n e^{x_i}}\n",
    "\\right) $$"
   ]
  },
  {
   "cell_type": "code",
   "execution_count": null,
   "metadata": {},
   "outputs": [],
   "source": [
    "function softmax(\n",
    "    x, \n",
    ")\n",
    "    ### Your code here\n",
    "    out = []\n",
    "    for i in 1:length(x)\n",
    "        push!(out, exp(x[i]))\n",
    "    end\n",
    "    return out / sum(out)\n",
    "end"
   ]
  },
  {
   "cell_type": "code",
   "execution_count": null,
   "metadata": {},
   "outputs": [],
   "source": [
    "function softmax(\n",
    "    x, \n",
    ")\n",
    "    ### Your code here\n",
    "    exponents = [exp(i) for i in x]\n",
    "    return out / sum(out)\n",
    "end"
   ]
  },
  {
   "cell_type": "code",
   "execution_count": null,
   "metadata": {},
   "outputs": [],
   "source": [
    "function softmax(\n",
    "    x, \n",
    ")\n",
    "    return exp.(x) / sum(exp.(x))\n",
    "end"
   ]
  },
  {
   "cell_type": "code",
   "execution_count": null,
   "metadata": {},
   "outputs": [],
   "source": [
    "using Test # This module exports the @test macro that allows us to write quick and easy unit tests!"
   ]
  },
  {
   "cell_type": "code",
   "execution_count": null,
   "metadata": {},
   "outputs": [],
   "source": [
    "@test round.(softmax([1, 2, 3]), digits=2) == [0.09, 0.24, 0.67]"
   ]
  },
  {
   "cell_type": "code",
   "execution_count": null,
   "metadata": {},
   "outputs": [],
   "source": [
    "@test round.(softmax([708, 709, 710]), digits=2) == [0.09, 0.24, 0.67]"
   ]
  },
  {
   "cell_type": "code",
   "execution_count": null,
   "metadata": {},
   "outputs": [],
   "source": [
    "function softmax(\n",
    "    x, \n",
    ")\n",
    "    y = x .- maximum(x) # Prevents overflow\n",
    "    return exp.(y) / sum(exp.(y))\n",
    "end"
   ]
  },
  {
   "cell_type": "code",
   "execution_count": null,
   "metadata": {},
   "outputs": [],
   "source": [
    "@test round.(softmax([708, 709, 710]), digits=2) == [0.09, 0.24, 0.67]"
   ]
  },
  {
   "cell_type": "markdown",
   "metadata": {},
   "source": [
    "### Exercise: quantile\n",
    "\n",
    "Write a function which takes the $p$-th quantile of an empirical distribution. Given an input vector $\\bm{x} \\in \\mathbb{R}^N$, and a floating-point value $p \\in (0, 1]$, return the $n$-th smallest number in $\\bm{x}$, where $n = p \\times N$ (rounded up). \n",
    "\n",
    "Hint: check the definition of the `sort()` and `partialsort()` functions."
   ]
  },
  {
   "cell_type": "code",
   "execution_count": null,
   "metadata": {},
   "outputs": [],
   "source": [
    "function quantile(\n",
    "    x,\n",
    "    p::Float64,\n",
    ")\n",
    "    ### Your code here\n",
    "    @assert 0 < p ≤ 1\n",
    "    y = sort(x)\n",
    "    n = Int(ceil(length(x) * p))\n",
    "    return y[n]\n",
    "end"
   ]
  },
  {
   "cell_type": "code",
   "execution_count": null,
   "metadata": {},
   "outputs": [],
   "source": [
    "function quantile(\n",
    "    x,\n",
    "    p::Float64,\n",
    ")\n",
    "    ### Your code here\n",
    "    @assert 0 < p ≤ 1\n",
    "    return partialsort(x, Int(ceil(p * length(x))))\n",
    "end"
   ]
  },
  {
   "cell_type": "code",
   "execution_count": null,
   "metadata": {},
   "outputs": [],
   "source": [
    "@test quantile([1, 4, 2, 6, 3, 8], 0.4) == 3"
   ]
  },
  {
   "cell_type": "markdown",
   "metadata": {},
   "source": [
    "## Intro to Data Manipulation and Visualization in Julia\n",
    "In this section, we will learn how to read in data and conduct data manipulation and visualization in Julia. This is an important step in solving a real-world optimization problem, as real-world data can be messy and difficult to work with."
   ]
  },
  {
   "cell_type": "markdown",
   "metadata": {},
   "source": [
    "### DataFrames\n",
    "Like data frames in `R` and `Python`, `Julia` also has a similar structure for datasets. You will need to load the packages `DataFrames` and `CSV` first:"
   ]
  },
  {
   "cell_type": "code",
   "execution_count": null,
   "metadata": {},
   "outputs": [],
   "source": [
    "# using Pkg\n",
    "# Pkg.add(\"DataFrames\")\n",
    "# Pkg.add(\"CSV\")"
   ]
  },
  {
   "cell_type": "code",
   "execution_count": null,
   "metadata": {
    "scrolled": true
   },
   "outputs": [],
   "source": [
    "using DataFrames, CSV"
   ]
  },
  {
   "cell_type": "markdown",
   "metadata": {},
   "source": [
    "Now let's read in the data:"
   ]
  },
  {
   "cell_type": "code",
   "execution_count": null,
   "metadata": {},
   "outputs": [],
   "source": [
    "df = CSV.read(\"data/NBA_data_2018_2019.csv\", DataFrame);"
   ]
  },
  {
   "cell_type": "markdown",
   "metadata": {},
   "source": [
    "To view the first few rows of the data, you can use `first()`, or index the dataframe similar to what you did you in `R`:\n",
    "\n",
    "To subset rows, pass in the indices in the first dimension. If you are not subsetting to particular columns, just pass in ``:`` in the second dimension (as opposed to leaving it blank in `R`)."
   ]
  },
  {
   "cell_type": "code",
   "execution_count": null,
   "metadata": {},
   "outputs": [],
   "source": [
    "df[1:5, :]\n",
    "first(df, 5)"
   ]
  },
  {
   "cell_type": "markdown",
   "metadata": {},
   "source": [
    "To index a column using column name, simply put a `:` in front of the name to make it into a Julia symbol. \n",
    "We could also write the column name like this: `symbol(\"Player\")`.\n",
    "\n",
    "\n",
    "To select all rows, you can either type `[:,:columnName]` or `[!,:columnName]`."
   ]
  },
  {
   "cell_type": "code",
   "execution_count": 124,
   "metadata": {},
   "outputs": [
    {
     "data": {
      "text/plain": [
       "200-element Vector{String31}:\n",
       " \"Bam Adebayo\"\n",
       " \"LaMarcus Aldridge\"\n",
       " \"Jarrett Allen\"\n",
       " \"Al-Farouq Aminu\"\n",
       " \"Carmelo Anthony\"\n",
       " \"Ryan Arcidiacono\"\n",
       " \"Trevor Ariza\"\n",
       " \"D.J. Augustin\"\n",
       " \"Marvin Bagley\"\n",
       " \"Harrison Barnes\"\n",
       " ⋮\n",
       " \"Russell Westbrook\"\n",
       " \"Derrick White\"\n",
       " \"Hassan Whiteside\"\n",
       " \"Lou Williams\"\n",
       " \"Marvin Williams\"\n",
       " \"Justise Winslow\"\n",
       " \"Delon Wright\"\n",
       " \"Thaddeus Young\"\n",
       " \"Trae Young\""
      ]
     },
     "metadata": {},
     "output_type": "display_data"
    }
   ],
   "source": [
    "df[!, :Player]"
   ]
  },
  {
   "cell_type": "markdown",
   "metadata": {},
   "source": [
    "There are more advanced ways to select different subsets of the data. One example is selecting rows according to a condition:"
   ]
  },
  {
   "cell_type": "code",
   "execution_count": 134,
   "metadata": {},
   "outputs": [
    {
     "data": {
      "text/html": [
       "<div><div style = \"float: left;\"><span>6×32 DataFrame</span></div><div style = \"clear: both;\"></div></div><div class = \"data-frame\" style = \"overflow-x: scroll;\"><table class = \"data-frame\" style = \"margin-bottom: 6px;\"><thead><tr class = \"header\"><th class = \"rowNumber\" style = \"font-weight: bold; text-align: right;\">Row</th><th style = \"text-align: left;\">ID</th><th style = \"text-align: left;\">Player</th><th style = \"text-align: left;\">Username</th><th style = \"text-align: left;\">Pos</th><th style = \"text-align: left;\">Age</th><th style = \"text-align: left;\">Tm</th><th style = \"text-align: left;\">G</th><th style = \"text-align: left;\">MP</th><th style = \"text-align: left;\">PER</th><th style = \"text-align: left;\">TS.</th><th style = \"text-align: left;\">X3PAr</th><th style = \"text-align: left;\">FTr</th><th style = \"text-align: left;\">ORB.</th><th style = \"text-align: left;\">DRB.</th><th style = \"text-align: left;\">TRB.</th><th style = \"text-align: left;\">AST.</th><th style = \"text-align: left;\">STL.</th><th style = \"text-align: left;\">BLK.</th><th style = \"text-align: left;\">TOV.</th><th style = \"text-align: left;\">USG.</th><th style = \"text-align: left;\">OWS</th><th style = \"text-align: left;\">DWS</th><th style = \"text-align: left;\">WS</th><th style = \"text-align: left;\">WS_48</th><th style = \"text-align: left;\">OBPM</th><th style = \"text-align: left;\">DBPM</th><th style = \"text-align: left;\">BPM</th><th style = \"text-align: left;\">VORP</th><th style = \"text-align: left;\">Olympics2016</th><th style = \"text-align: left;\">OlympicsFinalist</th><th style = \"text-align: left;\">AllStar</th><th style = \"text-align: left;\">HighRated</th></tr><tr class = \"subheader headerLastRow\"><th class = \"rowNumber\" style = \"font-weight: bold; text-align: right;\"></th><th title = \"Int64\" style = \"text-align: left;\">Int64</th><th title = \"String31\" style = \"text-align: left;\">String31</th><th title = \"String15\" style = \"text-align: left;\">String15</th><th title = \"String7\" style = \"text-align: left;\">String7</th><th title = \"Int64\" style = \"text-align: left;\">Int64</th><th title = \"String3\" style = \"text-align: left;\">String3</th><th title = \"Int64\" style = \"text-align: left;\">Int64</th><th title = \"Int64\" style = \"text-align: left;\">Int64</th><th title = \"Float64\" style = \"text-align: left;\">Float64</th><th title = \"Float64\" style = \"text-align: left;\">Float64</th><th title = \"Float64\" style = \"text-align: left;\">Float64</th><th title = \"Float64\" style = \"text-align: left;\">Float64</th><th title = \"Float64\" style = \"text-align: left;\">Float64</th><th title = \"Float64\" style = \"text-align: left;\">Float64</th><th title = \"Float64\" style = \"text-align: left;\">Float64</th><th title = \"Float64\" style = \"text-align: left;\">Float64</th><th title = \"Float64\" style = \"text-align: left;\">Float64</th><th title = \"Float64\" style = \"text-align: left;\">Float64</th><th title = \"Float64\" style = \"text-align: left;\">Float64</th><th title = \"Float64\" style = \"text-align: left;\">Float64</th><th title = \"Float64\" style = \"text-align: left;\">Float64</th><th title = \"Float64\" style = \"text-align: left;\">Float64</th><th title = \"Float64\" style = \"text-align: left;\">Float64</th><th title = \"Float64\" style = \"text-align: left;\">Float64</th><th title = \"Float64\" style = \"text-align: left;\">Float64</th><th title = \"Float64\" style = \"text-align: left;\">Float64</th><th title = \"Float64\" style = \"text-align: left;\">Float64</th><th title = \"Float64\" style = \"text-align: left;\">Float64</th><th title = \"Int64\" style = \"text-align: left;\">Int64</th><th title = \"Int64\" style = \"text-align: left;\">Int64</th><th title = \"Int64\" style = \"text-align: left;\">Int64</th><th title = \"Int64\" style = \"text-align: left;\">Int64</th></tr></thead><tbody><tr><td class = \"rowNumber\" style = \"font-weight: bold; text-align: right;\">1</td><td style = \"text-align: right;\">206</td><td style = \"text-align: left;\">James Harden</td><td style = \"text-align: left;\">hardeja01</td><td style = \"text-align: left;\">PG</td><td style = \"text-align: right;\">29</td><td style = \"text-align: left;\">HOU</td><td style = \"text-align: right;\">78</td><td style = \"text-align: right;\">2867</td><td style = \"text-align: right;\">30.6</td><td style = \"text-align: right;\">0.616</td><td style = \"text-align: right;\">0.539</td><td style = \"text-align: right;\">0.449</td><td style = \"text-align: right;\">2.5</td><td style = \"text-align: right;\">17.8</td><td style = \"text-align: right;\">10.0</td><td style = \"text-align: right;\">39.5</td><td style = \"text-align: right;\">2.7</td><td style = \"text-align: right;\">1.7</td><td style = \"text-align: right;\">14.5</td><td style = \"text-align: right;\">40.5</td><td style = \"text-align: right;\">11.4</td><td style = \"text-align: right;\">3.8</td><td style = \"text-align: right;\">15.2</td><td style = \"text-align: right;\">0.254</td><td style = \"text-align: right;\">10.5</td><td style = \"text-align: right;\">1.1</td><td style = \"text-align: right;\">11.7</td><td style = \"text-align: right;\">9.9</td><td style = \"text-align: right;\">0</td><td style = \"text-align: right;\">1</td><td style = \"text-align: right;\">1</td><td style = \"text-align: right;\">2</td></tr><tr><td class = \"rowNumber\" style = \"font-weight: bold; text-align: right;\">2</td><td style = \"text-align: right;\">126</td><td style = \"text-align: left;\">Anthony Davis</td><td style = \"text-align: left;\">davisan02</td><td style = \"text-align: left;\">C</td><td style = \"text-align: right;\">25</td><td style = \"text-align: left;\">NOP</td><td style = \"text-align: right;\">56</td><td style = \"text-align: right;\">1850</td><td style = \"text-align: right;\">30.3</td><td style = \"text-align: right;\">0.597</td><td style = \"text-align: right;\">0.141</td><td style = \"text-align: right;\">0.422</td><td style = \"text-align: right;\">9.9</td><td style = \"text-align: right;\">27.5</td><td style = \"text-align: right;\">18.8</td><td style = \"text-align: right;\">19.0</td><td style = \"text-align: right;\">2.2</td><td style = \"text-align: right;\">6.0</td><td style = \"text-align: right;\">8.4</td><td style = \"text-align: right;\">29.5</td><td style = \"text-align: right;\">6.4</td><td style = \"text-align: right;\">3.1</td><td style = \"text-align: right;\">9.5</td><td style = \"text-align: right;\">0.247</td><td style = \"text-align: right;\">4.7</td><td style = \"text-align: right;\">3.9</td><td style = \"text-align: right;\">8.5</td><td style = \"text-align: right;\">4.9</td><td style = \"text-align: right;\">0</td><td style = \"text-align: right;\">1</td><td style = \"text-align: right;\">1</td><td style = \"text-align: right;\">2</td></tr><tr><td class = \"rowNumber\" style = \"font-weight: bold; text-align: right;\">3</td><td style = \"text-align: right;\">301</td><td style = \"text-align: left;\">Kawhi Leonard</td><td style = \"text-align: left;\">leonaka01</td><td style = \"text-align: left;\">SF</td><td style = \"text-align: right;\">27</td><td style = \"text-align: left;\">TOR</td><td style = \"text-align: right;\">60</td><td style = \"text-align: right;\">2040</td><td style = \"text-align: right;\">25.8</td><td style = \"text-align: right;\">0.606</td><td style = \"text-align: right;\">0.267</td><td style = \"text-align: right;\">0.377</td><td style = \"text-align: right;\">4.2</td><td style = \"text-align: right;\">18.6</td><td style = \"text-align: right;\">11.6</td><td style = \"text-align: right;\">16.4</td><td style = \"text-align: right;\">2.5</td><td style = \"text-align: right;\">1.0</td><td style = \"text-align: right;\">8.4</td><td style = \"text-align: right;\">30.3</td><td style = \"text-align: right;\">6.1</td><td style = \"text-align: right;\">3.4</td><td style = \"text-align: right;\">9.5</td><td style = \"text-align: right;\">0.224</td><td style = \"text-align: right;\">4.3</td><td style = \"text-align: right;\">0.7</td><td style = \"text-align: right;\">5.0</td><td style = \"text-align: right;\">3.6</td><td style = \"text-align: right;\">0</td><td style = \"text-align: right;\">1</td><td style = \"text-align: right;\">1</td><td style = \"text-align: right;\">2</td></tr><tr><td class = \"rowNumber\" style = \"font-weight: bold; text-align: right;\">4</td><td style = \"text-align: right;\">258</td><td style = \"text-align: left;\">LeBron James</td><td style = \"text-align: left;\">jamesle01</td><td style = \"text-align: left;\">SF</td><td style = \"text-align: right;\">34</td><td style = \"text-align: left;\">LAL</td><td style = \"text-align: right;\">55</td><td style = \"text-align: right;\">1937</td><td style = \"text-align: right;\">25.6</td><td style = \"text-align: right;\">0.588</td><td style = \"text-align: right;\">0.299</td><td style = \"text-align: right;\">0.382</td><td style = \"text-align: right;\">3.1</td><td style = \"text-align: right;\">21.3</td><td style = \"text-align: right;\">12.4</td><td style = \"text-align: right;\">39.4</td><td style = \"text-align: right;\">1.7</td><td style = \"text-align: right;\">1.4</td><td style = \"text-align: right;\">13.3</td><td style = \"text-align: right;\">31.6</td><td style = \"text-align: right;\">4.7</td><td style = \"text-align: right;\">2.6</td><td style = \"text-align: right;\">7.2</td><td style = \"text-align: right;\">0.179</td><td style = \"text-align: right;\">6.2</td><td style = \"text-align: right;\">1.9</td><td style = \"text-align: right;\">8.1</td><td style = \"text-align: right;\">4.9</td><td style = \"text-align: right;\">0</td><td style = \"text-align: right;\">1</td><td style = \"text-align: right;\">1</td><td style = \"text-align: right;\">2</td></tr><tr><td class = \"rowNumber\" style = \"font-weight: bold; text-align: right;\">5</td><td style = \"text-align: right;\">124</td><td style = \"text-align: left;\">Stephen Curry</td><td style = \"text-align: left;\">curryst01</td><td style = \"text-align: left;\">PG</td><td style = \"text-align: right;\">30</td><td style = \"text-align: left;\">GSW</td><td style = \"text-align: right;\">69</td><td style = \"text-align: right;\">2331</td><td style = \"text-align: right;\">24.4</td><td style = \"text-align: right;\">0.641</td><td style = \"text-align: right;\">0.604</td><td style = \"text-align: right;\">0.214</td><td style = \"text-align: right;\">2.2</td><td style = \"text-align: right;\">14.2</td><td style = \"text-align: right;\">8.4</td><td style = \"text-align: right;\">24.2</td><td style = \"text-align: right;\">1.9</td><td style = \"text-align: right;\">0.9</td><td style = \"text-align: right;\">11.6</td><td style = \"text-align: right;\">30.4</td><td style = \"text-align: right;\">7.2</td><td style = \"text-align: right;\">2.5</td><td style = \"text-align: right;\">9.7</td><td style = \"text-align: right;\">0.199</td><td style = \"text-align: right;\">7.7</td><td style = \"text-align: right;\">-1.4</td><td style = \"text-align: right;\">6.3</td><td style = \"text-align: right;\">4.9</td><td style = \"text-align: right;\">0</td><td style = \"text-align: right;\">1</td><td style = \"text-align: right;\">1</td><td style = \"text-align: right;\">2</td></tr><tr><td class = \"rowNumber\" style = \"font-weight: bold; text-align: right;\">6</td><td style = \"text-align: right;\">150</td><td style = \"text-align: left;\">Kevin Durant</td><td style = \"text-align: left;\">duranke01</td><td style = \"text-align: left;\">SF</td><td style = \"text-align: right;\">30</td><td style = \"text-align: left;\">GSW</td><td style = \"text-align: right;\">78</td><td style = \"text-align: right;\">2702</td><td style = \"text-align: right;\">24.2</td><td style = \"text-align: right;\">0.631</td><td style = \"text-align: right;\">0.281</td><td style = \"text-align: right;\">0.366</td><td style = \"text-align: right;\">1.4</td><td style = \"text-align: right;\">17.5</td><td style = \"text-align: right;\">9.8</td><td style = \"text-align: right;\">26.2</td><td style = \"text-align: right;\">1.0</td><td style = \"text-align: right;\">2.6</td><td style = \"text-align: right;\">12.3</td><td style = \"text-align: right;\">29.0</td><td style = \"text-align: right;\">8.6</td><td style = \"text-align: right;\">2.9</td><td style = \"text-align: right;\">11.5</td><td style = \"text-align: right;\">0.204</td><td style = \"text-align: right;\">4.2</td><td style = \"text-align: right;\">0.1</td><td style = \"text-align: right;\">4.3</td><td style = \"text-align: right;\">4.3</td><td style = \"text-align: right;\">1</td><td style = \"text-align: right;\">1</td><td style = \"text-align: right;\">1</td><td style = \"text-align: right;\">3</td></tr></tbody></table></div>"
      ],
      "text/latex": [
       "\\begin{tabular}{r|cccccccccc}\n",
       "\t& ID & Player & Username & Pos & Age & Tm & G & MP & PER & \\\\\n",
       "\t\\hline\n",
       "\t& Int64 & String31 & String15 & String7 & Int64 & String3 & Int64 & Int64 & Float64 & \\\\\n",
       "\t\\hline\n",
       "\t1 & 206 & James Harden & hardeja01 & PG & 29 & HOU & 78 & 2867 & 30.6 & $\\dots$ \\\\\n",
       "\t2 & 126 & Anthony Davis & davisan02 & C & 25 & NOP & 56 & 1850 & 30.3 & $\\dots$ \\\\\n",
       "\t3 & 301 & Kawhi Leonard & leonaka01 & SF & 27 & TOR & 60 & 2040 & 25.8 & $\\dots$ \\\\\n",
       "\t4 & 258 & LeBron James & jamesle01 & SF & 34 & LAL & 55 & 1937 & 25.6 & $\\dots$ \\\\\n",
       "\t5 & 124 & Stephen Curry & curryst01 & PG & 30 & GSW & 69 & 2331 & 24.4 & $\\dots$ \\\\\n",
       "\t6 & 150 & Kevin Durant & duranke01 & SF & 30 & GSW & 78 & 2702 & 24.2 & $\\dots$ \\\\\n",
       "\\end{tabular}\n"
      ],
      "text/plain": [
       "\u001b[1m6×32 DataFrame\u001b[0m\n",
       "\u001b[1m Row \u001b[0m│\u001b[1m ID    \u001b[0m\u001b[1m Player        \u001b[0m\u001b[1m Username  \u001b[0m\u001b[1m Pos     \u001b[0m\u001b[1m Age   \u001b[0m\u001b[1m Tm      \u001b[0m\u001b[1m G     \u001b[0m\u001b[1m MP    \u001b[0m\u001b[1m\u001b[0m ⋯\n",
       "     │\u001b[90m Int64 \u001b[0m\u001b[90m String31      \u001b[0m\u001b[90m String15  \u001b[0m\u001b[90m String7 \u001b[0m\u001b[90m Int64 \u001b[0m\u001b[90m String3 \u001b[0m\u001b[90m Int64 \u001b[0m\u001b[90m Int64 \u001b[0m\u001b[90m\u001b[0m ⋯\n",
       "─────┼──────────────────────────────────────────────────────────────────────────\n",
       "   1 │   206  James Harden   hardeja01  PG          29  HOU         78   2867  ⋯\n",
       "   2 │   126  Anthony Davis  davisan02  C           25  NOP         56   1850\n",
       "   3 │   301  Kawhi Leonard  leonaka01  SF          27  TOR         60   2040\n",
       "   4 │   258  LeBron James   jamesle01  SF          34  LAL         55   1937\n",
       "   5 │   124  Stephen Curry  curryst01  PG          30  GSW         69   2331  ⋯\n",
       "   6 │   150  Kevin Durant   duranke01  SF          30  GSW         78   2702\n",
       "\u001b[36m                                                              24 columns omitted\u001b[0m"
      ]
     },
     "metadata": {},
     "output_type": "display_data"
    }
   ],
   "source": [
    "df[(df.PER .> 24) .& (df.OlympicsFinalist .== 1), :] # Note the .> which makes sense since we are comparing a column (df.PER) to a scalar"
   ]
  },
  {
   "cell_type": "code",
   "execution_count": 137,
   "metadata": {},
   "outputs": [
    {
     "data": {
      "text/html": [
       "<div><div style = \"float: left;\"><span>6×32 DataFrame</span></div><div style = \"clear: both;\"></div></div><div class = \"data-frame\" style = \"overflow-x: scroll;\"><table class = \"data-frame\" style = \"margin-bottom: 6px;\"><thead><tr class = \"header\"><th class = \"rowNumber\" style = \"font-weight: bold; text-align: right;\">Row</th><th style = \"text-align: left;\">ID</th><th style = \"text-align: left;\">Player</th><th style = \"text-align: left;\">Username</th><th style = \"text-align: left;\">Pos</th><th style = \"text-align: left;\">Age</th><th style = \"text-align: left;\">Tm</th><th style = \"text-align: left;\">G</th><th style = \"text-align: left;\">MP</th><th style = \"text-align: left;\">PER</th><th style = \"text-align: left;\">TS.</th><th style = \"text-align: left;\">X3PAr</th><th style = \"text-align: left;\">FTr</th><th style = \"text-align: left;\">ORB.</th><th style = \"text-align: left;\">DRB.</th><th style = \"text-align: left;\">TRB.</th><th style = \"text-align: left;\">AST.</th><th style = \"text-align: left;\">STL.</th><th style = \"text-align: left;\">BLK.</th><th style = \"text-align: left;\">TOV.</th><th style = \"text-align: left;\">USG.</th><th style = \"text-align: left;\">OWS</th><th style = \"text-align: left;\">DWS</th><th style = \"text-align: left;\">WS</th><th style = \"text-align: left;\">WS_48</th><th style = \"text-align: left;\">OBPM</th><th style = \"text-align: left;\">DBPM</th><th style = \"text-align: left;\">BPM</th><th style = \"text-align: left;\">VORP</th><th style = \"text-align: left;\">Olympics2016</th><th style = \"text-align: left;\">OlympicsFinalist</th><th style = \"text-align: left;\">AllStar</th><th style = \"text-align: left;\">HighRated</th></tr><tr class = \"subheader headerLastRow\"><th class = \"rowNumber\" style = \"font-weight: bold; text-align: right;\"></th><th title = \"Int64\" style = \"text-align: left;\">Int64</th><th title = \"String31\" style = \"text-align: left;\">String31</th><th title = \"String15\" style = \"text-align: left;\">String15</th><th title = \"String7\" style = \"text-align: left;\">String7</th><th title = \"Int64\" style = \"text-align: left;\">Int64</th><th title = \"String3\" style = \"text-align: left;\">String3</th><th title = \"Int64\" style = \"text-align: left;\">Int64</th><th title = \"Int64\" style = \"text-align: left;\">Int64</th><th title = \"Float64\" style = \"text-align: left;\">Float64</th><th title = \"Float64\" style = \"text-align: left;\">Float64</th><th title = \"Float64\" style = \"text-align: left;\">Float64</th><th title = \"Float64\" style = \"text-align: left;\">Float64</th><th title = \"Float64\" style = \"text-align: left;\">Float64</th><th title = \"Float64\" style = \"text-align: left;\">Float64</th><th title = \"Float64\" style = \"text-align: left;\">Float64</th><th title = \"Float64\" style = \"text-align: left;\">Float64</th><th title = \"Float64\" style = \"text-align: left;\">Float64</th><th title = \"Float64\" style = \"text-align: left;\">Float64</th><th title = \"Float64\" style = \"text-align: left;\">Float64</th><th title = \"Float64\" style = \"text-align: left;\">Float64</th><th title = \"Float64\" style = \"text-align: left;\">Float64</th><th title = \"Float64\" style = \"text-align: left;\">Float64</th><th title = \"Float64\" style = \"text-align: left;\">Float64</th><th title = \"Float64\" style = \"text-align: left;\">Float64</th><th title = \"Float64\" style = \"text-align: left;\">Float64</th><th title = \"Float64\" style = \"text-align: left;\">Float64</th><th title = \"Float64\" style = \"text-align: left;\">Float64</th><th title = \"Float64\" style = \"text-align: left;\">Float64</th><th title = \"Int64\" style = \"text-align: left;\">Int64</th><th title = \"Int64\" style = \"text-align: left;\">Int64</th><th title = \"Int64\" style = \"text-align: left;\">Int64</th><th title = \"Int64\" style = \"text-align: left;\">Int64</th></tr></thead><tbody><tr><td class = \"rowNumber\" style = \"font-weight: bold; text-align: right;\">1</td><td style = \"text-align: right;\">206</td><td style = \"text-align: left;\">James Harden</td><td style = \"text-align: left;\">hardeja01</td><td style = \"text-align: left;\">PG</td><td style = \"text-align: right;\">29</td><td style = \"text-align: left;\">HOU</td><td style = \"text-align: right;\">78</td><td style = \"text-align: right;\">2867</td><td style = \"text-align: right;\">30.6</td><td style = \"text-align: right;\">0.616</td><td style = \"text-align: right;\">0.539</td><td style = \"text-align: right;\">0.449</td><td style = \"text-align: right;\">2.5</td><td style = \"text-align: right;\">17.8</td><td style = \"text-align: right;\">10.0</td><td style = \"text-align: right;\">39.5</td><td style = \"text-align: right;\">2.7</td><td style = \"text-align: right;\">1.7</td><td style = \"text-align: right;\">14.5</td><td style = \"text-align: right;\">40.5</td><td style = \"text-align: right;\">11.4</td><td style = \"text-align: right;\">3.8</td><td style = \"text-align: right;\">15.2</td><td style = \"text-align: right;\">0.254</td><td style = \"text-align: right;\">10.5</td><td style = \"text-align: right;\">1.1</td><td style = \"text-align: right;\">11.7</td><td style = \"text-align: right;\">9.9</td><td style = \"text-align: right;\">0</td><td style = \"text-align: right;\">1</td><td style = \"text-align: right;\">1</td><td style = \"text-align: right;\">2</td></tr><tr><td class = \"rowNumber\" style = \"font-weight: bold; text-align: right;\">2</td><td style = \"text-align: right;\">126</td><td style = \"text-align: left;\">Anthony Davis</td><td style = \"text-align: left;\">davisan02</td><td style = \"text-align: left;\">C</td><td style = \"text-align: right;\">25</td><td style = \"text-align: left;\">NOP</td><td style = \"text-align: right;\">56</td><td style = \"text-align: right;\">1850</td><td style = \"text-align: right;\">30.3</td><td style = \"text-align: right;\">0.597</td><td style = \"text-align: right;\">0.141</td><td style = \"text-align: right;\">0.422</td><td style = \"text-align: right;\">9.9</td><td style = \"text-align: right;\">27.5</td><td style = \"text-align: right;\">18.8</td><td style = \"text-align: right;\">19.0</td><td style = \"text-align: right;\">2.2</td><td style = \"text-align: right;\">6.0</td><td style = \"text-align: right;\">8.4</td><td style = \"text-align: right;\">29.5</td><td style = \"text-align: right;\">6.4</td><td style = \"text-align: right;\">3.1</td><td style = \"text-align: right;\">9.5</td><td style = \"text-align: right;\">0.247</td><td style = \"text-align: right;\">4.7</td><td style = \"text-align: right;\">3.9</td><td style = \"text-align: right;\">8.5</td><td style = \"text-align: right;\">4.9</td><td style = \"text-align: right;\">0</td><td style = \"text-align: right;\">1</td><td style = \"text-align: right;\">1</td><td style = \"text-align: right;\">2</td></tr><tr><td class = \"rowNumber\" style = \"font-weight: bold; text-align: right;\">3</td><td style = \"text-align: right;\">301</td><td style = \"text-align: left;\">Kawhi Leonard</td><td style = \"text-align: left;\">leonaka01</td><td style = \"text-align: left;\">SF</td><td style = \"text-align: right;\">27</td><td style = \"text-align: left;\">TOR</td><td style = \"text-align: right;\">60</td><td style = \"text-align: right;\">2040</td><td style = \"text-align: right;\">25.8</td><td style = \"text-align: right;\">0.606</td><td style = \"text-align: right;\">0.267</td><td style = \"text-align: right;\">0.377</td><td style = \"text-align: right;\">4.2</td><td style = \"text-align: right;\">18.6</td><td style = \"text-align: right;\">11.6</td><td style = \"text-align: right;\">16.4</td><td style = \"text-align: right;\">2.5</td><td style = \"text-align: right;\">1.0</td><td style = \"text-align: right;\">8.4</td><td style = \"text-align: right;\">30.3</td><td style = \"text-align: right;\">6.1</td><td style = \"text-align: right;\">3.4</td><td style = \"text-align: right;\">9.5</td><td style = \"text-align: right;\">0.224</td><td style = \"text-align: right;\">4.3</td><td style = \"text-align: right;\">0.7</td><td style = \"text-align: right;\">5.0</td><td style = \"text-align: right;\">3.6</td><td style = \"text-align: right;\">0</td><td style = \"text-align: right;\">1</td><td style = \"text-align: right;\">1</td><td style = \"text-align: right;\">2</td></tr><tr><td class = \"rowNumber\" style = \"font-weight: bold; text-align: right;\">4</td><td style = \"text-align: right;\">258</td><td style = \"text-align: left;\">LeBron James</td><td style = \"text-align: left;\">jamesle01</td><td style = \"text-align: left;\">SF</td><td style = \"text-align: right;\">34</td><td style = \"text-align: left;\">LAL</td><td style = \"text-align: right;\">55</td><td style = \"text-align: right;\">1937</td><td style = \"text-align: right;\">25.6</td><td style = \"text-align: right;\">0.588</td><td style = \"text-align: right;\">0.299</td><td style = \"text-align: right;\">0.382</td><td style = \"text-align: right;\">3.1</td><td style = \"text-align: right;\">21.3</td><td style = \"text-align: right;\">12.4</td><td style = \"text-align: right;\">39.4</td><td style = \"text-align: right;\">1.7</td><td style = \"text-align: right;\">1.4</td><td style = \"text-align: right;\">13.3</td><td style = \"text-align: right;\">31.6</td><td style = \"text-align: right;\">4.7</td><td style = \"text-align: right;\">2.6</td><td style = \"text-align: right;\">7.2</td><td style = \"text-align: right;\">0.179</td><td style = \"text-align: right;\">6.2</td><td style = \"text-align: right;\">1.9</td><td style = \"text-align: right;\">8.1</td><td style = \"text-align: right;\">4.9</td><td style = \"text-align: right;\">0</td><td style = \"text-align: right;\">1</td><td style = \"text-align: right;\">1</td><td style = \"text-align: right;\">2</td></tr><tr><td class = \"rowNumber\" style = \"font-weight: bold; text-align: right;\">5</td><td style = \"text-align: right;\">124</td><td style = \"text-align: left;\">Stephen Curry</td><td style = \"text-align: left;\">curryst01</td><td style = \"text-align: left;\">PG</td><td style = \"text-align: right;\">30</td><td style = \"text-align: left;\">GSW</td><td style = \"text-align: right;\">69</td><td style = \"text-align: right;\">2331</td><td style = \"text-align: right;\">24.4</td><td style = \"text-align: right;\">0.641</td><td style = \"text-align: right;\">0.604</td><td style = \"text-align: right;\">0.214</td><td style = \"text-align: right;\">2.2</td><td style = \"text-align: right;\">14.2</td><td style = \"text-align: right;\">8.4</td><td style = \"text-align: right;\">24.2</td><td style = \"text-align: right;\">1.9</td><td style = \"text-align: right;\">0.9</td><td style = \"text-align: right;\">11.6</td><td style = \"text-align: right;\">30.4</td><td style = \"text-align: right;\">7.2</td><td style = \"text-align: right;\">2.5</td><td style = \"text-align: right;\">9.7</td><td style = \"text-align: right;\">0.199</td><td style = \"text-align: right;\">7.7</td><td style = \"text-align: right;\">-1.4</td><td style = \"text-align: right;\">6.3</td><td style = \"text-align: right;\">4.9</td><td style = \"text-align: right;\">0</td><td style = \"text-align: right;\">1</td><td style = \"text-align: right;\">1</td><td style = \"text-align: right;\">2</td></tr><tr><td class = \"rowNumber\" style = \"font-weight: bold; text-align: right;\">6</td><td style = \"text-align: right;\">150</td><td style = \"text-align: left;\">Kevin Durant</td><td style = \"text-align: left;\">duranke01</td><td style = \"text-align: left;\">SF</td><td style = \"text-align: right;\">30</td><td style = \"text-align: left;\">GSW</td><td style = \"text-align: right;\">78</td><td style = \"text-align: right;\">2702</td><td style = \"text-align: right;\">24.2</td><td style = \"text-align: right;\">0.631</td><td style = \"text-align: right;\">0.281</td><td style = \"text-align: right;\">0.366</td><td style = \"text-align: right;\">1.4</td><td style = \"text-align: right;\">17.5</td><td style = \"text-align: right;\">9.8</td><td style = \"text-align: right;\">26.2</td><td style = \"text-align: right;\">1.0</td><td style = \"text-align: right;\">2.6</td><td style = \"text-align: right;\">12.3</td><td style = \"text-align: right;\">29.0</td><td style = \"text-align: right;\">8.6</td><td style = \"text-align: right;\">2.9</td><td style = \"text-align: right;\">11.5</td><td style = \"text-align: right;\">0.204</td><td style = \"text-align: right;\">4.2</td><td style = \"text-align: right;\">0.1</td><td style = \"text-align: right;\">4.3</td><td style = \"text-align: right;\">4.3</td><td style = \"text-align: right;\">1</td><td style = \"text-align: right;\">1</td><td style = \"text-align: right;\">1</td><td style = \"text-align: right;\">3</td></tr></tbody></table></div>"
      ],
      "text/latex": [
       "\\begin{tabular}{r|cccccccccc}\n",
       "\t& ID & Player & Username & Pos & Age & Tm & G & MP & PER & \\\\\n",
       "\t\\hline\n",
       "\t& Int64 & String31 & String15 & String7 & Int64 & String3 & Int64 & Int64 & Float64 & \\\\\n",
       "\t\\hline\n",
       "\t1 & 206 & James Harden & hardeja01 & PG & 29 & HOU & 78 & 2867 & 30.6 & $\\dots$ \\\\\n",
       "\t2 & 126 & Anthony Davis & davisan02 & C & 25 & NOP & 56 & 1850 & 30.3 & $\\dots$ \\\\\n",
       "\t3 & 301 & Kawhi Leonard & leonaka01 & SF & 27 & TOR & 60 & 2040 & 25.8 & $\\dots$ \\\\\n",
       "\t4 & 258 & LeBron James & jamesle01 & SF & 34 & LAL & 55 & 1937 & 25.6 & $\\dots$ \\\\\n",
       "\t5 & 124 & Stephen Curry & curryst01 & PG & 30 & GSW & 69 & 2331 & 24.4 & $\\dots$ \\\\\n",
       "\t6 & 150 & Kevin Durant & duranke01 & SF & 30 & GSW & 78 & 2702 & 24.2 & $\\dots$ \\\\\n",
       "\\end{tabular}\n"
      ],
      "text/plain": [
       "\u001b[1m6×32 DataFrame\u001b[0m\n",
       "\u001b[1m Row \u001b[0m│\u001b[1m ID    \u001b[0m\u001b[1m Player        \u001b[0m\u001b[1m Username  \u001b[0m\u001b[1m Pos     \u001b[0m\u001b[1m Age   \u001b[0m\u001b[1m Tm      \u001b[0m\u001b[1m G     \u001b[0m\u001b[1m MP    \u001b[0m\u001b[1m\u001b[0m ⋯\n",
       "     │\u001b[90m Int64 \u001b[0m\u001b[90m String31      \u001b[0m\u001b[90m String15  \u001b[0m\u001b[90m String7 \u001b[0m\u001b[90m Int64 \u001b[0m\u001b[90m String3 \u001b[0m\u001b[90m Int64 \u001b[0m\u001b[90m Int64 \u001b[0m\u001b[90m\u001b[0m ⋯\n",
       "─────┼──────────────────────────────────────────────────────────────────────────\n",
       "   1 │   206  James Harden   hardeja01  PG          29  HOU         78   2867  ⋯\n",
       "   2 │   126  Anthony Davis  davisan02  C           25  NOP         56   1850\n",
       "   3 │   301  Kawhi Leonard  leonaka01  SF          27  TOR         60   2040\n",
       "   4 │   258  LeBron James   jamesle01  SF          34  LAL         55   1937\n",
       "   5 │   124  Stephen Curry  curryst01  PG          30  GSW         69   2331  ⋯\n",
       "   6 │   150  Kevin Durant   duranke01  SF          30  GSW         78   2702\n",
       "\u001b[36m                                                              24 columns omitted\u001b[0m"
      ]
     },
     "metadata": {},
     "output_type": "display_data"
    }
   ],
   "source": [
    "subset(\n",
    "    df, # First argument is the DataFrame\n",
    "    # Subsequent arguments are columns that you select based on, and the conditions\n",
    "    # The syntax is: column name => filtering function\n",
    "    :PER => (x -> x .> 24),\n",
    "    :OlympicsFinalist => (x -> x .== 1),\n",
    ")"
   ]
  },
  {
   "cell_type": "markdown",
   "metadata": {},
   "source": [
    "Another example is selecting columns based on a condition:"
   ]
  },
  {
   "cell_type": "code",
   "execution_count": null,
   "metadata": {},
   "outputs": [],
   "source": [
    "df[:, Not([:ID, :Username])] # All columns except :ID and :Username"
   ]
  },
  {
   "cell_type": "code",
   "execution_count": 161,
   "metadata": {},
   "outputs": [
    {
     "data": {
      "text/html": [
       "<div><div style = \"float: left;\"><span>200×25 DataFrame</span></div><div style = \"float: right;\"><span style = \"font-style: italic;\">175 rows omitted</span></div><div style = \"clear: both;\"></div></div><div class = \"data-frame\" style = \"overflow-x: scroll;\"><table class = \"data-frame\" style = \"margin-bottom: 6px;\"><thead><tr class = \"header\"><th class = \"rowNumber\" style = \"font-weight: bold; text-align: right;\">Row</th><th style = \"text-align: left;\">Pos</th><th style = \"text-align: left;\">Age</th><th style = \"text-align: left;\">Tm</th><th style = \"text-align: left;\">G</th><th style = \"text-align: left;\">MP</th><th style = \"text-align: left;\">PER</th><th style = \"text-align: left;\">TS.</th><th style = \"text-align: left;\">X3PAr</th><th style = \"text-align: left;\">FTr</th><th style = \"text-align: left;\">ORB.</th><th style = \"text-align: left;\">DRB.</th><th style = \"text-align: left;\">TRB.</th><th style = \"text-align: left;\">AST.</th><th style = \"text-align: left;\">STL.</th><th style = \"text-align: left;\">BLK.</th><th style = \"text-align: left;\">TOV.</th><th style = \"text-align: left;\">USG.</th><th style = \"text-align: left;\">OWS</th><th style = \"text-align: left;\">DWS</th><th style = \"text-align: left;\">WS</th><th style = \"text-align: left;\">WS_48</th><th style = \"text-align: left;\">OBPM</th><th style = \"text-align: left;\">DBPM</th><th style = \"text-align: left;\">BPM</th><th style = \"text-align: left;\">VORP</th></tr><tr class = \"subheader headerLastRow\"><th class = \"rowNumber\" style = \"font-weight: bold; text-align: right;\"></th><th title = \"String7\" style = \"text-align: left;\">String7</th><th title = \"Int64\" style = \"text-align: left;\">Int64</th><th title = \"String3\" style = \"text-align: left;\">String3</th><th title = \"Int64\" style = \"text-align: left;\">Int64</th><th title = \"Int64\" style = \"text-align: left;\">Int64</th><th title = \"Float64\" style = \"text-align: left;\">Float64</th><th title = \"Float64\" style = \"text-align: left;\">Float64</th><th title = \"Float64\" style = \"text-align: left;\">Float64</th><th title = \"Float64\" style = \"text-align: left;\">Float64</th><th title = \"Float64\" style = \"text-align: left;\">Float64</th><th title = \"Float64\" style = \"text-align: left;\">Float64</th><th title = \"Float64\" style = \"text-align: left;\">Float64</th><th title = \"Float64\" style = \"text-align: left;\">Float64</th><th title = \"Float64\" style = \"text-align: left;\">Float64</th><th title = \"Float64\" style = \"text-align: left;\">Float64</th><th title = \"Float64\" style = \"text-align: left;\">Float64</th><th title = \"Float64\" style = \"text-align: left;\">Float64</th><th title = \"Float64\" style = \"text-align: left;\">Float64</th><th title = \"Float64\" style = \"text-align: left;\">Float64</th><th title = \"Float64\" style = \"text-align: left;\">Float64</th><th title = \"Float64\" style = \"text-align: left;\">Float64</th><th title = \"Float64\" style = \"text-align: left;\">Float64</th><th title = \"Float64\" style = \"text-align: left;\">Float64</th><th title = \"Float64\" style = \"text-align: left;\">Float64</th><th title = \"Float64\" style = \"text-align: left;\">Float64</th></tr></thead><tbody><tr><td class = \"rowNumber\" style = \"font-weight: bold; text-align: right;\">1</td><td style = \"text-align: left;\">PF</td><td style = \"text-align: right;\">21</td><td style = \"text-align: left;\">ATL</td><td style = \"text-align: right;\">61</td><td style = \"text-align: right;\">1829</td><td style = \"text-align: right;\">21.8</td><td style = \"text-align: right;\">0.627</td><td style = \"text-align: right;\">0.19</td><td style = \"text-align: right;\">0.32</td><td style = \"text-align: right;\">12.3</td><td style = \"text-align: right;\">22.1</td><td style = \"text-align: right;\">17.1</td><td style = \"text-align: right;\">11.0</td><td style = \"text-align: right;\">0.6</td><td style = \"text-align: right;\">1.8</td><td style = \"text-align: right;\">11.2</td><td style = \"text-align: right;\">23.7</td><td style = \"text-align: right;\">5.0</td><td style = \"text-align: right;\">1.0</td><td style = \"text-align: right;\">6.0</td><td style = \"text-align: right;\">0.158</td><td style = \"text-align: right;\">2.6</td><td style = \"text-align: right;\">-1.2</td><td style = \"text-align: right;\">1.4</td><td style = \"text-align: right;\">1.6</td></tr><tr><td class = \"rowNumber\" style = \"font-weight: bold; text-align: right;\">2</td><td style = \"text-align: left;\">PG</td><td style = \"text-align: right;\">20</td><td style = \"text-align: left;\">ATL</td><td style = \"text-align: right;\">81</td><td style = \"text-align: right;\">2503</td><td style = \"text-align: right;\">17.0</td><td style = \"text-align: right;\">0.539</td><td style = \"text-align: right;\">0.384</td><td style = \"text-align: right;\">0.33</td><td style = \"text-align: right;\">2.6</td><td style = \"text-align: right;\">10.2</td><td style = \"text-align: right;\">6.3</td><td style = \"text-align: right;\">40.5</td><td style = \"text-align: right;\">1.3</td><td style = \"text-align: right;\">0.5</td><td style = \"text-align: right;\">17.6</td><td style = \"text-align: right;\">28.4</td><td style = \"text-align: right;\">2.5</td><td style = \"text-align: right;\">0.7</td><td style = \"text-align: right;\">3.3</td><td style = \"text-align: right;\">0.062</td><td style = \"text-align: right;\">1.8</td><td style = \"text-align: right;\">-2.8</td><td style = \"text-align: right;\">-1.1</td><td style = \"text-align: right;\">0.6</td></tr><tr><td class = \"rowNumber\" style = \"font-weight: bold; text-align: right;\">3</td><td style = \"text-align: left;\">C</td><td style = \"text-align: right;\">29</td><td style = \"text-align: left;\">ATL</td><td style = \"text-align: right;\">64</td><td style = \"text-align: right;\">1609</td><td style = \"text-align: right;\">16.0</td><td style = \"text-align: right;\">0.602</td><td style = \"text-align: right;\">0.413</td><td style = \"text-align: right;\">0.215</td><td style = \"text-align: right;\">6.7</td><td style = \"text-align: right;\">25.0</td><td style = \"text-align: right;\">15.7</td><td style = \"text-align: right;\">8.1</td><td style = \"text-align: right;\">2.0</td><td style = \"text-align: right;\">3.8</td><td style = \"text-align: right;\">12.7</td><td style = \"text-align: right;\">16.7</td><td style = \"text-align: right;\">2.1</td><td style = \"text-align: right;\">1.9</td><td style = \"text-align: right;\">4.0</td><td style = \"text-align: right;\">0.119</td><td style = \"text-align: right;\">-0.4</td><td style = \"text-align: right;\">1.7</td><td style = \"text-align: right;\">1.3</td><td style = \"text-align: right;\">1.3</td></tr><tr><td class = \"rowNumber\" style = \"font-weight: bold; text-align: right;\">4</td><td style = \"text-align: left;\">SG</td><td style = \"text-align: right;\">29</td><td style = \"text-align: left;\">ATL</td><td style = \"text-align: right;\">67</td><td style = \"text-align: right;\">1643</td><td style = \"text-align: right;\">11.9</td><td style = \"text-align: right;\">0.507</td><td style = \"text-align: right;\">0.434</td><td style = \"text-align: right;\">0.253</td><td style = \"text-align: right;\">2.3</td><td style = \"text-align: right;\">14.6</td><td style = \"text-align: right;\">8.3</td><td style = \"text-align: right;\">13.5</td><td style = \"text-align: right;\">2.5</td><td style = \"text-align: right;\">2.2</td><td style = \"text-align: right;\">13.6</td><td style = \"text-align: right;\">22.0</td><td style = \"text-align: right;\">-0.7</td><td style = \"text-align: right;\">1.4</td><td style = \"text-align: right;\">0.7</td><td style = \"text-align: right;\">0.021</td><td style = \"text-align: right;\">-2.2</td><td style = \"text-align: right;\">0.0</td><td style = \"text-align: right;\">-2.2</td><td style = \"text-align: right;\">-0.1</td></tr><tr><td class = \"rowNumber\" style = \"font-weight: bold; text-align: right;\">5</td><td style = \"text-align: left;\">PF</td><td style = \"text-align: right;\">42</td><td style = \"text-align: left;\">ATL</td><td style = \"text-align: right;\">76</td><td style = \"text-align: right;\">1330</td><td style = \"text-align: right;\">11.8</td><td style = \"text-align: right;\">0.565</td><td style = \"text-align: right;\">0.675</td><td style = \"text-align: right;\">0.141</td><td style = \"text-align: right;\">2.4</td><td style = \"text-align: right;\">13.2</td><td style = \"text-align: right;\">7.7</td><td style = \"text-align: right;\">9.3</td><td style = \"text-align: right;\">1.5</td><td style = \"text-align: right;\">1.8</td><td style = \"text-align: right;\">8.8</td><td style = \"text-align: right;\">16.7</td><td style = \"text-align: right;\">1.2</td><td style = \"text-align: right;\">0.7</td><td style = \"text-align: right;\">1.9</td><td style = \"text-align: right;\">0.07</td><td style = \"text-align: right;\">-0.2</td><td style = \"text-align: right;\">-1.4</td><td style = \"text-align: right;\">-1.6</td><td style = \"text-align: right;\">0.1</td></tr><tr><td class = \"rowNumber\" style = \"font-weight: bold; text-align: right;\">6</td><td style = \"text-align: left;\">SG</td><td style = \"text-align: right;\">24</td><td style = \"text-align: left;\">ATL</td><td style = \"text-align: right;\">82</td><td style = \"text-align: right;\">1931</td><td style = \"text-align: right;\">10.8</td><td style = \"text-align: right;\">0.508</td><td style = \"text-align: right;\">0.281</td><td style = \"text-align: right;\">0.221</td><td style = \"text-align: right;\">2.9</td><td style = \"text-align: right;\">16.9</td><td style = \"text-align: right;\">9.7</td><td style = \"text-align: right;\">14.7</td><td style = \"text-align: right;\">2.5</td><td style = \"text-align: right;\">1.8</td><td style = \"text-align: right;\">17.4</td><td style = \"text-align: right;\">17.2</td><td style = \"text-align: right;\">-0.9</td><td style = \"text-align: right;\">1.7</td><td style = \"text-align: right;\">0.9</td><td style = \"text-align: right;\">0.022</td><td style = \"text-align: right;\">-3.3</td><td style = \"text-align: right;\">1.1</td><td style = \"text-align: right;\">-2.2</td><td style = \"text-align: right;\">-0.1</td></tr><tr><td class = \"rowNumber\" style = \"font-weight: bold; text-align: right;\">7</td><td style = \"text-align: left;\">SG</td><td style = \"text-align: right;\">20</td><td style = \"text-align: left;\">ATL</td><td style = \"text-align: right;\">75</td><td style = \"text-align: right;\">2048</td><td style = \"text-align: right;\">10.1</td><td style = \"text-align: right;\">0.533</td><td style = \"text-align: right;\">0.537</td><td style = \"text-align: right;\">0.085</td><td style = \"text-align: right;\">3.0</td><td style = \"text-align: right;\">9.7</td><td style = \"text-align: right;\">6.3</td><td style = \"text-align: right;\">14.5</td><td style = \"text-align: right;\">1.5</td><td style = \"text-align: right;\">1.1</td><td style = \"text-align: right;\">13.8</td><td style = \"text-align: right;\">15.7</td><td style = \"text-align: right;\">0.7</td><td style = \"text-align: right;\">0.7</td><td style = \"text-align: right;\">1.5</td><td style = \"text-align: right;\">0.034</td><td style = \"text-align: right;\">-0.9</td><td style = \"text-align: right;\">-1.0</td><td style = \"text-align: right;\">-1.9</td><td style = \"text-align: right;\">0.1</td></tr><tr><td class = \"rowNumber\" style = \"font-weight: bold; text-align: right;\">8</td><td style = \"text-align: left;\">PF</td><td style = \"text-align: right;\">28</td><td style = \"text-align: left;\">BOS</td><td style = \"text-align: right;\">72</td><td style = \"text-align: right;\">1863</td><td style = \"text-align: right;\">15.6</td><td style = \"text-align: right;\">0.575</td><td style = \"text-align: right;\">0.364</td><td style = \"text-align: right;\">0.294</td><td style = \"text-align: right;\">2.9</td><td style = \"text-align: right;\">15.5</td><td style = \"text-align: right;\">9.2</td><td style = \"text-align: right;\">18.4</td><td style = \"text-align: right;\">1.6</td><td style = \"text-align: right;\">1.1</td><td style = \"text-align: right;\">12.8</td><td style = \"text-align: right;\">19.0</td><td style = \"text-align: right;\">2.6</td><td style = \"text-align: right;\">2.3</td><td style = \"text-align: right;\">4.9</td><td style = \"text-align: right;\">0.126</td><td style = \"text-align: right;\">0.1</td><td style = \"text-align: right;\">0.4</td><td style = \"text-align: right;\">0.5</td><td style = \"text-align: right;\">1.2</td></tr><tr><td class = \"rowNumber\" style = \"font-weight: bold; text-align: right;\">9</td><td style = \"text-align: left;\">SF</td><td style = \"text-align: right;\">20</td><td style = \"text-align: left;\">BOS</td><td style = \"text-align: right;\">79</td><td style = \"text-align: right;\">2455</td><td style = \"text-align: right;\">15.1</td><td style = \"text-align: right;\">0.547</td><td style = \"text-align: right;\">0.3</td><td style = \"text-align: right;\">0.22</td><td style = \"text-align: right;\">3.0</td><td style = \"text-align: right;\">17.7</td><td style = \"text-align: right;\">10.4</td><td style = \"text-align: right;\">10.0</td><td style = \"text-align: right;\">1.6</td><td style = \"text-align: right;\">2.1</td><td style = \"text-align: right;\">9.7</td><td style = \"text-align: right;\">22.1</td><td style = \"text-align: right;\">1.6</td><td style = \"text-align: right;\">3.4</td><td style = \"text-align: right;\">5.0</td><td style = \"text-align: right;\">0.097</td><td style = \"text-align: right;\">-1.4</td><td style = \"text-align: right;\">0.6</td><td style = \"text-align: right;\">-0.8</td><td style = \"text-align: right;\">0.8</td></tr><tr><td class = \"rowNumber\" style = \"font-weight: bold; text-align: right;\">10</td><td style = \"text-align: left;\">PF</td><td style = \"text-align: right;\">29</td><td style = \"text-align: left;\">BOS</td><td style = \"text-align: right;\">75</td><td style = \"text-align: right;\">2091</td><td style = \"text-align: right;\">14.2</td><td style = \"text-align: right;\">0.568</td><td style = \"text-align: right;\">0.461</td><td style = \"text-align: right;\">0.205</td><td style = \"text-align: right;\">3.9</td><td style = \"text-align: right;\">19.5</td><td style = \"text-align: right;\">11.7</td><td style = \"text-align: right;\">7.5</td><td style = \"text-align: right;\">1.0</td><td style = \"text-align: right;\">1.1</td><td style = \"text-align: right;\">9.1</td><td style = \"text-align: right;\">20.9</td><td style = \"text-align: right;\">2.1</td><td style = \"text-align: right;\">2.5</td><td style = \"text-align: right;\">4.5</td><td style = \"text-align: right;\">0.104</td><td style = \"text-align: right;\">-0.4</td><td style = \"text-align: right;\">-1.0</td><td style = \"text-align: right;\">-1.4</td><td style = \"text-align: right;\">0.3</td></tr><tr><td class = \"rowNumber\" style = \"font-weight: bold; text-align: right;\">11</td><td style = \"text-align: left;\">SG</td><td style = \"text-align: right;\">22</td><td style = \"text-align: left;\">BOS</td><td style = \"text-align: right;\">74</td><td style = \"text-align: right;\">1913</td><td style = \"text-align: right;\">13.5</td><td style = \"text-align: right;\">0.547</td><td style = \"text-align: right;\">0.348</td><td style = \"text-align: right;\">0.255</td><td style = \"text-align: right;\">3.6</td><td style = \"text-align: right;\">13.9</td><td style = \"text-align: right;\">8.7</td><td style = \"text-align: right;\">7.7</td><td style = \"text-align: right;\">1.7</td><td style = \"text-align: right;\">1.5</td><td style = \"text-align: right;\">10.1</td><td style = \"text-align: right;\">22.1</td><td style = \"text-align: right;\">0.7</td><td style = \"text-align: right;\">2.4</td><td style = \"text-align: right;\">3.0</td><td style = \"text-align: right;\">0.076</td><td style = \"text-align: right;\">-1.5</td><td style = \"text-align: right;\">-0.6</td><td style = \"text-align: right;\">-2.1</td><td style = \"text-align: right;\">0.0</td></tr><tr><td class = \"rowNumber\" style = \"font-weight: bold; text-align: right;\">12</td><td style = \"text-align: left;\">SG</td><td style = \"text-align: right;\">24</td><td style = \"text-align: left;\">BOS</td><td style = \"text-align: right;\">80</td><td style = \"text-align: right;\">2200</td><td style = \"text-align: right;\">13.1</td><td style = \"text-align: right;\">0.568</td><td style = \"text-align: right;\">0.61</td><td style = \"text-align: right;\">0.228</td><td style = \"text-align: right;\">2.8</td><td style = \"text-align: right;\">8.6</td><td style = \"text-align: right;\">5.7</td><td style = \"text-align: right;\">19.1</td><td style = \"text-align: right;\">3.1</td><td style = \"text-align: right;\">1.1</td><td style = \"text-align: right;\">16.5</td><td style = \"text-align: right;\">14.6</td><td style = \"text-align: right;\">2.2</td><td style = \"text-align: right;\">3.1</td><td style = \"text-align: right;\">5.3</td><td style = \"text-align: right;\">0.116</td><td style = \"text-align: right;\">0.6</td><td style = \"text-align: right;\">1.3</td><td style = \"text-align: right;\">1.8</td><td style = \"text-align: right;\">2.1</td></tr><tr><td class = \"rowNumber\" style = \"font-weight: bold; text-align: right;\">13</td><td style = \"text-align: left;\">PG</td><td style = \"text-align: right;\">24</td><td style = \"text-align: left;\">BOS</td><td style = \"text-align: right;\">79</td><td style = \"text-align: right;\">1791</td><td style = \"text-align: right;\">12.9</td><td style = \"text-align: right;\">0.501</td><td style = \"text-align: right;\">0.506</td><td style = \"text-align: right;\">0.14</td><td style = \"text-align: right;\">1.9</td><td style = \"text-align: right;\">16.4</td><td style = \"text-align: right;\">9.1</td><td style = \"text-align: right;\">17.7</td><td style = \"text-align: right;\">1.8</td><td style = \"text-align: right;\">1.0</td><td style = \"text-align: right;\">8.8</td><td style = \"text-align: right;\">18.6</td><td style = \"text-align: right;\">0.9</td><td style = \"text-align: right;\">2.3</td><td style = \"text-align: right;\">3.2</td><td style = \"text-align: right;\">0.086</td><td style = \"text-align: right;\">-1.0</td><td style = \"text-align: right;\">0.2</td><td style = \"text-align: right;\">-0.7</td><td style = \"text-align: right;\">0.6</td></tr><tr><td style = \"text-align: right;\">&vellip;</td><td style = \"text-align: right;\">&vellip;</td><td style = \"text-align: right;\">&vellip;</td><td style = \"text-align: right;\">&vellip;</td><td style = \"text-align: right;\">&vellip;</td><td style = \"text-align: right;\">&vellip;</td><td style = \"text-align: right;\">&vellip;</td><td style = \"text-align: right;\">&vellip;</td><td style = \"text-align: right;\">&vellip;</td><td style = \"text-align: right;\">&vellip;</td><td style = \"text-align: right;\">&vellip;</td><td style = \"text-align: right;\">&vellip;</td><td style = \"text-align: right;\">&vellip;</td><td style = \"text-align: right;\">&vellip;</td><td style = \"text-align: right;\">&vellip;</td><td style = \"text-align: right;\">&vellip;</td><td style = \"text-align: right;\">&vellip;</td><td style = \"text-align: right;\">&vellip;</td><td style = \"text-align: right;\">&vellip;</td><td style = \"text-align: right;\">&vellip;</td><td style = \"text-align: right;\">&vellip;</td><td style = \"text-align: right;\">&vellip;</td><td style = \"text-align: right;\">&vellip;</td><td style = \"text-align: right;\">&vellip;</td><td style = \"text-align: right;\">&vellip;</td><td style = \"text-align: right;\">&vellip;</td></tr><tr><td class = \"rowNumber\" style = \"font-weight: bold; text-align: right;\">189</td><td style = \"text-align: left;\">SG</td><td style = \"text-align: right;\">32</td><td style = \"text-align: left;\">TOT</td><td style = \"text-align: right;\">75</td><td style = \"text-align: right;\">2040</td><td style = \"text-align: right;\">8.5</td><td style = \"text-align: right;\">0.543</td><td style = \"text-align: right;\">0.535</td><td style = \"text-align: right;\">0.217</td><td style = \"text-align: right;\">1.5</td><td style = \"text-align: right;\">10.2</td><td style = \"text-align: right;\">5.8</td><td style = \"text-align: right;\">7.4</td><td style = \"text-align: right;\">1.8</td><td style = \"text-align: right;\">1.4</td><td style = \"text-align: right;\">11.5</td><td style = \"text-align: right;\">13.2</td><td style = \"text-align: right;\">0.3</td><td style = \"text-align: right;\">2.0</td><td style = \"text-align: right;\">2.2</td><td style = \"text-align: right;\">0.052</td><td style = \"text-align: right;\">-1.7</td><td style = \"text-align: right;\">0.6</td><td style = \"text-align: right;\">-1.2</td><td style = \"text-align: right;\">0.4</td></tr><tr><td class = \"rowNumber\" style = \"font-weight: bold; text-align: right;\">190</td><td style = \"text-align: left;\">SG</td><td style = \"text-align: right;\">24</td><td style = \"text-align: left;\">TOT</td><td style = \"text-align: right;\">75</td><td style = \"text-align: right;\">1439</td><td style = \"text-align: right;\">8.3</td><td style = \"text-align: right;\">0.491</td><td style = \"text-align: right;\">0.36</td><td style = \"text-align: right;\">0.19</td><td style = \"text-align: right;\">2.8</td><td style = \"text-align: right;\">11.0</td><td style = \"text-align: right;\">6.9</td><td style = \"text-align: right;\">11.3</td><td style = \"text-align: right;\">1.1</td><td style = \"text-align: right;\">0.8</td><td style = \"text-align: right;\">13.1</td><td style = \"text-align: right;\">18.4</td><td style = \"text-align: right;\">-1.0</td><td style = \"text-align: right;\">0.8</td><td style = \"text-align: right;\">-0.3</td><td style = \"text-align: right;\">-0.009</td><td style = \"text-align: right;\">-3.5</td><td style = \"text-align: right;\">-1.6</td><td style = \"text-align: right;\">-5.1</td><td style = \"text-align: right;\">-1.1</td></tr><tr><td class = \"rowNumber\" style = \"font-weight: bold; text-align: right;\">191</td><td style = \"text-align: left;\">SG</td><td style = \"text-align: right;\">26</td><td style = \"text-align: left;\">TOT</td><td style = \"text-align: right;\">76</td><td style = \"text-align: right;\">2028</td><td style = \"text-align: right;\">7.7</td><td style = \"text-align: right;\">0.503</td><td style = \"text-align: right;\">0.572</td><td style = \"text-align: right;\">0.166</td><td style = \"text-align: right;\">1.3</td><td style = \"text-align: right;\">7.5</td><td style = \"text-align: right;\">4.4</td><td style = \"text-align: right;\">11.5</td><td style = \"text-align: right;\">1.1</td><td style = \"text-align: right;\">1.0</td><td style = \"text-align: right;\">10.0</td><td style = \"text-align: right;\">14.5</td><td style = \"text-align: right;\">0.4</td><td style = \"text-align: right;\">0.8</td><td style = \"text-align: right;\">1.2</td><td style = \"text-align: right;\">0.028</td><td style = \"text-align: right;\">-2.0</td><td style = \"text-align: right;\">-1.5</td><td style = \"text-align: right;\">-3.5</td><td style = \"text-align: right;\">-0.7</td></tr><tr><td class = \"rowNumber\" style = \"font-weight: bold; text-align: right;\">192</td><td style = \"text-align: left;\">SG</td><td style = \"text-align: right;\">28</td><td style = \"text-align: left;\">TOT</td><td style = \"text-align: right;\">63</td><td style = \"text-align: right;\">1905</td><td style = \"text-align: right;\">7.6</td><td style = \"text-align: right;\">0.496</td><td style = \"text-align: right;\">0.403</td><td style = \"text-align: right;\">0.082</td><td style = \"text-align: right;\">2.5</td><td style = \"text-align: right;\">7.3</td><td style = \"text-align: right;\">4.9</td><td style = \"text-align: right;\">11.8</td><td style = \"text-align: right;\">1.0</td><td style = \"text-align: right;\">0.7</td><td style = \"text-align: right;\">12.4</td><td style = \"text-align: right;\">16.2</td><td style = \"text-align: right;\">-0.6</td><td style = \"text-align: right;\">1.0</td><td style = \"text-align: right;\">0.3</td><td style = \"text-align: right;\">0.009</td><td style = \"text-align: right;\">-1.7</td><td style = \"text-align: right;\">-1.0</td><td style = \"text-align: right;\">-2.8</td><td style = \"text-align: right;\">-0.4</td></tr><tr><td class = \"rowNumber\" style = \"font-weight: bold; text-align: right;\">193</td><td style = \"text-align: left;\">C</td><td style = \"text-align: right;\">27</td><td style = \"text-align: left;\">UTA</td><td style = \"text-align: right;\">76</td><td style = \"text-align: right;\">1766</td><td style = \"text-align: right;\">21.8</td><td style = \"text-align: right;\">0.624</td><td style = \"text-align: right;\">0.126</td><td style = \"text-align: right;\">0.368</td><td style = \"text-align: right;\">12.9</td><td style = \"text-align: right;\">21.3</td><td style = \"text-align: right;\">17.2</td><td style = \"text-align: right;\">8.0</td><td style = \"text-align: right;\">1.5</td><td style = \"text-align: right;\">4.8</td><td style = \"text-align: right;\">10.5</td><td style = \"text-align: right;\">19.4</td><td style = \"text-align: right;\">4.4</td><td style = \"text-align: right;\">3.5</td><td style = \"text-align: right;\">7.9</td><td style = \"text-align: right;\">0.215</td><td style = \"text-align: right;\">1.1</td><td style = \"text-align: right;\">3.2</td><td style = \"text-align: right;\">4.3</td><td style = \"text-align: right;\">2.8</td></tr><tr><td class = \"rowNumber\" style = \"font-weight: bold; text-align: right;\">194</td><td style = \"text-align: left;\">SG</td><td style = \"text-align: right;\">22</td><td style = \"text-align: left;\">UTA</td><td style = \"text-align: right;\">77</td><td style = \"text-align: right;\">2598</td><td style = \"text-align: right;\">17.2</td><td style = \"text-align: right;\">0.537</td><td style = \"text-align: right;\">0.339</td><td style = \"text-align: right;\">0.259</td><td style = \"text-align: right;\">2.5</td><td style = \"text-align: right;\">10.5</td><td style = \"text-align: right;\">6.6</td><td style = \"text-align: right;\">21.2</td><td style = \"text-align: right;\">2.0</td><td style = \"text-align: right;\">0.9</td><td style = \"text-align: right;\">11.3</td><td style = \"text-align: right;\">31.6</td><td style = \"text-align: right;\">1.3</td><td style = \"text-align: right;\">3.7</td><td style = \"text-align: right;\">5.0</td><td style = \"text-align: right;\">0.092</td><td style = \"text-align: right;\">0.8</td><td style = \"text-align: right;\">-0.2</td><td style = \"text-align: right;\">0.6</td><td style = \"text-align: right;\">1.7</td></tr><tr><td class = \"rowNumber\" style = \"font-weight: bold; text-align: right;\">195</td><td style = \"text-align: left;\">SF</td><td style = \"text-align: right;\">28</td><td style = \"text-align: left;\">UTA</td><td style = \"text-align: right;\">80</td><td style = \"text-align: right;\">2166</td><td style = \"text-align: right;\">12.1</td><td style = \"text-align: right;\">0.538</td><td style = \"text-align: right;\">0.655</td><td style = \"text-align: right;\">0.247</td><td style = \"text-align: right;\">3.1</td><td style = \"text-align: right;\">15.9</td><td style = \"text-align: right;\">9.6</td><td style = \"text-align: right;\">8.9</td><td style = \"text-align: right;\">1.4</td><td style = \"text-align: right;\">1.1</td><td style = \"text-align: right;\">8.8</td><td style = \"text-align: right;\">19.1</td><td style = \"text-align: right;\">1.3</td><td style = \"text-align: right;\">3.1</td><td style = \"text-align: right;\">4.4</td><td style = \"text-align: right;\">0.097</td><td style = \"text-align: right;\">0.0</td><td style = \"text-align: right;\">0.4</td><td style = \"text-align: right;\">0.4</td><td style = \"text-align: right;\">1.3</td></tr><tr><td class = \"rowNumber\" style = \"font-weight: bold; text-align: right;\">196</td><td style = \"text-align: left;\">SF</td><td style = \"text-align: right;\">25</td><td style = \"text-align: left;\">UTA</td><td style = \"text-align: right;\">82</td><td style = \"text-align: right;\">1671</td><td style = \"text-align: right;\">9.0</td><td style = \"text-align: right;\">0.589</td><td style = \"text-align: right;\">0.513</td><td style = \"text-align: right;\">0.122</td><td style = \"text-align: right;\">1.5</td><td style = \"text-align: right;\">16.7</td><td style = \"text-align: right;\">9.2</td><td style = \"text-align: right;\">10.0</td><td style = \"text-align: right;\">1.5</td><td style = \"text-align: right;\">1.1</td><td style = \"text-align: right;\">16.2</td><td style = \"text-align: right;\">11.0</td><td style = \"text-align: right;\">0.7</td><td style = \"text-align: right;\">2.5</td><td style = \"text-align: right;\">3.3</td><td style = \"text-align: right;\">0.094</td><td style = \"text-align: right;\">-2.0</td><td style = \"text-align: right;\">2.1</td><td style = \"text-align: right;\">0.1</td><td style = \"text-align: right;\">0.9</td></tr><tr><td class = \"rowNumber\" style = \"font-weight: bold; text-align: right;\">197</td><td style = \"text-align: left;\">C</td><td style = \"text-align: right;\">21</td><td style = \"text-align: left;\">WAS</td><td style = \"text-align: right;\">72</td><td style = \"text-align: right;\">1496</td><td style = \"text-align: right;\">21.0</td><td style = \"text-align: right;\">0.674</td><td style = \"text-align: right;\">0.197</td><td style = \"text-align: right;\">0.273</td><td style = \"text-align: right;\">8.1</td><td style = \"text-align: right;\">25.1</td><td style = \"text-align: right;\">16.5</td><td style = \"text-align: right;\">9.3</td><td style = \"text-align: right;\">0.8</td><td style = \"text-align: right;\">3.8</td><td style = \"text-align: right;\">9.6</td><td style = \"text-align: right;\">17.6</td><td style = \"text-align: right;\">4.3</td><td style = \"text-align: right;\">1.3</td><td style = \"text-align: right;\">5.6</td><td style = \"text-align: right;\">0.178</td><td style = \"text-align: right;\">1.2</td><td style = \"text-align: right;\">0.4</td><td style = \"text-align: right;\">1.6</td><td style = \"text-align: right;\">1.3</td></tr><tr><td class = \"rowNumber\" style = \"font-weight: bold; text-align: right;\">198</td><td style = \"text-align: left;\">SG</td><td style = \"text-align: right;\">25</td><td style = \"text-align: left;\">WAS</td><td style = \"text-align: right;\">82</td><td style = \"text-align: right;\">3028</td><td style = \"text-align: right;\">20.8</td><td style = \"text-align: right;\">0.581</td><td style = \"text-align: right;\">0.37</td><td style = \"text-align: right;\">0.278</td><td style = \"text-align: right;\">3.1</td><td style = \"text-align: right;\">11.7</td><td style = \"text-align: right;\">7.4</td><td style = \"text-align: right;\">24.1</td><td style = \"text-align: right;\">1.9</td><td style = \"text-align: right;\">1.6</td><td style = \"text-align: right;\">11.0</td><td style = \"text-align: right;\">28.4</td><td style = \"text-align: right;\">5.9</td><td style = \"text-align: right;\">1.7</td><td style = \"text-align: right;\">7.6</td><td style = \"text-align: right;\">0.12</td><td style = \"text-align: right;\">3.9</td><td style = \"text-align: right;\">-1.1</td><td style = \"text-align: right;\">2.8</td><td style = \"text-align: right;\">3.7</td></tr><tr><td class = \"rowNumber\" style = \"font-weight: bold; text-align: right;\">199</td><td style = \"text-align: left;\">C</td><td style = \"text-align: right;\">33</td><td style = \"text-align: left;\">WAS</td><td style = \"text-align: right;\">9</td><td style = \"text-align: right;\">230</td><td style = \"text-align: right;\">17.4</td><td style = \"text-align: right;\">0.638</td><td style = \"text-align: right;\">0.0</td><td style = \"text-align: right;\">0.696</td><td style = \"text-align: right;\">11.1</td><td style = \"text-align: right;\">28.3</td><td style = \"text-align: right;\">19.6</td><td style = \"text-align: right;\">2.6</td><td style = \"text-align: right;\">1.4</td><td style = \"text-align: right;\">1.5</td><td style = \"text-align: right;\">15.1</td><td style = \"text-align: right;\">19.6</td><td style = \"text-align: right;\">0.4</td><td style = \"text-align: right;\">0.2</td><td style = \"text-align: right;\">0.6</td><td style = \"text-align: right;\">0.124</td><td style = \"text-align: right;\">-2.9</td><td style = \"text-align: right;\">-2.3</td><td style = \"text-align: right;\">-5.2</td><td style = \"text-align: right;\">-0.2</td></tr><tr><td class = \"rowNumber\" style = \"font-weight: bold; text-align: right;\">200</td><td style = \"text-align: left;\">PF</td><td style = \"text-align: right;\">32</td><td style = \"text-align: left;\">WAS</td><td style = \"text-align: right;\">77</td><td style = \"text-align: right;\">2097</td><td style = \"text-align: right;\">13.6</td><td style = \"text-align: right;\">0.608</td><td style = \"text-align: right;\">0.466</td><td style = \"text-align: right;\">0.3</td><td style = \"text-align: right;\">2.9</td><td style = \"text-align: right;\">13.3</td><td style = \"text-align: right;\">8.0</td><td style = \"text-align: right;\">9.2</td><td style = \"text-align: right;\">1.0</td><td style = \"text-align: right;\">1.6</td><td style = \"text-align: right;\">11.5</td><td style = \"text-align: right;\">17.8</td><td style = \"text-align: right;\">2.8</td><td style = \"text-align: right;\">0.8</td><td style = \"text-align: right;\">3.6</td><td style = \"text-align: right;\">0.083</td><td style = \"text-align: right;\">0.2</td><td style = \"text-align: right;\">-1.4</td><td style = \"text-align: right;\">-1.2</td><td style = \"text-align: right;\">0.4</td></tr></tbody></table></div>"
      ],
      "text/latex": [
       "\\begin{tabular}{r|ccccccccccc}\n",
       "\t& Pos & Age & Tm & G & MP & PER & TS. & X3PAr & FTr & ORB. & \\\\\n",
       "\t\\hline\n",
       "\t& String7 & Int64 & String3 & Int64 & Int64 & Float64 & Float64 & Float64 & Float64 & Float64 & \\\\\n",
       "\t\\hline\n",
       "\t1 & PF & 21 & ATL & 61 & 1829 & 21.8 & 0.627 & 0.19 & 0.32 & 12.3 & $\\dots$ \\\\\n",
       "\t2 & PG & 20 & ATL & 81 & 2503 & 17.0 & 0.539 & 0.384 & 0.33 & 2.6 & $\\dots$ \\\\\n",
       "\t3 & C & 29 & ATL & 64 & 1609 & 16.0 & 0.602 & 0.413 & 0.215 & 6.7 & $\\dots$ \\\\\n",
       "\t4 & SG & 29 & ATL & 67 & 1643 & 11.9 & 0.507 & 0.434 & 0.253 & 2.3 & $\\dots$ \\\\\n",
       "\t5 & PF & 42 & ATL & 76 & 1330 & 11.8 & 0.565 & 0.675 & 0.141 & 2.4 & $\\dots$ \\\\\n",
       "\t6 & SG & 24 & ATL & 82 & 1931 & 10.8 & 0.508 & 0.281 & 0.221 & 2.9 & $\\dots$ \\\\\n",
       "\t7 & SG & 20 & ATL & 75 & 2048 & 10.1 & 0.533 & 0.537 & 0.085 & 3.0 & $\\dots$ \\\\\n",
       "\t8 & PF & 28 & BOS & 72 & 1863 & 15.6 & 0.575 & 0.364 & 0.294 & 2.9 & $\\dots$ \\\\\n",
       "\t9 & SF & 20 & BOS & 79 & 2455 & 15.1 & 0.547 & 0.3 & 0.22 & 3.0 & $\\dots$ \\\\\n",
       "\t10 & PF & 29 & BOS & 75 & 2091 & 14.2 & 0.568 & 0.461 & 0.205 & 3.9 & $\\dots$ \\\\\n",
       "\t11 & SG & 22 & BOS & 74 & 1913 & 13.5 & 0.547 & 0.348 & 0.255 & 3.6 & $\\dots$ \\\\\n",
       "\t12 & SG & 24 & BOS & 80 & 2200 & 13.1 & 0.568 & 0.61 & 0.228 & 2.8 & $\\dots$ \\\\\n",
       "\t13 & PG & 24 & BOS & 79 & 1791 & 12.9 & 0.501 & 0.506 & 0.14 & 1.9 & $\\dots$ \\\\\n",
       "\t14 & PG & 22 & BRK & 81 & 2448 & 19.4 & 0.533 & 0.419 & 0.135 & 2.3 & $\\dots$ \\\\\n",
       "\t15 & C & 20 & BRK & 80 & 2096 & 18.5 & 0.632 & 0.079 & 0.489 & 9.6 & $\\dots$ \\\\\n",
       "\t16 & C & 29 & BRK & 81 & 1446 & 17.3 & 0.632 & 0.007 & 0.536 & 15.8 & $\\dots$ \\\\\n",
       "\t17 & PG & 25 & BRK & 68 & 1914 & 16.3 & 0.58 & 0.447 & 0.43 & 1.4 & $\\dots$ \\\\\n",
       "\t18 & SG & 27 & BRK & 76 & 2293 & 13.5 & 0.645 & 0.516 & 0.178 & 2.4 & $\\dots$ \\\\\n",
       "\t19 & PF & 32 & BRK & 67 & 1703 & 12.1 & 0.546 & 0.539 & 0.421 & 4.2 & $\\dots$ \\\\\n",
       "\t20 & SG & 23 & CHI & 63 & 2171 & 18.7 & 0.574 & 0.283 & 0.33 & 2.0 & $\\dots$ \\\\\n",
       "\t21 & C & 30 & CHI & 74 & 1606 & 15.9 & 0.598 & 0.058 & 0.23 & 9.4 & $\\dots$ \\\\\n",
       "\t22 & SG & 25 & CHI & 73 & 1430 & 12.4 & 0.494 & 0.209 & 0.289 & 2.5 & $\\dots$ \\\\\n",
       "\t23 & PG & 24 & CHI & 81 & 1961 & 11.6 & 0.588 & 0.519 & 0.244 & 1.5 & $\\dots$ \\\\\n",
       "\t24 & PG & 28 & CHO & 82 & 2863 & 21.7 & 0.558 & 0.434 & 0.267 & 1.9 & $\\dots$ \\\\\n",
       "\t$\\dots$ & $\\dots$ & $\\dots$ & $\\dots$ & $\\dots$ & $\\dots$ & $\\dots$ & $\\dots$ & $\\dots$ & $\\dots$ & $\\dots$ &  \\\\\n",
       "\\end{tabular}\n"
      ],
      "text/plain": [
       "\u001b[1m200×25 DataFrame\u001b[0m\n",
       "\u001b[1m Row \u001b[0m│\u001b[1m Pos     \u001b[0m\u001b[1m Age   \u001b[0m\u001b[1m Tm      \u001b[0m\u001b[1m G     \u001b[0m\u001b[1m MP    \u001b[0m\u001b[1m PER     \u001b[0m\u001b[1m TS.     \u001b[0m\u001b[1m X3PAr   \u001b[0m\u001b[1m FTr  \u001b[0m ⋯\n",
       "     │\u001b[90m String7 \u001b[0m\u001b[90m Int64 \u001b[0m\u001b[90m String3 \u001b[0m\u001b[90m Int64 \u001b[0m\u001b[90m Int64 \u001b[0m\u001b[90m Float64 \u001b[0m\u001b[90m Float64 \u001b[0m\u001b[90m Float64 \u001b[0m\u001b[90m Float\u001b[0m ⋯\n",
       "─────┼──────────────────────────────────────────────────────────────────────────\n",
       "   1 │ PF          21  ATL         61   1829     21.8    0.627    0.19     0.3 ⋯\n",
       "   2 │ PG          20  ATL         81   2503     17.0    0.539    0.384    0.3\n",
       "   3 │ C           29  ATL         64   1609     16.0    0.602    0.413    0.2\n",
       "   4 │ SG          29  ATL         67   1643     11.9    0.507    0.434    0.2\n",
       "   5 │ PF          42  ATL         76   1330     11.8    0.565    0.675    0.1 ⋯\n",
       "   6 │ SG          24  ATL         82   1931     10.8    0.508    0.281    0.2\n",
       "   7 │ SG          20  ATL         75   2048     10.1    0.533    0.537    0.0\n",
       "   8 │ PF          28  BOS         72   1863     15.6    0.575    0.364    0.2\n",
       "  ⋮  │    ⋮       ⋮       ⋮       ⋮      ⋮       ⋮        ⋮        ⋮        ⋮  ⋱\n",
       " 194 │ SG          22  UTA         77   2598     17.2    0.537    0.339    0.2 ⋯\n",
       " 195 │ SF          28  UTA         80   2166     12.1    0.538    0.655    0.2\n",
       " 196 │ SF          25  UTA         82   1671      9.0    0.589    0.513    0.1\n",
       " 197 │ C           21  WAS         72   1496     21.0    0.674    0.197    0.2\n",
       " 198 │ SG          25  WAS         82   3028     20.8    0.581    0.37     0.2 ⋯\n",
       " 199 │ C           33  WAS          9    230     17.4    0.638    0.0      0.6\n",
       " 200 │ PF          32  WAS         77   2097     13.6    0.608    0.466    0.3\n",
       "\u001b[36m                                                 17 columns and 185 rows omitted\u001b[0m"
      ]
     },
     "metadata": {},
     "output_type": "display_data"
    }
   ],
   "source": [
    "df[:, 4:28] # All columns which have uppercase characters"
   ]
  },
  {
   "cell_type": "markdown",
   "metadata": {},
   "source": [
    "Sorting can be done easily in Julia via the `sort!()` function (the `!` indicates that sorting is done in-place):"
   ]
  },
  {
   "cell_type": "code",
   "execution_count": 126,
   "metadata": {},
   "outputs": [
    {
     "data": {
      "text/html": [
       "<div><div style = \"float: left;\"><span>200×32 DataFrame</span></div><div style = \"float: right;\"><span style = \"font-style: italic;\">175 rows omitted</span></div><div style = \"clear: both;\"></div></div><div class = \"data-frame\" style = \"overflow-x: scroll;\"><table class = \"data-frame\" style = \"margin-bottom: 6px;\"><thead><tr class = \"header\"><th class = \"rowNumber\" style = \"font-weight: bold; text-align: right;\">Row</th><th style = \"text-align: left;\">ID</th><th style = \"text-align: left;\">Player</th><th style = \"text-align: left;\">Username</th><th style = \"text-align: left;\">Pos</th><th style = \"text-align: left;\">Age</th><th style = \"text-align: left;\">Tm</th><th style = \"text-align: left;\">G</th><th style = \"text-align: left;\">MP</th><th style = \"text-align: left;\">PER</th><th style = \"text-align: left;\">TS.</th><th style = \"text-align: left;\">X3PAr</th><th style = \"text-align: left;\">FTr</th><th style = \"text-align: left;\">ORB.</th><th style = \"text-align: left;\">DRB.</th><th style = \"text-align: left;\">TRB.</th><th style = \"text-align: left;\">AST.</th><th style = \"text-align: left;\">STL.</th><th style = \"text-align: left;\">BLK.</th><th style = \"text-align: left;\">TOV.</th><th style = \"text-align: left;\">USG.</th><th style = \"text-align: left;\">OWS</th><th style = \"text-align: left;\">DWS</th><th style = \"text-align: left;\">WS</th><th style = \"text-align: left;\">WS_48</th><th style = \"text-align: left;\">OBPM</th><th style = \"text-align: left;\">DBPM</th><th style = \"text-align: left;\">BPM</th><th style = \"text-align: left;\">VORP</th><th style = \"text-align: left;\">Olympics2016</th><th style = \"text-align: left;\">OlympicsFinalist</th><th style = \"text-align: left;\">AllStar</th><th style = \"text-align: left;\">HighRated</th></tr><tr class = \"subheader headerLastRow\"><th class = \"rowNumber\" style = \"font-weight: bold; text-align: right;\"></th><th title = \"Int64\" style = \"text-align: left;\">Int64</th><th title = \"String31\" style = \"text-align: left;\">String31</th><th title = \"String15\" style = \"text-align: left;\">String15</th><th title = \"String7\" style = \"text-align: left;\">String7</th><th title = \"Int64\" style = \"text-align: left;\">Int64</th><th title = \"String3\" style = \"text-align: left;\">String3</th><th title = \"Int64\" style = \"text-align: left;\">Int64</th><th title = \"Int64\" style = \"text-align: left;\">Int64</th><th title = \"Float64\" style = \"text-align: left;\">Float64</th><th title = \"Float64\" style = \"text-align: left;\">Float64</th><th title = \"Float64\" style = \"text-align: left;\">Float64</th><th title = \"Float64\" style = \"text-align: left;\">Float64</th><th title = \"Float64\" style = \"text-align: left;\">Float64</th><th title = \"Float64\" style = \"text-align: left;\">Float64</th><th title = \"Float64\" style = \"text-align: left;\">Float64</th><th title = \"Float64\" style = \"text-align: left;\">Float64</th><th title = \"Float64\" style = \"text-align: left;\">Float64</th><th title = \"Float64\" style = \"text-align: left;\">Float64</th><th title = \"Float64\" style = \"text-align: left;\">Float64</th><th title = \"Float64\" style = \"text-align: left;\">Float64</th><th title = \"Float64\" style = \"text-align: left;\">Float64</th><th title = \"Float64\" style = \"text-align: left;\">Float64</th><th title = \"Float64\" style = \"text-align: left;\">Float64</th><th title = \"Float64\" style = \"text-align: left;\">Float64</th><th title = \"Float64\" style = \"text-align: left;\">Float64</th><th title = \"Float64\" style = \"text-align: left;\">Float64</th><th title = \"Float64\" style = \"text-align: left;\">Float64</th><th title = \"Float64\" style = \"text-align: left;\">Float64</th><th title = \"Int64\" style = \"text-align: left;\">Int64</th><th title = \"Int64\" style = \"text-align: left;\">Int64</th><th title = \"Int64\" style = \"text-align: left;\">Int64</th><th title = \"Int64\" style = \"text-align: left;\">Int64</th></tr></thead><tbody><tr><td class = \"rowNumber\" style = \"font-weight: bold; text-align: right;\">1</td><td style = \"text-align: right;\">206</td><td style = \"text-align: left;\">James Harden</td><td style = \"text-align: left;\">hardeja01</td><td style = \"text-align: left;\">PG</td><td style = \"text-align: right;\">29</td><td style = \"text-align: left;\">HOU</td><td style = \"text-align: right;\">78</td><td style = \"text-align: right;\">2867</td><td style = \"text-align: right;\">30.6</td><td style = \"text-align: right;\">0.616</td><td style = \"text-align: right;\">0.539</td><td style = \"text-align: right;\">0.449</td><td style = \"text-align: right;\">2.5</td><td style = \"text-align: right;\">17.8</td><td style = \"text-align: right;\">10.0</td><td style = \"text-align: right;\">39.5</td><td style = \"text-align: right;\">2.7</td><td style = \"text-align: right;\">1.7</td><td style = \"text-align: right;\">14.5</td><td style = \"text-align: right;\">40.5</td><td style = \"text-align: right;\">11.4</td><td style = \"text-align: right;\">3.8</td><td style = \"text-align: right;\">15.2</td><td style = \"text-align: right;\">0.254</td><td style = \"text-align: right;\">10.5</td><td style = \"text-align: right;\">1.1</td><td style = \"text-align: right;\">11.7</td><td style = \"text-align: right;\">9.9</td><td style = \"text-align: right;\">0</td><td style = \"text-align: right;\">1</td><td style = \"text-align: right;\">1</td><td style = \"text-align: right;\">2</td></tr><tr><td class = \"rowNumber\" style = \"font-weight: bold; text-align: right;\">2</td><td style = \"text-align: right;\">126</td><td style = \"text-align: left;\">Anthony Davis</td><td style = \"text-align: left;\">davisan02</td><td style = \"text-align: left;\">C</td><td style = \"text-align: right;\">25</td><td style = \"text-align: left;\">NOP</td><td style = \"text-align: right;\">56</td><td style = \"text-align: right;\">1850</td><td style = \"text-align: right;\">30.3</td><td style = \"text-align: right;\">0.597</td><td style = \"text-align: right;\">0.141</td><td style = \"text-align: right;\">0.422</td><td style = \"text-align: right;\">9.9</td><td style = \"text-align: right;\">27.5</td><td style = \"text-align: right;\">18.8</td><td style = \"text-align: right;\">19.0</td><td style = \"text-align: right;\">2.2</td><td style = \"text-align: right;\">6.0</td><td style = \"text-align: right;\">8.4</td><td style = \"text-align: right;\">29.5</td><td style = \"text-align: right;\">6.4</td><td style = \"text-align: right;\">3.1</td><td style = \"text-align: right;\">9.5</td><td style = \"text-align: right;\">0.247</td><td style = \"text-align: right;\">4.7</td><td style = \"text-align: right;\">3.9</td><td style = \"text-align: right;\">8.5</td><td style = \"text-align: right;\">4.9</td><td style = \"text-align: right;\">0</td><td style = \"text-align: right;\">1</td><td style = \"text-align: right;\">1</td><td style = \"text-align: right;\">2</td></tr><tr><td class = \"rowNumber\" style = \"font-weight: bold; text-align: right;\">3</td><td style = \"text-align: right;\">480</td><td style = \"text-align: left;\">Karl-Anthony Towns</td><td style = \"text-align: left;\">townska01</td><td style = \"text-align: left;\">C</td><td style = \"text-align: right;\">23</td><td style = \"text-align: left;\">MIN</td><td style = \"text-align: right;\">77</td><td style = \"text-align: right;\">2545</td><td style = \"text-align: right;\">26.3</td><td style = \"text-align: right;\">0.622</td><td style = \"text-align: right;\">0.27</td><td style = \"text-align: right;\">0.342</td><td style = \"text-align: right;\">10.9</td><td style = \"text-align: right;\">29.3</td><td style = \"text-align: right;\">20.0</td><td style = \"text-align: right;\">17.2</td><td style = \"text-align: right;\">1.3</td><td style = \"text-align: right;\">4.2</td><td style = \"text-align: right;\">13.7</td><td style = \"text-align: right;\">28.9</td><td style = \"text-align: right;\">7.2</td><td style = \"text-align: right;\">3.2</td><td style = \"text-align: right;\">10.4</td><td style = \"text-align: right;\">0.197</td><td style = \"text-align: right;\">4.8</td><td style = \"text-align: right;\">2.0</td><td style = \"text-align: right;\">6.8</td><td style = \"text-align: right;\">5.7</td><td style = \"text-align: right;\">0</td><td style = \"text-align: right;\">0</td><td style = \"text-align: right;\">1</td><td style = \"text-align: right;\">1</td></tr><tr><td class = \"rowNumber\" style = \"font-weight: bold; text-align: right;\">4</td><td style = \"text-align: right;\">301</td><td style = \"text-align: left;\">Kawhi Leonard</td><td style = \"text-align: left;\">leonaka01</td><td style = \"text-align: left;\">SF</td><td style = \"text-align: right;\">27</td><td style = \"text-align: left;\">TOR</td><td style = \"text-align: right;\">60</td><td style = \"text-align: right;\">2040</td><td style = \"text-align: right;\">25.8</td><td style = \"text-align: right;\">0.606</td><td style = \"text-align: right;\">0.267</td><td style = \"text-align: right;\">0.377</td><td style = \"text-align: right;\">4.2</td><td style = \"text-align: right;\">18.6</td><td style = \"text-align: right;\">11.6</td><td style = \"text-align: right;\">16.4</td><td style = \"text-align: right;\">2.5</td><td style = \"text-align: right;\">1.0</td><td style = \"text-align: right;\">8.4</td><td style = \"text-align: right;\">30.3</td><td style = \"text-align: right;\">6.1</td><td style = \"text-align: right;\">3.4</td><td style = \"text-align: right;\">9.5</td><td style = \"text-align: right;\">0.224</td><td style = \"text-align: right;\">4.3</td><td style = \"text-align: right;\">0.7</td><td style = \"text-align: right;\">5.0</td><td style = \"text-align: right;\">3.6</td><td style = \"text-align: right;\">0</td><td style = \"text-align: right;\">1</td><td style = \"text-align: right;\">1</td><td style = \"text-align: right;\">2</td></tr><tr><td class = \"rowNumber\" style = \"font-weight: bold; text-align: right;\">5</td><td style = \"text-align: right;\">258</td><td style = \"text-align: left;\">LeBron James</td><td style = \"text-align: left;\">jamesle01</td><td style = \"text-align: left;\">SF</td><td style = \"text-align: right;\">34</td><td style = \"text-align: left;\">LAL</td><td style = \"text-align: right;\">55</td><td style = \"text-align: right;\">1937</td><td style = \"text-align: right;\">25.6</td><td style = \"text-align: right;\">0.588</td><td style = \"text-align: right;\">0.299</td><td style = \"text-align: right;\">0.382</td><td style = \"text-align: right;\">3.1</td><td style = \"text-align: right;\">21.3</td><td style = \"text-align: right;\">12.4</td><td style = \"text-align: right;\">39.4</td><td style = \"text-align: right;\">1.7</td><td style = \"text-align: right;\">1.4</td><td style = \"text-align: right;\">13.3</td><td style = \"text-align: right;\">31.6</td><td style = \"text-align: right;\">4.7</td><td style = \"text-align: right;\">2.6</td><td style = \"text-align: right;\">7.2</td><td style = \"text-align: right;\">0.179</td><td style = \"text-align: right;\">6.2</td><td style = \"text-align: right;\">1.9</td><td style = \"text-align: right;\">8.1</td><td style = \"text-align: right;\">4.9</td><td style = \"text-align: right;\">0</td><td style = \"text-align: right;\">1</td><td style = \"text-align: right;\">1</td><td style = \"text-align: right;\">2</td></tr><tr><td class = \"rowNumber\" style = \"font-weight: bold; text-align: right;\">6</td><td style = \"text-align: right;\">124</td><td style = \"text-align: left;\">Stephen Curry</td><td style = \"text-align: left;\">curryst01</td><td style = \"text-align: left;\">PG</td><td style = \"text-align: right;\">30</td><td style = \"text-align: left;\">GSW</td><td style = \"text-align: right;\">69</td><td style = \"text-align: right;\">2331</td><td style = \"text-align: right;\">24.4</td><td style = \"text-align: right;\">0.641</td><td style = \"text-align: right;\">0.604</td><td style = \"text-align: right;\">0.214</td><td style = \"text-align: right;\">2.2</td><td style = \"text-align: right;\">14.2</td><td style = \"text-align: right;\">8.4</td><td style = \"text-align: right;\">24.2</td><td style = \"text-align: right;\">1.9</td><td style = \"text-align: right;\">0.9</td><td style = \"text-align: right;\">11.6</td><td style = \"text-align: right;\">30.4</td><td style = \"text-align: right;\">7.2</td><td style = \"text-align: right;\">2.5</td><td style = \"text-align: right;\">9.7</td><td style = \"text-align: right;\">0.199</td><td style = \"text-align: right;\">7.7</td><td style = \"text-align: right;\">-1.4</td><td style = \"text-align: right;\">6.3</td><td style = \"text-align: right;\">4.9</td><td style = \"text-align: right;\">0</td><td style = \"text-align: right;\">1</td><td style = \"text-align: right;\">1</td><td style = \"text-align: right;\">2</td></tr><tr><td class = \"rowNumber\" style = \"font-weight: bold; text-align: right;\">7</td><td style = \"text-align: right;\">150</td><td style = \"text-align: left;\">Kevin Durant</td><td style = \"text-align: left;\">duranke01</td><td style = \"text-align: left;\">SF</td><td style = \"text-align: right;\">30</td><td style = \"text-align: left;\">GSW</td><td style = \"text-align: right;\">78</td><td style = \"text-align: right;\">2702</td><td style = \"text-align: right;\">24.2</td><td style = \"text-align: right;\">0.631</td><td style = \"text-align: right;\">0.281</td><td style = \"text-align: right;\">0.366</td><td style = \"text-align: right;\">1.4</td><td style = \"text-align: right;\">17.5</td><td style = \"text-align: right;\">9.8</td><td style = \"text-align: right;\">26.2</td><td style = \"text-align: right;\">1.0</td><td style = \"text-align: right;\">2.6</td><td style = \"text-align: right;\">12.3</td><td style = \"text-align: right;\">29.0</td><td style = \"text-align: right;\">8.6</td><td style = \"text-align: right;\">2.9</td><td style = \"text-align: right;\">11.5</td><td style = \"text-align: right;\">0.204</td><td style = \"text-align: right;\">4.2</td><td style = \"text-align: right;\">0.1</td><td style = \"text-align: right;\">4.3</td><td style = \"text-align: right;\">4.3</td><td style = \"text-align: right;\">1</td><td style = \"text-align: right;\">1</td><td style = \"text-align: right;\">1</td><td style = \"text-align: right;\">3</td></tr><tr><td class = \"rowNumber\" style = \"font-weight: bold; text-align: right;\">8</td><td style = \"text-align: right;\">305</td><td style = \"text-align: left;\">Damian Lillard</td><td style = \"text-align: left;\">lillada01</td><td style = \"text-align: left;\">PG</td><td style = \"text-align: right;\">28</td><td style = \"text-align: left;\">POR</td><td style = \"text-align: right;\">80</td><td style = \"text-align: right;\">2838</td><td style = \"text-align: right;\">23.7</td><td style = \"text-align: right;\">0.588</td><td style = \"text-align: right;\">0.419</td><td style = \"text-align: right;\">0.335</td><td style = \"text-align: right;\">2.6</td><td style = \"text-align: right;\">11.1</td><td style = \"text-align: right;\">7.0</td><td style = \"text-align: right;\">30.6</td><td style = \"text-align: right;\">1.5</td><td style = \"text-align: right;\">1.0</td><td style = \"text-align: right;\">10.8</td><td style = \"text-align: right;\">29.3</td><td style = \"text-align: right;\">9.7</td><td style = \"text-align: right;\">2.4</td><td style = \"text-align: right;\">12.1</td><td style = \"text-align: right;\">0.205</td><td style = \"text-align: right;\">6.6</td><td style = \"text-align: right;\">-1.1</td><td style = \"text-align: right;\">5.5</td><td style = \"text-align: right;\">5.4</td><td style = \"text-align: right;\">0</td><td style = \"text-align: right;\">1</td><td style = \"text-align: right;\">1</td><td style = \"text-align: right;\">2</td></tr><tr><td class = \"rowNumber\" style = \"font-weight: bold; text-align: right;\">9</td><td style = \"text-align: right;\">509</td><td style = \"text-align: left;\">Hassan Whiteside</td><td style = \"text-align: left;\">whiteha01</td><td style = \"text-align: left;\">C</td><td style = \"text-align: right;\">29</td><td style = \"text-align: left;\">MIA</td><td style = \"text-align: right;\">72</td><td style = \"text-align: right;\">1674</td><td style = \"text-align: right;\">23.5</td><td style = \"text-align: right;\">0.564</td><td style = \"text-align: right;\">0.024</td><td style = \"text-align: right;\">0.357</td><td style = \"text-align: right;\">16.3</td><td style = \"text-align: right;\">35.6</td><td style = \"text-align: right;\">25.9</td><td style = \"text-align: right;\">5.6</td><td style = \"text-align: right;\">1.3</td><td style = \"text-align: right;\">7.3</td><td style = \"text-align: right;\">11.0</td><td style = \"text-align: right;\">22.6</td><td style = \"text-align: right;\">2.3</td><td style = \"text-align: right;\">4.0</td><td style = \"text-align: right;\">6.3</td><td style = \"text-align: right;\">0.18</td><td style = \"text-align: right;\">-2.2</td><td style = \"text-align: right;\">3.0</td><td style = \"text-align: right;\">0.8</td><td style = \"text-align: right;\">1.2</td><td style = \"text-align: right;\">0</td><td style = \"text-align: right;\">0</td><td style = \"text-align: right;\">0</td><td style = \"text-align: right;\">0</td></tr><tr><td class = \"rowNumber\" style = \"font-weight: bold; text-align: right;\">10</td><td style = \"text-align: right;\">147</td><td style = \"text-align: left;\">Andre Drummond</td><td style = \"text-align: left;\">drumman01</td><td style = \"text-align: left;\">C</td><td style = \"text-align: right;\">25</td><td style = \"text-align: left;\">DET</td><td style = \"text-align: right;\">79</td><td style = \"text-align: right;\">2647</td><td style = \"text-align: right;\">23.4</td><td style = \"text-align: right;\">0.555</td><td style = \"text-align: right;\">0.036</td><td style = \"text-align: right;\">0.392</td><td style = \"text-align: right;\">16.8</td><td style = \"text-align: right;\">34.7</td><td style = \"text-align: right;\">25.4</td><td style = \"text-align: right;\">7.2</td><td style = \"text-align: right;\">2.5</td><td style = \"text-align: right;\">4.4</td><td style = \"text-align: right;\">12.4</td><td style = \"text-align: right;\">22.9</td><td style = \"text-align: right;\">4.1</td><td style = \"text-align: right;\">5.9</td><td style = \"text-align: right;\">10.0</td><td style = \"text-align: right;\">0.181</td><td style = \"text-align: right;\">-0.7</td><td style = \"text-align: right;\">3.6</td><td style = \"text-align: right;\">2.9</td><td style = \"text-align: right;\">3.3</td><td style = \"text-align: right;\">0</td><td style = \"text-align: right;\">1</td><td style = \"text-align: right;\">0</td><td style = \"text-align: right;\">1</td></tr><tr><td class = \"rowNumber\" style = \"font-weight: bold; text-align: right;\">11</td><td style = \"text-align: right;\">208</td><td style = \"text-align: left;\">Montrezl Harrell</td><td style = \"text-align: left;\">harremo01</td><td style = \"text-align: left;\">C</td><td style = \"text-align: right;\">25</td><td style = \"text-align: left;\">LAC</td><td style = \"text-align: right;\">82</td><td style = \"text-align: right;\">2158</td><td style = \"text-align: right;\">23.4</td><td style = \"text-align: right;\">0.636</td><td style = \"text-align: right;\">0.019</td><td style = \"text-align: right;\">0.466</td><td style = \"text-align: right;\">9.3</td><td style = \"text-align: right;\">16.7</td><td style = \"text-align: right;\">13.1</td><td style = \"text-align: right;\">12.5</td><td style = \"text-align: right;\">1.6</td><td style = \"text-align: right;\">4.0</td><td style = \"text-align: right;\">11.0</td><td style = \"text-align: right;\">23.5</td><td style = \"text-align: right;\">6.1</td><td style = \"text-align: right;\">2.6</td><td style = \"text-align: right;\">8.7</td><td style = \"text-align: right;\">0.193</td><td style = \"text-align: right;\">2.6</td><td style = \"text-align: right;\">1.6</td><td style = \"text-align: right;\">4.2</td><td style = \"text-align: right;\">3.4</td><td style = \"text-align: right;\">0</td><td style = \"text-align: right;\">1</td><td style = \"text-align: right;\">0</td><td style = \"text-align: right;\">1</td></tr><tr><td class = \"rowNumber\" style = \"font-weight: bold; text-align: right;\">12</td><td style = \"text-align: right;\">183</td><td style = \"text-align: left;\">Paul George</td><td style = \"text-align: left;\">georgpa01</td><td style = \"text-align: left;\">SF</td><td style = \"text-align: right;\">28</td><td style = \"text-align: left;\">OKC</td><td style = \"text-align: right;\">77</td><td style = \"text-align: right;\">2841</td><td style = \"text-align: right;\">23.3</td><td style = \"text-align: right;\">0.583</td><td style = \"text-align: right;\">0.469</td><td style = \"text-align: right;\">0.335</td><td style = \"text-align: right;\">3.7</td><td style = \"text-align: right;\">19.6</td><td style = \"text-align: right;\">11.4</td><td style = \"text-align: right;\">17.7</td><td style = \"text-align: right;\">2.8</td><td style = \"text-align: right;\">1.0</td><td style = \"text-align: right;\">10.0</td><td style = \"text-align: right;\">29.5</td><td style = \"text-align: right;\">7.0</td><td style = \"text-align: right;\">4.9</td><td style = \"text-align: right;\">11.9</td><td style = \"text-align: right;\">0.201</td><td style = \"text-align: right;\">4.7</td><td style = \"text-align: right;\">0.7</td><td style = \"text-align: right;\">5.5</td><td style = \"text-align: right;\">5.3</td><td style = \"text-align: right;\">1</td><td style = \"text-align: right;\">1</td><td style = \"text-align: right;\">1</td><td style = \"text-align: right;\">3</td></tr><tr><td class = \"rowNumber\" style = \"font-weight: bold; text-align: right;\">13</td><td style = \"text-align: right;\">8</td><td style = \"text-align: left;\">LaMarcus Aldridge</td><td style = \"text-align: left;\">aldrila01</td><td style = \"text-align: left;\">C</td><td style = \"text-align: right;\">33</td><td style = \"text-align: left;\">SAS</td><td style = \"text-align: right;\">81</td><td style = \"text-align: right;\">2687</td><td style = \"text-align: right;\">22.9</td><td style = \"text-align: right;\">0.576</td><td style = \"text-align: right;\">0.032</td><td style = \"text-align: right;\">0.312</td><td style = \"text-align: right;\">10.3</td><td style = \"text-align: right;\">19.8</td><td style = \"text-align: right;\">15.1</td><td style = \"text-align: right;\">11.6</td><td style = \"text-align: right;\">0.8</td><td style = \"text-align: right;\">3.4</td><td style = \"text-align: right;\">8.8</td><td style = \"text-align: right;\">26.9</td><td style = \"text-align: right;\">6.4</td><td style = \"text-align: right;\">2.9</td><td style = \"text-align: right;\">9.3</td><td style = \"text-align: right;\">0.167</td><td style = \"text-align: right;\">1.2</td><td style = \"text-align: right;\">0.5</td><td style = \"text-align: right;\">1.6</td><td style = \"text-align: right;\">2.5</td><td style = \"text-align: right;\">0</td><td style = \"text-align: right;\">1</td><td style = \"text-align: right;\">1</td><td style = \"text-align: right;\">2</td></tr><tr><td style = \"text-align: right;\">&vellip;</td><td style = \"text-align: right;\">&vellip;</td><td style = \"text-align: right;\">&vellip;</td><td style = \"text-align: right;\">&vellip;</td><td style = \"text-align: right;\">&vellip;</td><td style = \"text-align: right;\">&vellip;</td><td style = \"text-align: right;\">&vellip;</td><td style = \"text-align: right;\">&vellip;</td><td style = \"text-align: right;\">&vellip;</td><td style = \"text-align: right;\">&vellip;</td><td style = \"text-align: right;\">&vellip;</td><td style = \"text-align: right;\">&vellip;</td><td style = \"text-align: right;\">&vellip;</td><td style = \"text-align: right;\">&vellip;</td><td style = \"text-align: right;\">&vellip;</td><td style = \"text-align: right;\">&vellip;</td><td style = \"text-align: right;\">&vellip;</td><td style = \"text-align: right;\">&vellip;</td><td style = \"text-align: right;\">&vellip;</td><td style = \"text-align: right;\">&vellip;</td><td style = \"text-align: right;\">&vellip;</td><td style = \"text-align: right;\">&vellip;</td><td style = \"text-align: right;\">&vellip;</td><td style = \"text-align: right;\">&vellip;</td><td style = \"text-align: right;\">&vellip;</td><td style = \"text-align: right;\">&vellip;</td><td style = \"text-align: right;\">&vellip;</td><td style = \"text-align: right;\">&vellip;</td><td style = \"text-align: right;\">&vellip;</td><td style = \"text-align: right;\">&vellip;</td><td style = \"text-align: right;\">&vellip;</td><td style = \"text-align: right;\">&vellip;</td><td style = \"text-align: right;\">&vellip;</td></tr><tr><td class = \"rowNumber\" style = \"font-weight: bold; text-align: right;\">189</td><td style = \"text-align: right;\">479</td><td style = \"text-align: left;\">Anthony Tolliver</td><td style = \"text-align: left;\">tollian01</td><td style = \"text-align: left;\">PF</td><td style = \"text-align: right;\">33</td><td style = \"text-align: left;\">MIN</td><td style = \"text-align: right;\">65</td><td style = \"text-align: right;\">1079</td><td style = \"text-align: right;\">8.6</td><td style = \"text-align: right;\">0.571</td><td style = \"text-align: right;\">0.83</td><td style = \"text-align: right;\">0.232</td><td style = \"text-align: right;\">1.5</td><td style = \"text-align: right;\">16.2</td><td style = \"text-align: right;\">8.8</td><td style = \"text-align: right;\">5.5</td><td style = \"text-align: right;\">0.8</td><td style = \"text-align: right;\">1.7</td><td style = \"text-align: right;\">11.2</td><td style = \"text-align: right;\">12.5</td><td style = \"text-align: right;\">0.6</td><td style = \"text-align: right;\">0.5</td><td style = \"text-align: right;\">1.2</td><td style = \"text-align: right;\">0.052</td><td style = \"text-align: right;\">-1.2</td><td style = \"text-align: right;\">-1.0</td><td style = \"text-align: right;\">-2.2</td><td style = \"text-align: right;\">-0.1</td><td style = \"text-align: right;\">0</td><td style = \"text-align: right;\">0</td><td style = \"text-align: right;\">0</td><td style = \"text-align: right;\">0</td></tr><tr><td class = \"rowNumber\" style = \"font-weight: bold; text-align: right;\">190</td><td style = \"text-align: right;\">468</td><td style = \"text-align: left;\">Garrett Temple</td><td style = \"text-align: left;\">templga01</td><td style = \"text-align: left;\">SG</td><td style = \"text-align: right;\">32</td><td style = \"text-align: left;\">TOT</td><td style = \"text-align: right;\">75</td><td style = \"text-align: right;\">2040</td><td style = \"text-align: right;\">8.5</td><td style = \"text-align: right;\">0.543</td><td style = \"text-align: right;\">0.535</td><td style = \"text-align: right;\">0.217</td><td style = \"text-align: right;\">1.5</td><td style = \"text-align: right;\">10.2</td><td style = \"text-align: right;\">5.8</td><td style = \"text-align: right;\">7.4</td><td style = \"text-align: right;\">1.8</td><td style = \"text-align: right;\">1.4</td><td style = \"text-align: right;\">11.5</td><td style = \"text-align: right;\">13.2</td><td style = \"text-align: right;\">0.3</td><td style = \"text-align: right;\">2.0</td><td style = \"text-align: right;\">2.2</td><td style = \"text-align: right;\">0.052</td><td style = \"text-align: right;\">-1.7</td><td style = \"text-align: right;\">0.6</td><td style = \"text-align: right;\">-1.2</td><td style = \"text-align: right;\">0.4</td><td style = \"text-align: right;\">0</td><td style = \"text-align: right;\">0</td><td style = \"text-align: right;\">0</td><td style = \"text-align: right;\">0</td></tr><tr><td class = \"rowNumber\" style = \"font-weight: bold; text-align: right;\">191</td><td style = \"text-align: right;\">348</td><td style = \"text-align: left;\">Darius Miller</td><td style = \"text-align: left;\">milleda01</td><td style = \"text-align: left;\">SF</td><td style = \"text-align: right;\">28</td><td style = \"text-align: left;\">NOP</td><td style = \"text-align: right;\">69</td><td style = \"text-align: right;\">1757</td><td style = \"text-align: right;\">8.4</td><td style = \"text-align: right;\">0.55</td><td style = \"text-align: right;\">0.752</td><td style = \"text-align: right;\">0.147</td><td style = \"text-align: right;\">0.8</td><td style = \"text-align: right;\">6.6</td><td style = \"text-align: right;\">3.8</td><td style = \"text-align: right;\">10.4</td><td style = \"text-align: right;\">1.1</td><td style = \"text-align: right;\">1.1</td><td style = \"text-align: right;\">10.3</td><td style = \"text-align: right;\">13.4</td><td style = \"text-align: right;\">1.1</td><td style = \"text-align: right;\">0.6</td><td style = \"text-align: right;\">1.6</td><td style = \"text-align: right;\">0.045</td><td style = \"text-align: right;\">-0.1</td><td style = \"text-align: right;\">-1.5</td><td style = \"text-align: right;\">-1.7</td><td style = \"text-align: right;\">0.1</td><td style = \"text-align: right;\">0</td><td style = \"text-align: right;\">0</td><td style = \"text-align: right;\">0</td><td style = \"text-align: right;\">0</td></tr><tr><td class = \"rowNumber\" style = \"font-weight: bold; text-align: right;\">192</td><td style = \"text-align: right;\">106</td><td style = \"text-align: left;\">Ian Clark</td><td style = \"text-align: left;\">clarkia01</td><td style = \"text-align: left;\">SG</td><td style = \"text-align: right;\">27</td><td style = \"text-align: left;\">NOP</td><td style = \"text-align: right;\">60</td><td style = \"text-align: right;\">973</td><td style = \"text-align: right;\">8.3</td><td style = \"text-align: right;\">0.502</td><td style = \"text-align: right;\">0.527</td><td style = \"text-align: right;\">0.097</td><td style = \"text-align: right;\">1.4</td><td style = \"text-align: right;\">8.0</td><td style = \"text-align: right;\">4.7</td><td style = \"text-align: right;\">12.9</td><td style = \"text-align: right;\">1.1</td><td style = \"text-align: right;\">0.7</td><td style = \"text-align: right;\">12.7</td><td style = \"text-align: right;\">19.3</td><td style = \"text-align: right;\">-0.4</td><td style = \"text-align: right;\">0.3</td><td style = \"text-align: right;\">-0.1</td><td style = \"text-align: right;\">-0.003</td><td style = \"text-align: right;\">-2.2</td><td style = \"text-align: right;\">-2.9</td><td style = \"text-align: right;\">-5.1</td><td style = \"text-align: right;\">-0.8</td><td style = \"text-align: right;\">0</td><td style = \"text-align: right;\">0</td><td style = \"text-align: right;\">0</td><td style = \"text-align: right;\">0</td></tr><tr><td class = \"rowNumber\" style = \"font-weight: bold; text-align: right;\">193</td><td style = \"text-align: right;\">442</td><td style = \"text-align: left;\">Wayne Selden</td><td style = \"text-align: left;\">seldewa01</td><td style = \"text-align: left;\">SG</td><td style = \"text-align: right;\">24</td><td style = \"text-align: left;\">TOT</td><td style = \"text-align: right;\">75</td><td style = \"text-align: right;\">1439</td><td style = \"text-align: right;\">8.3</td><td style = \"text-align: right;\">0.491</td><td style = \"text-align: right;\">0.36</td><td style = \"text-align: right;\">0.19</td><td style = \"text-align: right;\">2.8</td><td style = \"text-align: right;\">11.0</td><td style = \"text-align: right;\">6.9</td><td style = \"text-align: right;\">11.3</td><td style = \"text-align: right;\">1.1</td><td style = \"text-align: right;\">0.8</td><td style = \"text-align: right;\">13.1</td><td style = \"text-align: right;\">18.4</td><td style = \"text-align: right;\">-1.0</td><td style = \"text-align: right;\">0.8</td><td style = \"text-align: right;\">-0.3</td><td style = \"text-align: right;\">-0.009</td><td style = \"text-align: right;\">-3.5</td><td style = \"text-align: right;\">-1.6</td><td style = \"text-align: right;\">-5.1</td><td style = \"text-align: right;\">-1.1</td><td style = \"text-align: right;\">0</td><td style = \"text-align: right;\">0</td><td style = \"text-align: right;\">0</td><td style = \"text-align: right;\">0</td></tr><tr><td class = \"rowNumber\" style = \"font-weight: bold; text-align: right;\">194</td><td style = \"text-align: right;\">397</td><td style = \"text-align: left;\">Patrick Patterson</td><td style = \"text-align: left;\">pattepa01</td><td style = \"text-align: left;\">PF</td><td style = \"text-align: right;\">29</td><td style = \"text-align: left;\">OKC</td><td style = \"text-align: right;\">63</td><td style = \"text-align: right;\">861</td><td style = \"text-align: right;\">8.1</td><td style = \"text-align: right;\">0.493</td><td style = \"text-align: right;\">0.626</td><td style = \"text-align: right;\">0.137</td><td style = \"text-align: right;\">4.9</td><td style = \"text-align: right;\">13.0</td><td style = \"text-align: right;\">8.8</td><td style = \"text-align: right;\">4.6</td><td style = \"text-align: right;\">0.9</td><td style = \"text-align: right;\">1.3</td><td style = \"text-align: right;\">8.7</td><td style = \"text-align: right;\">12.0</td><td style = \"text-align: right;\">0.2</td><td style = \"text-align: right;\">0.9</td><td style = \"text-align: right;\">1.1</td><td style = \"text-align: right;\">0.064</td><td style = \"text-align: right;\">-3.0</td><td style = \"text-align: right;\">-0.6</td><td style = \"text-align: right;\">-3.7</td><td style = \"text-align: right;\">-0.4</td><td style = \"text-align: right;\">0</td><td style = \"text-align: right;\">0</td><td style = \"text-align: right;\">0</td><td style = \"text-align: right;\">0</td></tr><tr><td class = \"rowNumber\" style = \"font-weight: bold; text-align: right;\">195</td><td style = \"text-align: right;\">422</td><td style = \"text-align: left;\">Austin Rivers</td><td style = \"text-align: left;\">riverau01</td><td style = \"text-align: left;\">SG</td><td style = \"text-align: right;\">26</td><td style = \"text-align: left;\">TOT</td><td style = \"text-align: right;\">76</td><td style = \"text-align: right;\">2028</td><td style = \"text-align: right;\">7.7</td><td style = \"text-align: right;\">0.503</td><td style = \"text-align: right;\">0.572</td><td style = \"text-align: right;\">0.166</td><td style = \"text-align: right;\">1.3</td><td style = \"text-align: right;\">7.5</td><td style = \"text-align: right;\">4.4</td><td style = \"text-align: right;\">11.5</td><td style = \"text-align: right;\">1.1</td><td style = \"text-align: right;\">1.0</td><td style = \"text-align: right;\">10.0</td><td style = \"text-align: right;\">14.5</td><td style = \"text-align: right;\">0.4</td><td style = \"text-align: right;\">0.8</td><td style = \"text-align: right;\">1.2</td><td style = \"text-align: right;\">0.028</td><td style = \"text-align: right;\">-2.0</td><td style = \"text-align: right;\">-1.5</td><td style = \"text-align: right;\">-3.5</td><td style = \"text-align: right;\">-0.7</td><td style = \"text-align: right;\">0</td><td style = \"text-align: right;\">0</td><td style = \"text-align: right;\">0</td><td style = \"text-align: right;\">0</td></tr><tr><td class = \"rowNumber\" style = \"font-weight: bold; text-align: right;\">196</td><td style = \"text-align: right;\">63</td><td style = \"text-align: left;\">Avery Bradley</td><td style = \"text-align: left;\">bradlav01</td><td style = \"text-align: left;\">SG</td><td style = \"text-align: right;\">28</td><td style = \"text-align: left;\">TOT</td><td style = \"text-align: right;\">63</td><td style = \"text-align: right;\">1905</td><td style = \"text-align: right;\">7.6</td><td style = \"text-align: right;\">0.496</td><td style = \"text-align: right;\">0.403</td><td style = \"text-align: right;\">0.082</td><td style = \"text-align: right;\">2.5</td><td style = \"text-align: right;\">7.3</td><td style = \"text-align: right;\">4.9</td><td style = \"text-align: right;\">11.8</td><td style = \"text-align: right;\">1.0</td><td style = \"text-align: right;\">0.7</td><td style = \"text-align: right;\">12.4</td><td style = \"text-align: right;\">16.2</td><td style = \"text-align: right;\">-0.6</td><td style = \"text-align: right;\">1.0</td><td style = \"text-align: right;\">0.3</td><td style = \"text-align: right;\">0.009</td><td style = \"text-align: right;\">-1.7</td><td style = \"text-align: right;\">-1.0</td><td style = \"text-align: right;\">-2.8</td><td style = \"text-align: right;\">-0.4</td><td style = \"text-align: right;\">0</td><td style = \"text-align: right;\">0</td><td style = \"text-align: right;\">0</td><td style = \"text-align: right;\">0</td></tr><tr><td class = \"rowNumber\" style = \"font-weight: bold; text-align: right;\">197</td><td style = \"text-align: right;\">499</td><td style = \"text-align: left;\">Tyrone Wallace</td><td style = \"text-align: left;\">wallaty01</td><td style = \"text-align: left;\">PG</td><td style = \"text-align: right;\">24</td><td style = \"text-align: left;\">LAC</td><td style = \"text-align: right;\">62</td><td style = \"text-align: right;\">628</td><td style = \"text-align: right;\">7.0</td><td style = \"text-align: right;\">0.45</td><td style = \"text-align: right;\">0.088</td><td style = \"text-align: right;\">0.263</td><td style = \"text-align: right;\">3.5</td><td style = \"text-align: right;\">13.2</td><td style = \"text-align: right;\">8.5</td><td style = \"text-align: right;\">9.5</td><td style = \"text-align: right;\">1.6</td><td style = \"text-align: right;\">0.9</td><td style = \"text-align: right;\">12.9</td><td style = \"text-align: right;\">18.7</td><td style = \"text-align: right;\">-0.8</td><td style = \"text-align: right;\">0.5</td><td style = \"text-align: right;\">-0.3</td><td style = \"text-align: right;\">-0.023</td><td style = \"text-align: right;\">-5.5</td><td style = \"text-align: right;\">-0.9</td><td style = \"text-align: right;\">-6.3</td><td style = \"text-align: right;\">-0.7</td><td style = \"text-align: right;\">0</td><td style = \"text-align: right;\">0</td><td style = \"text-align: right;\">0</td><td style = \"text-align: right;\">0</td></tr><tr><td class = \"rowNumber\" style = \"font-weight: bold; text-align: right;\">198</td><td style = \"text-align: right;\">73</td><td style = \"text-align: left;\">Bruce Brown</td><td style = \"text-align: left;\">brownbr01</td><td style = \"text-align: left;\">SG</td><td style = \"text-align: right;\">22</td><td style = \"text-align: left;\">DET</td><td style = \"text-align: right;\">74</td><td style = \"text-align: right;\">1449</td><td style = \"text-align: right;\">6.9</td><td style = \"text-align: right;\">0.469</td><td style = \"text-align: right;\">0.296</td><td style = \"text-align: right;\">0.191</td><td style = \"text-align: right;\">3.5</td><td style = \"text-align: right;\">10.7</td><td style = \"text-align: right;\">7.0</td><td style = \"text-align: right;\">8.8</td><td style = \"text-align: right;\">1.4</td><td style = \"text-align: right;\">2.1</td><td style = \"text-align: right;\">11.9</td><td style = \"text-align: right;\">11.5</td><td style = \"text-align: right;\">-0.1</td><td style = \"text-align: right;\">1.6</td><td style = \"text-align: right;\">1.5</td><td style = \"text-align: right;\">0.048</td><td style = \"text-align: right;\">-3.7</td><td style = \"text-align: right;\">1.7</td><td style = \"text-align: right;\">-2.0</td><td style = \"text-align: right;\">0.0</td><td style = \"text-align: right;\">0</td><td style = \"text-align: right;\">0</td><td style = \"text-align: right;\">0</td><td style = \"text-align: right;\">0</td></tr><tr><td class = \"rowNumber\" style = \"font-weight: bold; text-align: right;\">199</td><td style = \"text-align: right;\">166</td><td style = \"text-align: left;\">Terrance Ferguson</td><td style = \"text-align: left;\">fergute01</td><td style = \"text-align: left;\">SG</td><td style = \"text-align: right;\">20</td><td style = \"text-align: left;\">OKC</td><td style = \"text-align: right;\">74</td><td style = \"text-align: right;\">1931</td><td style = \"text-align: right;\">6.4</td><td style = \"text-align: right;\">0.566</td><td style = \"text-align: right;\">0.673</td><td style = \"text-align: right;\">0.118</td><td style = \"text-align: right;\">1.7</td><td style = \"text-align: right;\">6.0</td><td style = \"text-align: right;\">3.8</td><td style = \"text-align: right;\">4.8</td><td style = \"text-align: right;\">1.0</td><td style = \"text-align: right;\">0.7</td><td style = \"text-align: right;\">9.4</td><td style = \"text-align: right;\">10.6</td><td style = \"text-align: right;\">1.2</td><td style = \"text-align: right;\">1.6</td><td style = \"text-align: right;\">2.8</td><td style = \"text-align: right;\">0.07</td><td style = \"text-align: right;\">-1.5</td><td style = \"text-align: right;\">-0.5</td><td style = \"text-align: right;\">-1.9</td><td style = \"text-align: right;\">0.0</td><td style = \"text-align: right;\">0</td><td style = \"text-align: right;\">0</td><td style = \"text-align: right;\">0</td><td style = \"text-align: right;\">0</td></tr><tr><td class = \"rowNumber\" style = \"font-weight: bold; text-align: right;\">200</td><td style = \"text-align: right;\">478</td><td style = \"text-align: left;\">Sindarius Thornwell</td><td style = \"text-align: left;\">thornsi01</td><td style = \"text-align: left;\">SG</td><td style = \"text-align: right;\">24</td><td style = \"text-align: left;\">LAC</td><td style = \"text-align: right;\">64</td><td style = \"text-align: right;\">313</td><td style = \"text-align: right;\">5.2</td><td style = \"text-align: right;\">0.485</td><td style = \"text-align: right;\">0.306</td><td style = \"text-align: right;\">0.694</td><td style = \"text-align: right;\">1.7</td><td style = \"text-align: right;\">12.8</td><td style = \"text-align: right;\">7.5</td><td style = \"text-align: right;\">7.2</td><td style = \"text-align: right;\">2.1</td><td style = \"text-align: right;\">1.8</td><td style = \"text-align: right;\">23.8</td><td style = \"text-align: right;\">11.3</td><td style = \"text-align: right;\">-0.3</td><td style = \"text-align: right;\">0.3</td><td style = \"text-align: right;\">0.0</td><td style = \"text-align: right;\">0.004</td><td style = \"text-align: right;\">-5.1</td><td style = \"text-align: right;\">1.1</td><td style = \"text-align: right;\">-4.0</td><td style = \"text-align: right;\">-0.2</td><td style = \"text-align: right;\">0</td><td style = \"text-align: right;\">0</td><td style = \"text-align: right;\">0</td><td style = \"text-align: right;\">0</td></tr></tbody></table></div>"
      ],
      "text/latex": [
       "\\begin{tabular}{r|cccccccccc}\n",
       "\t& ID & Player & Username & Pos & Age & Tm & G & MP & PER & \\\\\n",
       "\t\\hline\n",
       "\t& Int64 & String31 & String15 & String7 & Int64 & String3 & Int64 & Int64 & Float64 & \\\\\n",
       "\t\\hline\n",
       "\t1 & 206 & James Harden & hardeja01 & PG & 29 & HOU & 78 & 2867 & 30.6 & $\\dots$ \\\\\n",
       "\t2 & 126 & Anthony Davis & davisan02 & C & 25 & NOP & 56 & 1850 & 30.3 & $\\dots$ \\\\\n",
       "\t3 & 480 & Karl-Anthony Towns & townska01 & C & 23 & MIN & 77 & 2545 & 26.3 & $\\dots$ \\\\\n",
       "\t4 & 301 & Kawhi Leonard & leonaka01 & SF & 27 & TOR & 60 & 2040 & 25.8 & $\\dots$ \\\\\n",
       "\t5 & 258 & LeBron James & jamesle01 & SF & 34 & LAL & 55 & 1937 & 25.6 & $\\dots$ \\\\\n",
       "\t6 & 124 & Stephen Curry & curryst01 & PG & 30 & GSW & 69 & 2331 & 24.4 & $\\dots$ \\\\\n",
       "\t7 & 150 & Kevin Durant & duranke01 & SF & 30 & GSW & 78 & 2702 & 24.2 & $\\dots$ \\\\\n",
       "\t8 & 305 & Damian Lillard & lillada01 & PG & 28 & POR & 80 & 2838 & 23.7 & $\\dots$ \\\\\n",
       "\t9 & 509 & Hassan Whiteside & whiteha01 & C & 29 & MIA & 72 & 1674 & 23.5 & $\\dots$ \\\\\n",
       "\t10 & 147 & Andre Drummond & drumman01 & C & 25 & DET & 79 & 2647 & 23.4 & $\\dots$ \\\\\n",
       "\t11 & 208 & Montrezl Harrell & harremo01 & C & 25 & LAC & 82 & 2158 & 23.4 & $\\dots$ \\\\\n",
       "\t12 & 183 & Paul George & georgpa01 & SF & 28 & OKC & 77 & 2841 & 23.3 & $\\dots$ \\\\\n",
       "\t13 & 8 & LaMarcus Aldridge & aldrila01 & C & 33 & SAS & 81 & 2687 & 22.9 & $\\dots$ \\\\\n",
       "\t14 & 84 & Jimmy Butler & butleji01 & SG & 29 & MIN & 10 & 361 & 22.3 & $\\dots$ \\\\\n",
       "\t15 & 276 & DeAndre Jordan & jordade01 & C & 30 & NYK & 19 & 493 & 22.1 & $\\dots$ \\\\\n",
       "\t16 & 427 & Mitchell Robinson & robinmi01 & C & 20 & NYK & 66 & 1360 & 22.0 & $\\dots$ \\\\\n",
       "\t17 & 434 & Domantas Sabonis & sabondo01 & C & 22 & IND & 74 & 1838 & 21.9 & $\\dots$ \\\\\n",
       "\t18 & 108 & John Collins & collijo01 & PF & 21 & ATL & 61 & 1829 & 21.8 & $\\dots$ \\\\\n",
       "\t19 & 163 & Derrick Favors & favorde01 & C & 27 & UTA & 76 & 1766 & 21.8 & $\\dots$ \\\\\n",
       "\t20 & 337 & JaVale McGee & mcgeeja01 & C & 31 & LAL & 75 & 1671 & 21.8 & $\\dots$ \\\\\n",
       "\t21 & 496 & Kemba Walker & walkeke02 & PG & 28 & CHO & 82 & 2863 & 21.7 & $\\dots$ \\\\\n",
       "\t22 & 112 & Mike Conley & conlemi01 & PG & 31 & MEM & 70 & 2342 & 21.4 & $\\dots$ \\\\\n",
       "\t23 & 115 & DeMarcus Cousins & couside01 & C & 28 & GSW & 30 & 771 & 21.4 & $\\dots$ \\\\\n",
       "\t24 & 515 & Lou Williams & willilo02 & SG & 32 & LAC & 75 & 1993 & 21.2 & $\\dots$ \\\\\n",
       "\t$\\dots$ & $\\dots$ & $\\dots$ & $\\dots$ & $\\dots$ & $\\dots$ & $\\dots$ & $\\dots$ & $\\dots$ & $\\dots$ &  \\\\\n",
       "\\end{tabular}\n"
      ],
      "text/plain": [
       "\u001b[1m200×32 DataFrame\u001b[0m\n",
       "\u001b[1m Row \u001b[0m│\u001b[1m ID    \u001b[0m\u001b[1m Player              \u001b[0m\u001b[1m Username  \u001b[0m\u001b[1m Pos     \u001b[0m\u001b[1m Age   \u001b[0m\u001b[1m Tm      \u001b[0m\u001b[1m G     \u001b[0m\u001b[1m \u001b[0m ⋯\n",
       "     │\u001b[90m Int64 \u001b[0m\u001b[90m String31            \u001b[0m\u001b[90m String15  \u001b[0m\u001b[90m String7 \u001b[0m\u001b[90m Int64 \u001b[0m\u001b[90m String3 \u001b[0m\u001b[90m Int64 \u001b[0m\u001b[90m \u001b[0m ⋯\n",
       "─────┼──────────────────────────────────────────────────────────────────────────\n",
       "   1 │   206  James Harden         hardeja01  PG          29  HOU         78   ⋯\n",
       "   2 │   126  Anthony Davis        davisan02  C           25  NOP         56\n",
       "   3 │   480  Karl-Anthony Towns   townska01  C           23  MIN         77\n",
       "   4 │   301  Kawhi Leonard        leonaka01  SF          27  TOR         60\n",
       "   5 │   258  LeBron James         jamesle01  SF          34  LAL         55   ⋯\n",
       "   6 │   124  Stephen Curry        curryst01  PG          30  GSW         69\n",
       "   7 │   150  Kevin Durant         duranke01  SF          30  GSW         78\n",
       "   8 │   305  Damian Lillard       lillada01  PG          28  POR         80\n",
       "  ⋮  │   ⋮             ⋮               ⋮         ⋮       ⋮       ⋮       ⋮     ⋱\n",
       " 194 │   397  Patrick Patterson    pattepa01  PF          29  OKC         63   ⋯\n",
       " 195 │   422  Austin Rivers        riverau01  SG          26  TOT         76\n",
       " 196 │    63  Avery Bradley        bradlav01  SG          28  TOT         63\n",
       " 197 │   499  Tyrone Wallace       wallaty01  PG          24  LAC         62\n",
       " 198 │    73  Bruce Brown          brownbr01  SG          22  DET         74   ⋯\n",
       " 199 │   166  Terrance Ferguson    fergute01  SG          20  OKC         74\n",
       " 200 │   478  Sindarius Thornwell  thornsi01  SG          24  LAC         64\n",
       "\u001b[36m                                                 25 columns and 185 rows omitted\u001b[0m"
      ]
     },
     "metadata": {},
     "output_type": "display_data"
    }
   ],
   "source": [
    "sort!(df, :PER, rev = true)"
   ]
  },
  {
   "cell_type": "markdown",
   "metadata": {},
   "source": [
    "You can do sorting by multiple values:"
   ]
  },
  {
   "cell_type": "code",
   "execution_count": 153,
   "metadata": {},
   "outputs": [
    {
     "data": {
      "text/html": [
       "<div><div style = \"float: left;\"><span>200×32 DataFrame</span></div><div style = \"float: right;\"><span style = \"font-style: italic;\">175 rows omitted</span></div><div style = \"clear: both;\"></div></div><div class = \"data-frame\" style = \"overflow-x: scroll;\"><table class = \"data-frame\" style = \"margin-bottom: 6px;\"><thead><tr class = \"header\"><th class = \"rowNumber\" style = \"font-weight: bold; text-align: right;\">Row</th><th style = \"text-align: left;\">ID</th><th style = \"text-align: left;\">Player</th><th style = \"text-align: left;\">Username</th><th style = \"text-align: left;\">Pos</th><th style = \"text-align: left;\">Age</th><th style = \"text-align: left;\">Tm</th><th style = \"text-align: left;\">G</th><th style = \"text-align: left;\">MP</th><th style = \"text-align: left;\">PER</th><th style = \"text-align: left;\">TS.</th><th style = \"text-align: left;\">X3PAr</th><th style = \"text-align: left;\">FTr</th><th style = \"text-align: left;\">ORB.</th><th style = \"text-align: left;\">DRB.</th><th style = \"text-align: left;\">TRB.</th><th style = \"text-align: left;\">AST.</th><th style = \"text-align: left;\">STL.</th><th style = \"text-align: left;\">BLK.</th><th style = \"text-align: left;\">TOV.</th><th style = \"text-align: left;\">USG.</th><th style = \"text-align: left;\">OWS</th><th style = \"text-align: left;\">DWS</th><th style = \"text-align: left;\">WS</th><th style = \"text-align: left;\">WS_48</th><th style = \"text-align: left;\">OBPM</th><th style = \"text-align: left;\">DBPM</th><th style = \"text-align: left;\">BPM</th><th style = \"text-align: left;\">VORP</th><th style = \"text-align: left;\">Olympics2016</th><th style = \"text-align: left;\">OlympicsFinalist</th><th style = \"text-align: left;\">AllStar</th><th style = \"text-align: left;\">HighRated</th></tr><tr class = \"subheader headerLastRow\"><th class = \"rowNumber\" style = \"font-weight: bold; text-align: right;\"></th><th title = \"Int64\" style = \"text-align: left;\">Int64</th><th title = \"String31\" style = \"text-align: left;\">String31</th><th title = \"String15\" style = \"text-align: left;\">String15</th><th title = \"String7\" style = \"text-align: left;\">String7</th><th title = \"Int64\" style = \"text-align: left;\">Int64</th><th title = \"String3\" style = \"text-align: left;\">String3</th><th title = \"Int64\" style = \"text-align: left;\">Int64</th><th title = \"Int64\" style = \"text-align: left;\">Int64</th><th title = \"Float64\" style = \"text-align: left;\">Float64</th><th title = \"Float64\" style = \"text-align: left;\">Float64</th><th title = \"Float64\" style = \"text-align: left;\">Float64</th><th title = \"Float64\" style = \"text-align: left;\">Float64</th><th title = \"Float64\" style = \"text-align: left;\">Float64</th><th title = \"Float64\" style = \"text-align: left;\">Float64</th><th title = \"Float64\" style = \"text-align: left;\">Float64</th><th title = \"Float64\" style = \"text-align: left;\">Float64</th><th title = \"Float64\" style = \"text-align: left;\">Float64</th><th title = \"Float64\" style = \"text-align: left;\">Float64</th><th title = \"Float64\" style = \"text-align: left;\">Float64</th><th title = \"Float64\" style = \"text-align: left;\">Float64</th><th title = \"Float64\" style = \"text-align: left;\">Float64</th><th title = \"Float64\" style = \"text-align: left;\">Float64</th><th title = \"Float64\" style = \"text-align: left;\">Float64</th><th title = \"Float64\" style = \"text-align: left;\">Float64</th><th title = \"Float64\" style = \"text-align: left;\">Float64</th><th title = \"Float64\" style = \"text-align: left;\">Float64</th><th title = \"Float64\" style = \"text-align: left;\">Float64</th><th title = \"Float64\" style = \"text-align: left;\">Float64</th><th title = \"Int64\" style = \"text-align: left;\">Int64</th><th title = \"Int64\" style = \"text-align: left;\">Int64</th><th title = \"Int64\" style = \"text-align: left;\">Int64</th><th title = \"Int64\" style = \"text-align: left;\">Int64</th></tr></thead><tbody><tr><td class = \"rowNumber\" style = \"font-weight: bold; text-align: right;\">1</td><td style = \"text-align: right;\">108</td><td style = \"text-align: left;\">John Collins</td><td style = \"text-align: left;\">collijo01</td><td style = \"text-align: left;\">PF</td><td style = \"text-align: right;\">21</td><td style = \"text-align: left;\">ATL</td><td style = \"text-align: right;\">61</td><td style = \"text-align: right;\">1829</td><td style = \"text-align: right;\">21.8</td><td style = \"text-align: right;\">0.627</td><td style = \"text-align: right;\">0.19</td><td style = \"text-align: right;\">0.32</td><td style = \"text-align: right;\">12.3</td><td style = \"text-align: right;\">22.1</td><td style = \"text-align: right;\">17.1</td><td style = \"text-align: right;\">11.0</td><td style = \"text-align: right;\">0.6</td><td style = \"text-align: right;\">1.8</td><td style = \"text-align: right;\">11.2</td><td style = \"text-align: right;\">23.7</td><td style = \"text-align: right;\">5.0</td><td style = \"text-align: right;\">1.0</td><td style = \"text-align: right;\">6.0</td><td style = \"text-align: right;\">0.158</td><td style = \"text-align: right;\">2.6</td><td style = \"text-align: right;\">-1.2</td><td style = \"text-align: right;\">1.4</td><td style = \"text-align: right;\">1.6</td><td style = \"text-align: right;\">0</td><td style = \"text-align: right;\">0</td><td style = \"text-align: right;\">0</td><td style = \"text-align: right;\">0</td></tr><tr><td class = \"rowNumber\" style = \"font-weight: bold; text-align: right;\">2</td><td style = \"text-align: right;\">526</td><td style = \"text-align: left;\">Trae Young</td><td style = \"text-align: left;\">youngtr01</td><td style = \"text-align: left;\">PG</td><td style = \"text-align: right;\">20</td><td style = \"text-align: left;\">ATL</td><td style = \"text-align: right;\">81</td><td style = \"text-align: right;\">2503</td><td style = \"text-align: right;\">17.0</td><td style = \"text-align: right;\">0.539</td><td style = \"text-align: right;\">0.384</td><td style = \"text-align: right;\">0.33</td><td style = \"text-align: right;\">2.6</td><td style = \"text-align: right;\">10.2</td><td style = \"text-align: right;\">6.3</td><td style = \"text-align: right;\">40.5</td><td style = \"text-align: right;\">1.3</td><td style = \"text-align: right;\">0.5</td><td style = \"text-align: right;\">17.6</td><td style = \"text-align: right;\">28.4</td><td style = \"text-align: right;\">2.5</td><td style = \"text-align: right;\">0.7</td><td style = \"text-align: right;\">3.3</td><td style = \"text-align: right;\">0.062</td><td style = \"text-align: right;\">1.8</td><td style = \"text-align: right;\">-2.8</td><td style = \"text-align: right;\">-1.1</td><td style = \"text-align: right;\">0.6</td><td style = \"text-align: right;\">0</td><td style = \"text-align: right;\">0</td><td style = \"text-align: right;\">0</td><td style = \"text-align: right;\">0</td></tr><tr><td class = \"rowNumber\" style = \"font-weight: bold; text-align: right;\">3</td><td style = \"text-align: right;\">130</td><td style = \"text-align: left;\">Dewayne Dedmon</td><td style = \"text-align: left;\">dedmode01</td><td style = \"text-align: left;\">C</td><td style = \"text-align: right;\">29</td><td style = \"text-align: left;\">ATL</td><td style = \"text-align: right;\">64</td><td style = \"text-align: right;\">1609</td><td style = \"text-align: right;\">16.0</td><td style = \"text-align: right;\">0.602</td><td style = \"text-align: right;\">0.413</td><td style = \"text-align: right;\">0.215</td><td style = \"text-align: right;\">6.7</td><td style = \"text-align: right;\">25.0</td><td style = \"text-align: right;\">15.7</td><td style = \"text-align: right;\">8.1</td><td style = \"text-align: right;\">2.0</td><td style = \"text-align: right;\">3.8</td><td style = \"text-align: right;\">12.7</td><td style = \"text-align: right;\">16.7</td><td style = \"text-align: right;\">2.1</td><td style = \"text-align: right;\">1.9</td><td style = \"text-align: right;\">4.0</td><td style = \"text-align: right;\">0.119</td><td style = \"text-align: right;\">-0.4</td><td style = \"text-align: right;\">1.7</td><td style = \"text-align: right;\">1.3</td><td style = \"text-align: right;\">1.3</td><td style = \"text-align: right;\">0</td><td style = \"text-align: right;\">0</td><td style = \"text-align: right;\">0</td><td style = \"text-align: right;\">0</td></tr><tr><td class = \"rowNumber\" style = \"font-weight: bold; text-align: right;\">4</td><td style = \"text-align: right;\">39</td><td style = \"text-align: left;\">Kent Bazemore</td><td style = \"text-align: left;\">bazemke01</td><td style = \"text-align: left;\">SG</td><td style = \"text-align: right;\">29</td><td style = \"text-align: left;\">ATL</td><td style = \"text-align: right;\">67</td><td style = \"text-align: right;\">1643</td><td style = \"text-align: right;\">11.9</td><td style = \"text-align: right;\">0.507</td><td style = \"text-align: right;\">0.434</td><td style = \"text-align: right;\">0.253</td><td style = \"text-align: right;\">2.3</td><td style = \"text-align: right;\">14.6</td><td style = \"text-align: right;\">8.3</td><td style = \"text-align: right;\">13.5</td><td style = \"text-align: right;\">2.5</td><td style = \"text-align: right;\">2.2</td><td style = \"text-align: right;\">13.6</td><td style = \"text-align: right;\">22.0</td><td style = \"text-align: right;\">-0.7</td><td style = \"text-align: right;\">1.4</td><td style = \"text-align: right;\">0.7</td><td style = \"text-align: right;\">0.021</td><td style = \"text-align: right;\">-2.2</td><td style = \"text-align: right;\">0.0</td><td style = \"text-align: right;\">-2.2</td><td style = \"text-align: right;\">-0.1</td><td style = \"text-align: right;\">0</td><td style = \"text-align: right;\">0</td><td style = \"text-align: right;\">0</td><td style = \"text-align: right;\">0</td></tr><tr><td class = \"rowNumber\" style = \"font-weight: bold; text-align: right;\">5</td><td style = \"text-align: right;\">92</td><td style = \"text-align: left;\">Vince Carter</td><td style = \"text-align: left;\">cartevi01</td><td style = \"text-align: left;\">PF</td><td style = \"text-align: right;\">42</td><td style = \"text-align: left;\">ATL</td><td style = \"text-align: right;\">76</td><td style = \"text-align: right;\">1330</td><td style = \"text-align: right;\">11.8</td><td style = \"text-align: right;\">0.565</td><td style = \"text-align: right;\">0.675</td><td style = \"text-align: right;\">0.141</td><td style = \"text-align: right;\">2.4</td><td style = \"text-align: right;\">13.2</td><td style = \"text-align: right;\">7.7</td><td style = \"text-align: right;\">9.3</td><td style = \"text-align: right;\">1.5</td><td style = \"text-align: right;\">1.8</td><td style = \"text-align: right;\">8.8</td><td style = \"text-align: right;\">16.7</td><td style = \"text-align: right;\">1.2</td><td style = \"text-align: right;\">0.7</td><td style = \"text-align: right;\">1.9</td><td style = \"text-align: right;\">0.07</td><td style = \"text-align: right;\">-0.2</td><td style = \"text-align: right;\">-1.4</td><td style = \"text-align: right;\">-1.6</td><td style = \"text-align: right;\">0.1</td><td style = \"text-align: right;\">0</td><td style = \"text-align: right;\">0</td><td style = \"text-align: right;\">0</td><td style = \"text-align: right;\">0</td></tr><tr><td class = \"rowNumber\" style = \"font-weight: bold; text-align: right;\">6</td><td style = \"text-align: right;\">45</td><td style = \"text-align: left;\">DeAndre&apos; Bembry</td><td style = \"text-align: left;\">bembrde01</td><td style = \"text-align: left;\">SG</td><td style = \"text-align: right;\">24</td><td style = \"text-align: left;\">ATL</td><td style = \"text-align: right;\">82</td><td style = \"text-align: right;\">1931</td><td style = \"text-align: right;\">10.8</td><td style = \"text-align: right;\">0.508</td><td style = \"text-align: right;\">0.281</td><td style = \"text-align: right;\">0.221</td><td style = \"text-align: right;\">2.9</td><td style = \"text-align: right;\">16.9</td><td style = \"text-align: right;\">9.7</td><td style = \"text-align: right;\">14.7</td><td style = \"text-align: right;\">2.5</td><td style = \"text-align: right;\">1.8</td><td style = \"text-align: right;\">17.4</td><td style = \"text-align: right;\">17.2</td><td style = \"text-align: right;\">-0.9</td><td style = \"text-align: right;\">1.7</td><td style = \"text-align: right;\">0.9</td><td style = \"text-align: right;\">0.022</td><td style = \"text-align: right;\">-3.3</td><td style = \"text-align: right;\">1.1</td><td style = \"text-align: right;\">-2.2</td><td style = \"text-align: right;\">-0.1</td><td style = \"text-align: right;\">0</td><td style = \"text-align: right;\">0</td><td style = \"text-align: right;\">0</td><td style = \"text-align: right;\">0</td></tr><tr><td class = \"rowNumber\" style = \"font-weight: bold; text-align: right;\">7</td><td style = \"text-align: right;\">239</td><td style = \"text-align: left;\">Kevin Huerter</td><td style = \"text-align: left;\">huertke01</td><td style = \"text-align: left;\">SG</td><td style = \"text-align: right;\">20</td><td style = \"text-align: left;\">ATL</td><td style = \"text-align: right;\">75</td><td style = \"text-align: right;\">2048</td><td style = \"text-align: right;\">10.1</td><td style = \"text-align: right;\">0.533</td><td style = \"text-align: right;\">0.537</td><td style = \"text-align: right;\">0.085</td><td style = \"text-align: right;\">3.0</td><td style = \"text-align: right;\">9.7</td><td style = \"text-align: right;\">6.3</td><td style = \"text-align: right;\">14.5</td><td style = \"text-align: right;\">1.5</td><td style = \"text-align: right;\">1.1</td><td style = \"text-align: right;\">13.8</td><td style = \"text-align: right;\">15.7</td><td style = \"text-align: right;\">0.7</td><td style = \"text-align: right;\">0.7</td><td style = \"text-align: right;\">1.5</td><td style = \"text-align: right;\">0.034</td><td style = \"text-align: right;\">-0.9</td><td style = \"text-align: right;\">-1.0</td><td style = \"text-align: right;\">-1.9</td><td style = \"text-align: right;\">0.1</td><td style = \"text-align: right;\">0</td><td style = \"text-align: right;\">0</td><td style = \"text-align: right;\">0</td><td style = \"text-align: right;\">0</td></tr><tr><td class = \"rowNumber\" style = \"font-weight: bold; text-align: right;\">8</td><td style = \"text-align: right;\">218</td><td style = \"text-align: left;\">Gordon Hayward</td><td style = \"text-align: left;\">haywago01</td><td style = \"text-align: left;\">PF</td><td style = \"text-align: right;\">28</td><td style = \"text-align: left;\">BOS</td><td style = \"text-align: right;\">72</td><td style = \"text-align: right;\">1863</td><td style = \"text-align: right;\">15.6</td><td style = \"text-align: right;\">0.575</td><td style = \"text-align: right;\">0.364</td><td style = \"text-align: right;\">0.294</td><td style = \"text-align: right;\">2.9</td><td style = \"text-align: right;\">15.5</td><td style = \"text-align: right;\">9.2</td><td style = \"text-align: right;\">18.4</td><td style = \"text-align: right;\">1.6</td><td style = \"text-align: right;\">1.1</td><td style = \"text-align: right;\">12.8</td><td style = \"text-align: right;\">19.0</td><td style = \"text-align: right;\">2.6</td><td style = \"text-align: right;\">2.3</td><td style = \"text-align: right;\">4.9</td><td style = \"text-align: right;\">0.126</td><td style = \"text-align: right;\">0.1</td><td style = \"text-align: right;\">0.4</td><td style = \"text-align: right;\">0.5</td><td style = \"text-align: right;\">1.2</td><td style = \"text-align: right;\">0</td><td style = \"text-align: right;\">1</td><td style = \"text-align: right;\">0</td><td style = \"text-align: right;\">1</td></tr><tr><td class = \"rowNumber\" style = \"font-weight: bold; text-align: right;\">9</td><td style = \"text-align: right;\">466</td><td style = \"text-align: left;\">Jayson Tatum</td><td style = \"text-align: left;\">tatumja01</td><td style = \"text-align: left;\">SF</td><td style = \"text-align: right;\">20</td><td style = \"text-align: left;\">BOS</td><td style = \"text-align: right;\">79</td><td style = \"text-align: right;\">2455</td><td style = \"text-align: right;\">15.1</td><td style = \"text-align: right;\">0.547</td><td style = \"text-align: right;\">0.3</td><td style = \"text-align: right;\">0.22</td><td style = \"text-align: right;\">3.0</td><td style = \"text-align: right;\">17.7</td><td style = \"text-align: right;\">10.4</td><td style = \"text-align: right;\">10.0</td><td style = \"text-align: right;\">1.6</td><td style = \"text-align: right;\">2.1</td><td style = \"text-align: right;\">9.7</td><td style = \"text-align: right;\">22.1</td><td style = \"text-align: right;\">1.6</td><td style = \"text-align: right;\">3.4</td><td style = \"text-align: right;\">5.0</td><td style = \"text-align: right;\">0.097</td><td style = \"text-align: right;\">-1.4</td><td style = \"text-align: right;\">0.6</td><td style = \"text-align: right;\">-0.8</td><td style = \"text-align: right;\">0.8</td><td style = \"text-align: right;\">0</td><td style = \"text-align: right;\">1</td><td style = \"text-align: right;\">0</td><td style = \"text-align: right;\">1</td></tr><tr><td class = \"rowNumber\" style = \"font-weight: bold; text-align: right;\">10</td><td style = \"text-align: right;\">361</td><td style = \"text-align: left;\">Marcus Morris</td><td style = \"text-align: left;\">morrima03</td><td style = \"text-align: left;\">PF</td><td style = \"text-align: right;\">29</td><td style = \"text-align: left;\">BOS</td><td style = \"text-align: right;\">75</td><td style = \"text-align: right;\">2091</td><td style = \"text-align: right;\">14.2</td><td style = \"text-align: right;\">0.568</td><td style = \"text-align: right;\">0.461</td><td style = \"text-align: right;\">0.205</td><td style = \"text-align: right;\">3.9</td><td style = \"text-align: right;\">19.5</td><td style = \"text-align: right;\">11.7</td><td style = \"text-align: right;\">7.5</td><td style = \"text-align: right;\">1.0</td><td style = \"text-align: right;\">1.1</td><td style = \"text-align: right;\">9.1</td><td style = \"text-align: right;\">20.9</td><td style = \"text-align: right;\">2.1</td><td style = \"text-align: right;\">2.5</td><td style = \"text-align: right;\">4.5</td><td style = \"text-align: right;\">0.104</td><td style = \"text-align: right;\">-0.4</td><td style = \"text-align: right;\">-1.0</td><td style = \"text-align: right;\">-1.4</td><td style = \"text-align: right;\">0.3</td><td style = \"text-align: right;\">0</td><td style = \"text-align: right;\">0</td><td style = \"text-align: right;\">0</td><td style = \"text-align: right;\">0</td></tr><tr><td class = \"rowNumber\" style = \"font-weight: bold; text-align: right;\">11</td><td style = \"text-align: right;\">74</td><td style = \"text-align: left;\">Jaylen Brown</td><td style = \"text-align: left;\">brownja02</td><td style = \"text-align: left;\">SG</td><td style = \"text-align: right;\">22</td><td style = \"text-align: left;\">BOS</td><td style = \"text-align: right;\">74</td><td style = \"text-align: right;\">1913</td><td style = \"text-align: right;\">13.5</td><td style = \"text-align: right;\">0.547</td><td style = \"text-align: right;\">0.348</td><td style = \"text-align: right;\">0.255</td><td style = \"text-align: right;\">3.6</td><td style = \"text-align: right;\">13.9</td><td style = \"text-align: right;\">8.7</td><td style = \"text-align: right;\">7.7</td><td style = \"text-align: right;\">1.7</td><td style = \"text-align: right;\">1.5</td><td style = \"text-align: right;\">10.1</td><td style = \"text-align: right;\">22.1</td><td style = \"text-align: right;\">0.7</td><td style = \"text-align: right;\">2.4</td><td style = \"text-align: right;\">3.0</td><td style = \"text-align: right;\">0.076</td><td style = \"text-align: right;\">-1.5</td><td style = \"text-align: right;\">-0.6</td><td style = \"text-align: right;\">-2.1</td><td style = \"text-align: right;\">0.0</td><td style = \"text-align: right;\">0</td><td style = \"text-align: right;\">1</td><td style = \"text-align: right;\">0</td><td style = \"text-align: right;\">1</td></tr><tr><td class = \"rowNumber\" style = \"font-weight: bold; text-align: right;\">12</td><td style = \"text-align: right;\">452</td><td style = \"text-align: left;\">Marcus Smart</td><td style = \"text-align: left;\">smartma01</td><td style = \"text-align: left;\">SG</td><td style = \"text-align: right;\">24</td><td style = \"text-align: left;\">BOS</td><td style = \"text-align: right;\">80</td><td style = \"text-align: right;\">2200</td><td style = \"text-align: right;\">13.1</td><td style = \"text-align: right;\">0.568</td><td style = \"text-align: right;\">0.61</td><td style = \"text-align: right;\">0.228</td><td style = \"text-align: right;\">2.8</td><td style = \"text-align: right;\">8.6</td><td style = \"text-align: right;\">5.7</td><td style = \"text-align: right;\">19.1</td><td style = \"text-align: right;\">3.1</td><td style = \"text-align: right;\">1.1</td><td style = \"text-align: right;\">16.5</td><td style = \"text-align: right;\">14.6</td><td style = \"text-align: right;\">2.2</td><td style = \"text-align: right;\">3.1</td><td style = \"text-align: right;\">5.3</td><td style = \"text-align: right;\">0.116</td><td style = \"text-align: right;\">0.6</td><td style = \"text-align: right;\">1.3</td><td style = \"text-align: right;\">1.8</td><td style = \"text-align: right;\">2.1</td><td style = \"text-align: right;\">0</td><td style = \"text-align: right;\">1</td><td style = \"text-align: right;\">0</td><td style = \"text-align: right;\">1</td></tr><tr><td class = \"rowNumber\" style = \"font-weight: bold; text-align: right;\">13</td><td style = \"text-align: right;\">431</td><td style = \"text-align: left;\">Terry Rozier</td><td style = \"text-align: left;\">roziete01</td><td style = \"text-align: left;\">PG</td><td style = \"text-align: right;\">24</td><td style = \"text-align: left;\">BOS</td><td style = \"text-align: right;\">79</td><td style = \"text-align: right;\">1791</td><td style = \"text-align: right;\">12.9</td><td style = \"text-align: right;\">0.501</td><td style = \"text-align: right;\">0.506</td><td style = \"text-align: right;\">0.14</td><td style = \"text-align: right;\">1.9</td><td style = \"text-align: right;\">16.4</td><td style = \"text-align: right;\">9.1</td><td style = \"text-align: right;\">17.7</td><td style = \"text-align: right;\">1.8</td><td style = \"text-align: right;\">1.0</td><td style = \"text-align: right;\">8.8</td><td style = \"text-align: right;\">18.6</td><td style = \"text-align: right;\">0.9</td><td style = \"text-align: right;\">2.3</td><td style = \"text-align: right;\">3.2</td><td style = \"text-align: right;\">0.086</td><td style = \"text-align: right;\">-1.0</td><td style = \"text-align: right;\">0.2</td><td style = \"text-align: right;\">-0.7</td><td style = \"text-align: right;\">0.6</td><td style = \"text-align: right;\">0</td><td style = \"text-align: right;\">0</td><td style = \"text-align: right;\">0</td><td style = \"text-align: right;\">0</td></tr><tr><td style = \"text-align: right;\">&vellip;</td><td style = \"text-align: right;\">&vellip;</td><td style = \"text-align: right;\">&vellip;</td><td style = \"text-align: right;\">&vellip;</td><td style = \"text-align: right;\">&vellip;</td><td style = \"text-align: right;\">&vellip;</td><td style = \"text-align: right;\">&vellip;</td><td style = \"text-align: right;\">&vellip;</td><td style = \"text-align: right;\">&vellip;</td><td style = \"text-align: right;\">&vellip;</td><td style = \"text-align: right;\">&vellip;</td><td style = \"text-align: right;\">&vellip;</td><td style = \"text-align: right;\">&vellip;</td><td style = \"text-align: right;\">&vellip;</td><td style = \"text-align: right;\">&vellip;</td><td style = \"text-align: right;\">&vellip;</td><td style = \"text-align: right;\">&vellip;</td><td style = \"text-align: right;\">&vellip;</td><td style = \"text-align: right;\">&vellip;</td><td style = \"text-align: right;\">&vellip;</td><td style = \"text-align: right;\">&vellip;</td><td style = \"text-align: right;\">&vellip;</td><td style = \"text-align: right;\">&vellip;</td><td style = \"text-align: right;\">&vellip;</td><td style = \"text-align: right;\">&vellip;</td><td style = \"text-align: right;\">&vellip;</td><td style = \"text-align: right;\">&vellip;</td><td style = \"text-align: right;\">&vellip;</td><td style = \"text-align: right;\">&vellip;</td><td style = \"text-align: right;\">&vellip;</td><td style = \"text-align: right;\">&vellip;</td><td style = \"text-align: right;\">&vellip;</td><td style = \"text-align: right;\">&vellip;</td></tr><tr><td class = \"rowNumber\" style = \"font-weight: bold; text-align: right;\">189</td><td style = \"text-align: right;\">468</td><td style = \"text-align: left;\">Garrett Temple</td><td style = \"text-align: left;\">templga01</td><td style = \"text-align: left;\">SG</td><td style = \"text-align: right;\">32</td><td style = \"text-align: left;\">TOT</td><td style = \"text-align: right;\">75</td><td style = \"text-align: right;\">2040</td><td style = \"text-align: right;\">8.5</td><td style = \"text-align: right;\">0.543</td><td style = \"text-align: right;\">0.535</td><td style = \"text-align: right;\">0.217</td><td style = \"text-align: right;\">1.5</td><td style = \"text-align: right;\">10.2</td><td style = \"text-align: right;\">5.8</td><td style = \"text-align: right;\">7.4</td><td style = \"text-align: right;\">1.8</td><td style = \"text-align: right;\">1.4</td><td style = \"text-align: right;\">11.5</td><td style = \"text-align: right;\">13.2</td><td style = \"text-align: right;\">0.3</td><td style = \"text-align: right;\">2.0</td><td style = \"text-align: right;\">2.2</td><td style = \"text-align: right;\">0.052</td><td style = \"text-align: right;\">-1.7</td><td style = \"text-align: right;\">0.6</td><td style = \"text-align: right;\">-1.2</td><td style = \"text-align: right;\">0.4</td><td style = \"text-align: right;\">0</td><td style = \"text-align: right;\">0</td><td style = \"text-align: right;\">0</td><td style = \"text-align: right;\">0</td></tr><tr><td class = \"rowNumber\" style = \"font-weight: bold; text-align: right;\">190</td><td style = \"text-align: right;\">442</td><td style = \"text-align: left;\">Wayne Selden</td><td style = \"text-align: left;\">seldewa01</td><td style = \"text-align: left;\">SG</td><td style = \"text-align: right;\">24</td><td style = \"text-align: left;\">TOT</td><td style = \"text-align: right;\">75</td><td style = \"text-align: right;\">1439</td><td style = \"text-align: right;\">8.3</td><td style = \"text-align: right;\">0.491</td><td style = \"text-align: right;\">0.36</td><td style = \"text-align: right;\">0.19</td><td style = \"text-align: right;\">2.8</td><td style = \"text-align: right;\">11.0</td><td style = \"text-align: right;\">6.9</td><td style = \"text-align: right;\">11.3</td><td style = \"text-align: right;\">1.1</td><td style = \"text-align: right;\">0.8</td><td style = \"text-align: right;\">13.1</td><td style = \"text-align: right;\">18.4</td><td style = \"text-align: right;\">-1.0</td><td style = \"text-align: right;\">0.8</td><td style = \"text-align: right;\">-0.3</td><td style = \"text-align: right;\">-0.009</td><td style = \"text-align: right;\">-3.5</td><td style = \"text-align: right;\">-1.6</td><td style = \"text-align: right;\">-5.1</td><td style = \"text-align: right;\">-1.1</td><td style = \"text-align: right;\">0</td><td style = \"text-align: right;\">0</td><td style = \"text-align: right;\">0</td><td style = \"text-align: right;\">0</td></tr><tr><td class = \"rowNumber\" style = \"font-weight: bold; text-align: right;\">191</td><td style = \"text-align: right;\">422</td><td style = \"text-align: left;\">Austin Rivers</td><td style = \"text-align: left;\">riverau01</td><td style = \"text-align: left;\">SG</td><td style = \"text-align: right;\">26</td><td style = \"text-align: left;\">TOT</td><td style = \"text-align: right;\">76</td><td style = \"text-align: right;\">2028</td><td style = \"text-align: right;\">7.7</td><td style = \"text-align: right;\">0.503</td><td style = \"text-align: right;\">0.572</td><td style = \"text-align: right;\">0.166</td><td style = \"text-align: right;\">1.3</td><td style = \"text-align: right;\">7.5</td><td style = \"text-align: right;\">4.4</td><td style = \"text-align: right;\">11.5</td><td style = \"text-align: right;\">1.1</td><td style = \"text-align: right;\">1.0</td><td style = \"text-align: right;\">10.0</td><td style = \"text-align: right;\">14.5</td><td style = \"text-align: right;\">0.4</td><td style = \"text-align: right;\">0.8</td><td style = \"text-align: right;\">1.2</td><td style = \"text-align: right;\">0.028</td><td style = \"text-align: right;\">-2.0</td><td style = \"text-align: right;\">-1.5</td><td style = \"text-align: right;\">-3.5</td><td style = \"text-align: right;\">-0.7</td><td style = \"text-align: right;\">0</td><td style = \"text-align: right;\">0</td><td style = \"text-align: right;\">0</td><td style = \"text-align: right;\">0</td></tr><tr><td class = \"rowNumber\" style = \"font-weight: bold; text-align: right;\">192</td><td style = \"text-align: right;\">63</td><td style = \"text-align: left;\">Avery Bradley</td><td style = \"text-align: left;\">bradlav01</td><td style = \"text-align: left;\">SG</td><td style = \"text-align: right;\">28</td><td style = \"text-align: left;\">TOT</td><td style = \"text-align: right;\">63</td><td style = \"text-align: right;\">1905</td><td style = \"text-align: right;\">7.6</td><td style = \"text-align: right;\">0.496</td><td style = \"text-align: right;\">0.403</td><td style = \"text-align: right;\">0.082</td><td style = \"text-align: right;\">2.5</td><td style = \"text-align: right;\">7.3</td><td style = \"text-align: right;\">4.9</td><td style = \"text-align: right;\">11.8</td><td style = \"text-align: right;\">1.0</td><td style = \"text-align: right;\">0.7</td><td style = \"text-align: right;\">12.4</td><td style = \"text-align: right;\">16.2</td><td style = \"text-align: right;\">-0.6</td><td style = \"text-align: right;\">1.0</td><td style = \"text-align: right;\">0.3</td><td style = \"text-align: right;\">0.009</td><td style = \"text-align: right;\">-1.7</td><td style = \"text-align: right;\">-1.0</td><td style = \"text-align: right;\">-2.8</td><td style = \"text-align: right;\">-0.4</td><td style = \"text-align: right;\">0</td><td style = \"text-align: right;\">0</td><td style = \"text-align: right;\">0</td><td style = \"text-align: right;\">0</td></tr><tr><td class = \"rowNumber\" style = \"font-weight: bold; text-align: right;\">193</td><td style = \"text-align: right;\">163</td><td style = \"text-align: left;\">Derrick Favors</td><td style = \"text-align: left;\">favorde01</td><td style = \"text-align: left;\">C</td><td style = \"text-align: right;\">27</td><td style = \"text-align: left;\">UTA</td><td style = \"text-align: right;\">76</td><td style = \"text-align: right;\">1766</td><td style = \"text-align: right;\">21.8</td><td style = \"text-align: right;\">0.624</td><td style = \"text-align: right;\">0.126</td><td style = \"text-align: right;\">0.368</td><td style = \"text-align: right;\">12.9</td><td style = \"text-align: right;\">21.3</td><td style = \"text-align: right;\">17.2</td><td style = \"text-align: right;\">8.0</td><td style = \"text-align: right;\">1.5</td><td style = \"text-align: right;\">4.8</td><td style = \"text-align: right;\">10.5</td><td style = \"text-align: right;\">19.4</td><td style = \"text-align: right;\">4.4</td><td style = \"text-align: right;\">3.5</td><td style = \"text-align: right;\">7.9</td><td style = \"text-align: right;\">0.215</td><td style = \"text-align: right;\">1.1</td><td style = \"text-align: right;\">3.2</td><td style = \"text-align: right;\">4.3</td><td style = \"text-align: right;\">2.8</td><td style = \"text-align: right;\">0</td><td style = \"text-align: right;\">0</td><td style = \"text-align: right;\">0</td><td style = \"text-align: right;\">0</td></tr><tr><td class = \"rowNumber\" style = \"font-weight: bold; text-align: right;\">194</td><td style = \"text-align: right;\">354</td><td style = \"text-align: left;\">Donovan Mitchell</td><td style = \"text-align: left;\">mitchdo01</td><td style = \"text-align: left;\">SG</td><td style = \"text-align: right;\">22</td><td style = \"text-align: left;\">UTA</td><td style = \"text-align: right;\">77</td><td style = \"text-align: right;\">2598</td><td style = \"text-align: right;\">17.2</td><td style = \"text-align: right;\">0.537</td><td style = \"text-align: right;\">0.339</td><td style = \"text-align: right;\">0.259</td><td style = \"text-align: right;\">2.5</td><td style = \"text-align: right;\">10.5</td><td style = \"text-align: right;\">6.6</td><td style = \"text-align: right;\">21.2</td><td style = \"text-align: right;\">2.0</td><td style = \"text-align: right;\">0.9</td><td style = \"text-align: right;\">11.3</td><td style = \"text-align: right;\">31.6</td><td style = \"text-align: right;\">1.3</td><td style = \"text-align: right;\">3.7</td><td style = \"text-align: right;\">5.0</td><td style = \"text-align: right;\">0.092</td><td style = \"text-align: right;\">0.8</td><td style = \"text-align: right;\">-0.2</td><td style = \"text-align: right;\">0.6</td><td style = \"text-align: right;\">1.7</td><td style = \"text-align: right;\">0</td><td style = \"text-align: right;\">1</td><td style = \"text-align: right;\">0</td><td style = \"text-align: right;\">1</td></tr><tr><td class = \"rowNumber\" style = \"font-weight: bold; text-align: right;\">195</td><td style = \"text-align: right;\">121</td><td style = \"text-align: left;\">Jae Crowder</td><td style = \"text-align: left;\">crowdja01</td><td style = \"text-align: left;\">SF</td><td style = \"text-align: right;\">28</td><td style = \"text-align: left;\">UTA</td><td style = \"text-align: right;\">80</td><td style = \"text-align: right;\">2166</td><td style = \"text-align: right;\">12.1</td><td style = \"text-align: right;\">0.538</td><td style = \"text-align: right;\">0.655</td><td style = \"text-align: right;\">0.247</td><td style = \"text-align: right;\">3.1</td><td style = \"text-align: right;\">15.9</td><td style = \"text-align: right;\">9.6</td><td style = \"text-align: right;\">8.9</td><td style = \"text-align: right;\">1.4</td><td style = \"text-align: right;\">1.1</td><td style = \"text-align: right;\">8.8</td><td style = \"text-align: right;\">19.1</td><td style = \"text-align: right;\">1.3</td><td style = \"text-align: right;\">3.1</td><td style = \"text-align: right;\">4.4</td><td style = \"text-align: right;\">0.097</td><td style = \"text-align: right;\">0.0</td><td style = \"text-align: right;\">0.4</td><td style = \"text-align: right;\">0.4</td><td style = \"text-align: right;\">1.3</td><td style = \"text-align: right;\">0</td><td style = \"text-align: right;\">0</td><td style = \"text-align: right;\">0</td><td style = \"text-align: right;\">0</td></tr><tr><td class = \"rowNumber\" style = \"font-weight: bold; text-align: right;\">196</td><td style = \"text-align: right;\">383</td><td style = \"text-align: left;\">Royce O&apos;Neale</td><td style = \"text-align: left;\">onealro01</td><td style = \"text-align: left;\">SF</td><td style = \"text-align: right;\">25</td><td style = \"text-align: left;\">UTA</td><td style = \"text-align: right;\">82</td><td style = \"text-align: right;\">1671</td><td style = \"text-align: right;\">9.0</td><td style = \"text-align: right;\">0.589</td><td style = \"text-align: right;\">0.513</td><td style = \"text-align: right;\">0.122</td><td style = \"text-align: right;\">1.5</td><td style = \"text-align: right;\">16.7</td><td style = \"text-align: right;\">9.2</td><td style = \"text-align: right;\">10.0</td><td style = \"text-align: right;\">1.5</td><td style = \"text-align: right;\">1.1</td><td style = \"text-align: right;\">16.2</td><td style = \"text-align: right;\">11.0</td><td style = \"text-align: right;\">0.7</td><td style = \"text-align: right;\">2.5</td><td style = \"text-align: right;\">3.3</td><td style = \"text-align: right;\">0.094</td><td style = \"text-align: right;\">-2.0</td><td style = \"text-align: right;\">2.1</td><td style = \"text-align: right;\">0.1</td><td style = \"text-align: right;\">0.9</td><td style = \"text-align: right;\">0</td><td style = \"text-align: right;\">0</td><td style = \"text-align: right;\">0</td><td style = \"text-align: right;\">0</td></tr><tr><td class = \"rowNumber\" style = \"font-weight: bold; text-align: right;\">197</td><td style = \"text-align: right;\">79</td><td style = \"text-align: left;\">Thomas Bryant</td><td style = \"text-align: left;\">bryanth01</td><td style = \"text-align: left;\">C</td><td style = \"text-align: right;\">21</td><td style = \"text-align: left;\">WAS</td><td style = \"text-align: right;\">72</td><td style = \"text-align: right;\">1496</td><td style = \"text-align: right;\">21.0</td><td style = \"text-align: right;\">0.674</td><td style = \"text-align: right;\">0.197</td><td style = \"text-align: right;\">0.273</td><td style = \"text-align: right;\">8.1</td><td style = \"text-align: right;\">25.1</td><td style = \"text-align: right;\">16.5</td><td style = \"text-align: right;\">9.3</td><td style = \"text-align: right;\">0.8</td><td style = \"text-align: right;\">3.8</td><td style = \"text-align: right;\">9.6</td><td style = \"text-align: right;\">17.6</td><td style = \"text-align: right;\">4.3</td><td style = \"text-align: right;\">1.3</td><td style = \"text-align: right;\">5.6</td><td style = \"text-align: right;\">0.178</td><td style = \"text-align: right;\">1.2</td><td style = \"text-align: right;\">0.4</td><td style = \"text-align: right;\">1.6</td><td style = \"text-align: right;\">1.3</td><td style = \"text-align: right;\">0</td><td style = \"text-align: right;\">0</td><td style = \"text-align: right;\">0</td><td style = \"text-align: right;\">0</td></tr><tr><td class = \"rowNumber\" style = \"font-weight: bold; text-align: right;\">198</td><td style = \"text-align: right;\">40</td><td style = \"text-align: left;\">Bradley Beal</td><td style = \"text-align: left;\">bealbr01</td><td style = \"text-align: left;\">SG</td><td style = \"text-align: right;\">25</td><td style = \"text-align: left;\">WAS</td><td style = \"text-align: right;\">82</td><td style = \"text-align: right;\">3028</td><td style = \"text-align: right;\">20.8</td><td style = \"text-align: right;\">0.581</td><td style = \"text-align: right;\">0.37</td><td style = \"text-align: right;\">0.278</td><td style = \"text-align: right;\">3.1</td><td style = \"text-align: right;\">11.7</td><td style = \"text-align: right;\">7.4</td><td style = \"text-align: right;\">24.1</td><td style = \"text-align: right;\">1.9</td><td style = \"text-align: right;\">1.6</td><td style = \"text-align: right;\">11.0</td><td style = \"text-align: right;\">28.4</td><td style = \"text-align: right;\">5.9</td><td style = \"text-align: right;\">1.7</td><td style = \"text-align: right;\">7.6</td><td style = \"text-align: right;\">0.12</td><td style = \"text-align: right;\">3.9</td><td style = \"text-align: right;\">-1.1</td><td style = \"text-align: right;\">2.8</td><td style = \"text-align: right;\">3.7</td><td style = \"text-align: right;\">0</td><td style = \"text-align: right;\">1</td><td style = \"text-align: right;\">1</td><td style = \"text-align: right;\">2</td></tr><tr><td class = \"rowNumber\" style = \"font-weight: bold; text-align: right;\">199</td><td style = \"text-align: right;\">238</td><td style = \"text-align: left;\">Dwight Howard</td><td style = \"text-align: left;\">howardw01</td><td style = \"text-align: left;\">C</td><td style = \"text-align: right;\">33</td><td style = \"text-align: left;\">WAS</td><td style = \"text-align: right;\">9</td><td style = \"text-align: right;\">230</td><td style = \"text-align: right;\">17.4</td><td style = \"text-align: right;\">0.638</td><td style = \"text-align: right;\">0.0</td><td style = \"text-align: right;\">0.696</td><td style = \"text-align: right;\">11.1</td><td style = \"text-align: right;\">28.3</td><td style = \"text-align: right;\">19.6</td><td style = \"text-align: right;\">2.6</td><td style = \"text-align: right;\">1.4</td><td style = \"text-align: right;\">1.5</td><td style = \"text-align: right;\">15.1</td><td style = \"text-align: right;\">19.6</td><td style = \"text-align: right;\">0.4</td><td style = \"text-align: right;\">0.2</td><td style = \"text-align: right;\">0.6</td><td style = \"text-align: right;\">0.124</td><td style = \"text-align: right;\">-2.9</td><td style = \"text-align: right;\">-2.3</td><td style = \"text-align: right;\">-5.2</td><td style = \"text-align: right;\">-0.2</td><td style = \"text-align: right;\">0</td><td style = \"text-align: right;\">1</td><td style = \"text-align: right;\">0</td><td style = \"text-align: right;\">1</td></tr><tr><td class = \"rowNumber\" style = \"font-weight: bold; text-align: right;\">200</td><td style = \"text-align: right;\">201</td><td style = \"text-align: left;\">Jeff Green</td><td style = \"text-align: left;\">greenje02</td><td style = \"text-align: left;\">PF</td><td style = \"text-align: right;\">32</td><td style = \"text-align: left;\">WAS</td><td style = \"text-align: right;\">77</td><td style = \"text-align: right;\">2097</td><td style = \"text-align: right;\">13.6</td><td style = \"text-align: right;\">0.608</td><td style = \"text-align: right;\">0.466</td><td style = \"text-align: right;\">0.3</td><td style = \"text-align: right;\">2.9</td><td style = \"text-align: right;\">13.3</td><td style = \"text-align: right;\">8.0</td><td style = \"text-align: right;\">9.2</td><td style = \"text-align: right;\">1.0</td><td style = \"text-align: right;\">1.6</td><td style = \"text-align: right;\">11.5</td><td style = \"text-align: right;\">17.8</td><td style = \"text-align: right;\">2.8</td><td style = \"text-align: right;\">0.8</td><td style = \"text-align: right;\">3.6</td><td style = \"text-align: right;\">0.083</td><td style = \"text-align: right;\">0.2</td><td style = \"text-align: right;\">-1.4</td><td style = \"text-align: right;\">-1.2</td><td style = \"text-align: right;\">0.4</td><td style = \"text-align: right;\">0</td><td style = \"text-align: right;\">0</td><td style = \"text-align: right;\">0</td><td style = \"text-align: right;\">0</td></tr></tbody></table></div>"
      ],
      "text/latex": [
       "\\begin{tabular}{r|cccccccccc}\n",
       "\t& ID & Player & Username & Pos & Age & Tm & G & MP & PER & \\\\\n",
       "\t\\hline\n",
       "\t& Int64 & String31 & String15 & String7 & Int64 & String3 & Int64 & Int64 & Float64 & \\\\\n",
       "\t\\hline\n",
       "\t1 & 108 & John Collins & collijo01 & PF & 21 & ATL & 61 & 1829 & 21.8 & $\\dots$ \\\\\n",
       "\t2 & 526 & Trae Young & youngtr01 & PG & 20 & ATL & 81 & 2503 & 17.0 & $\\dots$ \\\\\n",
       "\t3 & 130 & Dewayne Dedmon & dedmode01 & C & 29 & ATL & 64 & 1609 & 16.0 & $\\dots$ \\\\\n",
       "\t4 & 39 & Kent Bazemore & bazemke01 & SG & 29 & ATL & 67 & 1643 & 11.9 & $\\dots$ \\\\\n",
       "\t5 & 92 & Vince Carter & cartevi01 & PF & 42 & ATL & 76 & 1330 & 11.8 & $\\dots$ \\\\\n",
       "\t6 & 45 & DeAndre' Bembry & bembrde01 & SG & 24 & ATL & 82 & 1931 & 10.8 & $\\dots$ \\\\\n",
       "\t7 & 239 & Kevin Huerter & huertke01 & SG & 20 & ATL & 75 & 2048 & 10.1 & $\\dots$ \\\\\n",
       "\t8 & 218 & Gordon Hayward & haywago01 & PF & 28 & BOS & 72 & 1863 & 15.6 & $\\dots$ \\\\\n",
       "\t9 & 466 & Jayson Tatum & tatumja01 & SF & 20 & BOS & 79 & 2455 & 15.1 & $\\dots$ \\\\\n",
       "\t10 & 361 & Marcus Morris & morrima03 & PF & 29 & BOS & 75 & 2091 & 14.2 & $\\dots$ \\\\\n",
       "\t11 & 74 & Jaylen Brown & brownja02 & SG & 22 & BOS & 74 & 1913 & 13.5 & $\\dots$ \\\\\n",
       "\t12 & 452 & Marcus Smart & smartma01 & SG & 24 & BOS & 80 & 2200 & 13.1 & $\\dots$ \\\\\n",
       "\t13 & 431 & Terry Rozier & roziete01 & PG & 24 & BOS & 79 & 1791 & 12.9 & $\\dots$ \\\\\n",
       "\t14 & 433 & D'Angelo Russell & russeda01 & PG & 22 & BRK & 81 & 2448 & 19.4 & $\\dots$ \\\\\n",
       "\t15 & 11 & Jarrett Allen & allenja01 & C & 20 & BRK & 80 & 2096 & 18.5 & $\\dots$ \\\\\n",
       "\t16 & 128 & Ed Davis & davised01 & C & 29 & BRK & 81 & 1446 & 17.3 & $\\dots$ \\\\\n",
       "\t17 & 140 & Spencer Dinwiddie & dinwisp01 & PG & 25 & BRK & 68 & 1914 & 16.3 & $\\dots$ \\\\\n",
       "\t18 & 211 & Joe Harris & harrijo01 & SG & 27 & BRK & 76 & 2293 & 13.5 & $\\dots$ \\\\\n",
       "\t19 & 90 & DeMarre Carroll & carrode01 & PF & 32 & BRK & 67 & 1703 & 12.1 & $\\dots$ \\\\\n",
       "\t20 & 294 & Zach LaVine & lavinza01 & SG & 23 & CHI & 63 & 2171 & 18.7 & $\\dots$ \\\\\n",
       "\t21 & 311 & Robin Lopez & lopezro01 & C & 30 & CHI & 74 & 1606 & 15.9 & $\\dots$ \\\\\n",
       "\t22 & 214 & Shaquille Harrison & harrish01 & SG & 25 & CHI & 73 & 1430 & 12.4 & $\\dots$ \\\\\n",
       "\t23 & 22 & Ryan Arcidiacono & arcidry01 & PG & 24 & CHI & 81 & 1961 & 11.6 & $\\dots$ \\\\\n",
       "\t24 & 496 & Kemba Walker & walkeke02 & PG & 28 & CHO & 82 & 2863 & 21.7 & $\\dots$ \\\\\n",
       "\t$\\dots$ & $\\dots$ & $\\dots$ & $\\dots$ & $\\dots$ & $\\dots$ & $\\dots$ & $\\dots$ & $\\dots$ & $\\dots$ &  \\\\\n",
       "\\end{tabular}\n"
      ],
      "text/plain": [
       "\u001b[1m200×32 DataFrame\u001b[0m\n",
       "\u001b[1m Row \u001b[0m│\u001b[1m ID    \u001b[0m\u001b[1m Player           \u001b[0m\u001b[1m Username  \u001b[0m\u001b[1m Pos     \u001b[0m\u001b[1m Age   \u001b[0m\u001b[1m Tm      \u001b[0m\u001b[1m G     \u001b[0m\u001b[1m MP \u001b[0m ⋯\n",
       "     │\u001b[90m Int64 \u001b[0m\u001b[90m String31         \u001b[0m\u001b[90m String15  \u001b[0m\u001b[90m String7 \u001b[0m\u001b[90m Int64 \u001b[0m\u001b[90m String3 \u001b[0m\u001b[90m Int64 \u001b[0m\u001b[90m Int\u001b[0m ⋯\n",
       "─────┼──────────────────────────────────────────────────────────────────────────\n",
       "   1 │   108  John Collins      collijo01  PF          21  ATL         61   18 ⋯\n",
       "   2 │   526  Trae Young        youngtr01  PG          20  ATL         81   25\n",
       "   3 │   130  Dewayne Dedmon    dedmode01  C           29  ATL         64   16\n",
       "   4 │    39  Kent Bazemore     bazemke01  SG          29  ATL         67   16\n",
       "   5 │    92  Vince Carter      cartevi01  PF          42  ATL         76   13 ⋯\n",
       "   6 │    45  DeAndre' Bembry   bembrde01  SG          24  ATL         82   19\n",
       "   7 │   239  Kevin Huerter     huertke01  SG          20  ATL         75   20\n",
       "   8 │   218  Gordon Hayward    haywago01  PF          28  BOS         72   18\n",
       "  ⋮  │   ⋮           ⋮              ⋮         ⋮       ⋮       ⋮       ⋮      ⋮ ⋱\n",
       " 194 │   354  Donovan Mitchell  mitchdo01  SG          22  UTA         77   25 ⋯\n",
       " 195 │   121  Jae Crowder       crowdja01  SF          28  UTA         80   21\n",
       " 196 │   383  Royce O'Neale     onealro01  SF          25  UTA         82   16\n",
       " 197 │    79  Thomas Bryant     bryanth01  C           21  WAS         72   14\n",
       " 198 │    40  Bradley Beal      bealbr01   SG          25  WAS         82   30 ⋯\n",
       " 199 │   238  Dwight Howard     howardw01  C           33  WAS          9    2\n",
       " 200 │   201  Jeff Green        greenje02  PF          32  WAS         77   20\n",
       "\u001b[36m                                                 25 columns and 185 rows omitted\u001b[0m"
      ]
     },
     "metadata": {},
     "output_type": "display_data"
    }
   ],
   "source": [
    "sort!(df, [:Tm, order(:PER, rev=true)])"
   ]
  },
  {
   "cell_type": "markdown",
   "metadata": {},
   "source": [
    "A helpful aggregation you can do while exploring your data is the `describe()` function:"
   ]
  },
  {
   "cell_type": "code",
   "execution_count": 138,
   "metadata": {},
   "outputs": [
    {
     "data": {
      "text/html": [
       "<div><div style = \"float: left;\"><span>32×7 DataFrame</span></div><div style = \"float: right;\"><span style = \"font-style: italic;\">7 rows omitted</span></div><div style = \"clear: both;\"></div></div><div class = \"data-frame\" style = \"overflow-x: scroll;\"><table class = \"data-frame\" style = \"margin-bottom: 6px;\"><thead><tr class = \"header\"><th class = \"rowNumber\" style = \"font-weight: bold; text-align: right;\">Row</th><th style = \"text-align: left;\">variable</th><th style = \"text-align: left;\">mean</th><th style = \"text-align: left;\">min</th><th style = \"text-align: left;\">median</th><th style = \"text-align: left;\">max</th><th style = \"text-align: left;\">nmissing</th><th style = \"text-align: left;\">eltype</th></tr><tr class = \"subheader headerLastRow\"><th class = \"rowNumber\" style = \"font-weight: bold; text-align: right;\"></th><th title = \"Symbol\" style = \"text-align: left;\">Symbol</th><th title = \"Union{Nothing, Float64}\" style = \"text-align: left;\">Union…</th><th title = \"Any\" style = \"text-align: left;\">Any</th><th title = \"Union{Nothing, Float64}\" style = \"text-align: left;\">Union…</th><th title = \"Any\" style = \"text-align: left;\">Any</th><th title = \"Int64\" style = \"text-align: left;\">Int64</th><th title = \"DataType\" style = \"text-align: left;\">DataType</th></tr></thead><tbody><tr><td class = \"rowNumber\" style = \"font-weight: bold; text-align: right;\">1</td><td style = \"text-align: left;\">ID</td><td style = \"text-align: left;\">255.26</td><td style = \"text-align: left;\">5</td><td style = \"text-align: left;\">241.5</td><td style = \"text-align: left;\">526</td><td style = \"text-align: right;\">0</td><td style = \"text-align: left;\">Int64</td></tr><tr><td class = \"rowNumber\" style = \"font-weight: bold; text-align: right;\">2</td><td style = \"text-align: left;\">Player</td><td style = \"font-style: italic; text-align: left;\"></td><td style = \"text-align: left;\">Aaron Gordon</td><td style = \"font-style: italic; text-align: left;\"></td><td style = \"text-align: left;\">Zaza Pachulia</td><td style = \"text-align: right;\">0</td><td style = \"text-align: left;\">String31</td></tr><tr><td class = \"rowNumber\" style = \"font-weight: bold; text-align: right;\">3</td><td style = \"text-align: left;\">Username</td><td style = \"font-style: italic; text-align: left;\"></td><td style = \"text-align: left;\">adebaba01</td><td style = \"font-style: italic; text-align: left;\"></td><td style = \"text-align: left;\">youngtr01</td><td style = \"text-align: right;\">0</td><td style = \"text-align: left;\">String15</td></tr><tr><td class = \"rowNumber\" style = \"font-weight: bold; text-align: right;\">4</td><td style = \"text-align: left;\">Pos</td><td style = \"font-style: italic; text-align: left;\"></td><td style = \"text-align: left;\">C</td><td style = \"font-style: italic; text-align: left;\"></td><td style = \"text-align: left;\">SG-PF</td><td style = \"text-align: right;\">0</td><td style = \"text-align: left;\">String7</td></tr><tr><td class = \"rowNumber\" style = \"font-weight: bold; text-align: right;\">5</td><td style = \"text-align: left;\">Age</td><td style = \"text-align: left;\">26.78</td><td style = \"text-align: left;\">19</td><td style = \"text-align: left;\">26.0</td><td style = \"text-align: left;\">42</td><td style = \"text-align: right;\">0</td><td style = \"text-align: left;\">Int64</td></tr><tr><td class = \"rowNumber\" style = \"font-weight: bold; text-align: right;\">6</td><td style = \"text-align: left;\">Tm</td><td style = \"font-style: italic; text-align: left;\"></td><td style = \"text-align: left;\">ATL</td><td style = \"font-style: italic; text-align: left;\"></td><td style = \"text-align: left;\">WAS</td><td style = \"text-align: right;\">0</td><td style = \"text-align: left;\">String3</td></tr><tr><td class = \"rowNumber\" style = \"font-weight: bold; text-align: right;\">7</td><td style = \"text-align: left;\">G</td><td style = \"text-align: left;\">69.44</td><td style = \"text-align: left;\">9</td><td style = \"text-align: left;\">73.0</td><td style = \"text-align: left;\">82</td><td style = \"text-align: right;\">0</td><td style = \"text-align: left;\">Int64</td></tr><tr><td class = \"rowNumber\" style = \"font-weight: bold; text-align: right;\">8</td><td style = \"text-align: left;\">MP</td><td style = \"text-align: left;\">1787.57</td><td style = \"text-align: left;\">230</td><td style = \"text-align: left;\">1835.0</td><td style = \"text-align: left;\">3028</td><td style = \"text-align: right;\">0</td><td style = \"text-align: left;\">Int64</td></tr><tr><td class = \"rowNumber\" style = \"font-weight: bold; text-align: right;\">9</td><td style = \"text-align: left;\">PER</td><td style = \"text-align: left;\">14.9405</td><td style = \"text-align: left;\">5.2</td><td style = \"text-align: left;\">13.65</td><td style = \"text-align: left;\">30.6</td><td style = \"text-align: right;\">0</td><td style = \"text-align: left;\">Float64</td></tr><tr><td class = \"rowNumber\" style = \"font-weight: bold; text-align: right;\">10</td><td style = \"text-align: left;\">TS.</td><td style = \"text-align: left;\">0.563035</td><td style = \"text-align: left;\">0.45</td><td style = \"text-align: left;\">0.561</td><td style = \"text-align: left;\">0.692</td><td style = \"text-align: right;\">0</td><td style = \"text-align: left;\">Float64</td></tr><tr><td class = \"rowNumber\" style = \"font-weight: bold; text-align: right;\">11</td><td style = \"text-align: left;\">X3PAr</td><td style = \"text-align: left;\">0.36952</td><td style = \"text-align: left;\">0.0</td><td style = \"text-align: left;\">0.386</td><td style = \"text-align: left;\">0.83</td><td style = \"text-align: right;\">0</td><td style = \"text-align: left;\">Float64</td></tr><tr><td class = \"rowNumber\" style = \"font-weight: bold; text-align: right;\">12</td><td style = \"text-align: left;\">FTr</td><td style = \"text-align: left;\">0.260945</td><td style = \"text-align: left;\">0.059</td><td style = \"text-align: left;\">0.241</td><td style = \"text-align: left;\">0.696</td><td style = \"text-align: right;\">0</td><td style = \"text-align: left;\">Float64</td></tr><tr><td class = \"rowNumber\" style = \"font-weight: bold; text-align: right;\">13</td><td style = \"text-align: left;\">ORB.</td><td style = \"text-align: left;\">4.3825</td><td style = \"text-align: left;\">0.7</td><td style = \"text-align: left;\">3.0</td><td style = \"text-align: left;\">16.8</td><td style = \"text-align: right;\">0</td><td style = \"text-align: left;\">Float64</td></tr><tr><td style = \"text-align: right;\">&vellip;</td><td style = \"text-align: right;\">&vellip;</td><td style = \"text-align: right;\">&vellip;</td><td style = \"text-align: right;\">&vellip;</td><td style = \"text-align: right;\">&vellip;</td><td style = \"text-align: right;\">&vellip;</td><td style = \"text-align: right;\">&vellip;</td><td style = \"text-align: right;\">&vellip;</td></tr><tr><td class = \"rowNumber\" style = \"font-weight: bold; text-align: right;\">21</td><td style = \"text-align: left;\">OWS</td><td style = \"text-align: left;\">2.15</td><td style = \"text-align: left;\">-2.8</td><td style = \"text-align: left;\">1.75</td><td style = \"text-align: left;\">11.4</td><td style = \"text-align: right;\">0</td><td style = \"text-align: left;\">Float64</td></tr><tr><td class = \"rowNumber\" style = \"font-weight: bold; text-align: right;\">22</td><td style = \"text-align: left;\">DWS</td><td style = \"text-align: left;\">1.8155</td><td style = \"text-align: left;\">-0.5</td><td style = \"text-align: left;\">1.65</td><td style = \"text-align: left;\">5.9</td><td style = \"text-align: right;\">0</td><td style = \"text-align: left;\">Float64</td></tr><tr><td class = \"rowNumber\" style = \"font-weight: bold; text-align: right;\">23</td><td style = \"text-align: left;\">WS</td><td style = \"text-align: left;\">3.963</td><td style = \"text-align: left;\">-1.7</td><td style = \"text-align: left;\">3.3</td><td style = \"text-align: left;\">15.2</td><td style = \"text-align: right;\">0</td><td style = \"text-align: left;\">Float64</td></tr><tr><td class = \"rowNumber\" style = \"font-weight: bold; text-align: right;\">24</td><td style = \"text-align: left;\">WS_48</td><td style = \"text-align: left;\">0.10282</td><td style = \"text-align: left;\">-0.04</td><td style = \"text-align: left;\">0.0985</td><td style = \"text-align: left;\">0.254</td><td style = \"text-align: right;\">0</td><td style = \"text-align: left;\">Float64</td></tr><tr><td class = \"rowNumber\" style = \"font-weight: bold; text-align: right;\">25</td><td style = \"text-align: left;\">OBPM</td><td style = \"text-align: left;\">0.045</td><td style = \"text-align: left;\">-5.5</td><td style = \"text-align: left;\">-0.2</td><td style = \"text-align: left;\">10.5</td><td style = \"text-align: right;\">0</td><td style = \"text-align: left;\">Float64</td></tr><tr><td class = \"rowNumber\" style = \"font-weight: bold; text-align: right;\">26</td><td style = \"text-align: left;\">DBPM</td><td style = \"text-align: left;\">0.007</td><td style = \"text-align: left;\">-4.1</td><td style = \"text-align: left;\">-0.1</td><td style = \"text-align: left;\">5.5</td><td style = \"text-align: right;\">0</td><td style = \"text-align: left;\">Float64</td></tr><tr><td class = \"rowNumber\" style = \"font-weight: bold; text-align: right;\">27</td><td style = \"text-align: left;\">BPM</td><td style = \"text-align: left;\">0.0465</td><td style = \"text-align: left;\">-6.3</td><td style = \"text-align: left;\">-0.25</td><td style = \"text-align: left;\">11.7</td><td style = \"text-align: right;\">0</td><td style = \"text-align: left;\">Float64</td></tr><tr><td class = \"rowNumber\" style = \"font-weight: bold; text-align: right;\">28</td><td style = \"text-align: left;\">VORP</td><td style = \"text-align: left;\">1.0965</td><td style = \"text-align: left;\">-2.2</td><td style = \"text-align: left;\">0.75</td><td style = \"text-align: left;\">9.9</td><td style = \"text-align: right;\">0</td><td style = \"text-align: left;\">Float64</td></tr><tr><td class = \"rowNumber\" style = \"font-weight: bold; text-align: right;\">29</td><td style = \"text-align: left;\">Olympics2016</td><td style = \"text-align: left;\">0.085</td><td style = \"text-align: left;\">0</td><td style = \"text-align: left;\">0.0</td><td style = \"text-align: left;\">1</td><td style = \"text-align: right;\">0</td><td style = \"text-align: left;\">Int64</td></tr><tr><td class = \"rowNumber\" style = \"font-weight: bold; text-align: right;\">30</td><td style = \"text-align: left;\">OlympicsFinalist</td><td style = \"text-align: left;\">0.245</td><td style = \"text-align: left;\">0</td><td style = \"text-align: left;\">0.0</td><td style = \"text-align: left;\">1</td><td style = \"text-align: right;\">0</td><td style = \"text-align: left;\">Int64</td></tr><tr><td class = \"rowNumber\" style = \"font-weight: bold; text-align: right;\">31</td><td style = \"text-align: left;\">AllStar</td><td style = \"text-align: left;\">0.105</td><td style = \"text-align: left;\">0</td><td style = \"text-align: left;\">0.0</td><td style = \"text-align: left;\">1</td><td style = \"text-align: right;\">0</td><td style = \"text-align: left;\">Int64</td></tr><tr><td class = \"rowNumber\" style = \"font-weight: bold; text-align: right;\">32</td><td style = \"text-align: left;\">HighRated</td><td style = \"text-align: left;\">0.435</td><td style = \"text-align: left;\">0</td><td style = \"text-align: left;\">0.0</td><td style = \"text-align: left;\">3</td><td style = \"text-align: right;\">0</td><td style = \"text-align: left;\">Int64</td></tr></tbody></table></div>"
      ],
      "text/latex": [
       "\\begin{tabular}{r|ccccccc}\n",
       "\t& variable & mean & min & median & max & nmissing & eltype\\\\\n",
       "\t\\hline\n",
       "\t& Symbol & Union… & Any & Union… & Any & Int64 & DataType\\\\\n",
       "\t\\hline\n",
       "\t1 & ID & 255.26 & 5 & 241.5 & 526 & 0 & Int64 \\\\\n",
       "\t2 & Player &  & Aaron Gordon &  & Zaza Pachulia & 0 & String31 \\\\\n",
       "\t3 & Username &  & adebaba01 &  & youngtr01 & 0 & String15 \\\\\n",
       "\t4 & Pos &  & C &  & SG-PF & 0 & String7 \\\\\n",
       "\t5 & Age & 26.78 & 19 & 26.0 & 42 & 0 & Int64 \\\\\n",
       "\t6 & Tm &  & ATL &  & WAS & 0 & String3 \\\\\n",
       "\t7 & G & 69.44 & 9 & 73.0 & 82 & 0 & Int64 \\\\\n",
       "\t8 & MP & 1787.57 & 230 & 1835.0 & 3028 & 0 & Int64 \\\\\n",
       "\t9 & PER & 14.9405 & 5.2 & 13.65 & 30.6 & 0 & Float64 \\\\\n",
       "\t10 & TS. & 0.563035 & 0.45 & 0.561 & 0.692 & 0 & Float64 \\\\\n",
       "\t11 & X3PAr & 0.36952 & 0.0 & 0.386 & 0.83 & 0 & Float64 \\\\\n",
       "\t12 & FTr & 0.260945 & 0.059 & 0.241 & 0.696 & 0 & Float64 \\\\\n",
       "\t13 & ORB. & 4.3825 & 0.7 & 3.0 & 16.8 & 0 & Float64 \\\\\n",
       "\t14 & DRB. & 15.295 & 6.0 & 13.45 & 40.0 & 0 & Float64 \\\\\n",
       "\t15 & TRB. & 9.8465 & 3.8 & 8.5 & 25.9 & 0 & Float64 \\\\\n",
       "\t16 & AST. & 14.4045 & 2.6 & 11.95 & 46.5 & 0 & Float64 \\\\\n",
       "\t17 & STL. & 1.517 & 0.3 & 1.4 & 3.2 & 0 & Float64 \\\\\n",
       "\t18 & BLK. & 1.7345 & 0.1 & 1.2 & 10.0 & 0 & Float64 \\\\\n",
       "\t19 & TOV. & 11.7065 & 3.7 & 11.2 & 26.8 & 0 & Float64 \\\\\n",
       "\t20 & USG. & 19.6065 & 8.9 & 18.55 & 40.5 & 0 & Float64 \\\\\n",
       "\t21 & OWS & 2.15 & -2.8 & 1.75 & 11.4 & 0 & Float64 \\\\\n",
       "\t22 & DWS & 1.8155 & -0.5 & 1.65 & 5.9 & 0 & Float64 \\\\\n",
       "\t23 & WS & 3.963 & -1.7 & 3.3 & 15.2 & 0 & Float64 \\\\\n",
       "\t24 & WS\\_48 & 0.10282 & -0.04 & 0.0985 & 0.254 & 0 & Float64 \\\\\n",
       "\t$\\dots$ & $\\dots$ & $\\dots$ & $\\dots$ & $\\dots$ & $\\dots$ & $\\dots$ & $\\dots$ \\\\\n",
       "\\end{tabular}\n"
      ],
      "text/plain": [
       "\u001b[1m32×7 DataFrame\u001b[0m\n",
       "\u001b[1m Row \u001b[0m│\u001b[1m variable         \u001b[0m\u001b[1m mean     \u001b[0m\u001b[1m min          \u001b[0m\u001b[1m median \u001b[0m\u001b[1m max           \u001b[0m\u001b[1m nmissi\u001b[0m ⋯\n",
       "     │\u001b[90m Symbol           \u001b[0m\u001b[90m Union…   \u001b[0m\u001b[90m Any          \u001b[0m\u001b[90m Union… \u001b[0m\u001b[90m Any           \u001b[0m\u001b[90m Int64 \u001b[0m ⋯\n",
       "─────┼──────────────────────────────────────────────────────────────────────────\n",
       "   1 │ ID                255.26    5             241.5   526                   ⋯\n",
       "   2 │ Player           \u001b[90m          \u001b[0m Aaron Gordon \u001b[90m        \u001b[0m Zaza Pachulia\n",
       "   3 │ Username         \u001b[90m          \u001b[0m adebaba01    \u001b[90m        \u001b[0m youngtr01\n",
       "   4 │ Pos              \u001b[90m          \u001b[0m C            \u001b[90m        \u001b[0m SG-PF\n",
       "   5 │ Age               26.78     19            26.0    42                    ⋯\n",
       "   6 │ Tm               \u001b[90m          \u001b[0m ATL          \u001b[90m        \u001b[0m WAS\n",
       "   7 │ G                 69.44     9             73.0    82\n",
       "   8 │ MP                1787.57   230           1835.0  3028\n",
       "  ⋮  │        ⋮             ⋮           ⋮          ⋮           ⋮           ⋮   ⋱\n",
       "  26 │ DBPM              0.007     -4.1          -0.1    5.5                   ⋯\n",
       "  27 │ BPM               0.0465    -6.3          -0.25   11.7\n",
       "  28 │ VORP              1.0965    -2.2          0.75    9.9\n",
       "  29 │ Olympics2016      0.085     0             0.0     1\n",
       "  30 │ OlympicsFinalist  0.245     0             0.0     1                     ⋯\n",
       "  31 │ AllStar           0.105     0             0.0     1\n",
       "  32 │ HighRated         0.435     0             0.0     3\n",
       "\u001b[36m                                                   2 columns and 17 rows omitted\u001b[0m"
      ]
     },
     "metadata": {},
     "output_type": "display_data"
    }
   ],
   "source": [
    "describe(df)"
   ]
  },
  {
   "cell_type": "markdown",
   "metadata": {},
   "source": [
    "Finally, you can use the pipe syntax to chain calls together!"
   ]
  },
  {
   "cell_type": "code",
   "execution_count": 165,
   "metadata": {},
   "outputs": [
    {
     "data": {
      "text/html": [
       "<div><div style = \"float: left;\"><span>6×28 DataFrame</span></div><div style = \"clear: both;\"></div></div><div class = \"data-frame\" style = \"overflow-x: scroll;\"><table class = \"data-frame\" style = \"margin-bottom: 6px;\"><thead><tr class = \"header\"><th class = \"rowNumber\" style = \"font-weight: bold; text-align: right;\">Row</th><th style = \"text-align: left;\">Age</th><th style = \"text-align: left;\">Tm</th><th style = \"text-align: left;\">G</th><th style = \"text-align: left;\">MP</th><th style = \"text-align: left;\">PER</th><th style = \"text-align: left;\">TS.</th><th style = \"text-align: left;\">X3PAr</th><th style = \"text-align: left;\">FTr</th><th style = \"text-align: left;\">ORB.</th><th style = \"text-align: left;\">DRB.</th><th style = \"text-align: left;\">TRB.</th><th style = \"text-align: left;\">AST.</th><th style = \"text-align: left;\">STL.</th><th style = \"text-align: left;\">BLK.</th><th style = \"text-align: left;\">TOV.</th><th style = \"text-align: left;\">USG.</th><th style = \"text-align: left;\">OWS</th><th style = \"text-align: left;\">DWS</th><th style = \"text-align: left;\">WS</th><th style = \"text-align: left;\">WS_48</th><th style = \"text-align: left;\">OBPM</th><th style = \"text-align: left;\">DBPM</th><th style = \"text-align: left;\">BPM</th><th style = \"text-align: left;\">VORP</th><th style = \"text-align: left;\">Olympics2016</th><th style = \"text-align: left;\">OlympicsFinalist</th><th style = \"text-align: left;\">AllStar</th><th style = \"text-align: left;\">HighRated</th></tr><tr class = \"subheader headerLastRow\"><th class = \"rowNumber\" style = \"font-weight: bold; text-align: right;\"></th><th title = \"Int64\" style = \"text-align: left;\">Int64</th><th title = \"String3\" style = \"text-align: left;\">String3</th><th title = \"Int64\" style = \"text-align: left;\">Int64</th><th title = \"Int64\" style = \"text-align: left;\">Int64</th><th title = \"Float64\" style = \"text-align: left;\">Float64</th><th title = \"Float64\" style = \"text-align: left;\">Float64</th><th title = \"Float64\" style = \"text-align: left;\">Float64</th><th title = \"Float64\" style = \"text-align: left;\">Float64</th><th title = \"Float64\" style = \"text-align: left;\">Float64</th><th title = \"Float64\" style = \"text-align: left;\">Float64</th><th title = \"Float64\" style = \"text-align: left;\">Float64</th><th title = \"Float64\" style = \"text-align: left;\">Float64</th><th title = \"Float64\" style = \"text-align: left;\">Float64</th><th title = \"Float64\" style = \"text-align: left;\">Float64</th><th title = \"Float64\" style = \"text-align: left;\">Float64</th><th title = \"Float64\" style = \"text-align: left;\">Float64</th><th title = \"Float64\" style = \"text-align: left;\">Float64</th><th title = \"Float64\" style = \"text-align: left;\">Float64</th><th title = \"Float64\" style = \"text-align: left;\">Float64</th><th title = \"Float64\" style = \"text-align: left;\">Float64</th><th title = \"Float64\" style = \"text-align: left;\">Float64</th><th title = \"Float64\" style = \"text-align: left;\">Float64</th><th title = \"Float64\" style = \"text-align: left;\">Float64</th><th title = \"Float64\" style = \"text-align: left;\">Float64</th><th title = \"Int64\" style = \"text-align: left;\">Int64</th><th title = \"Int64\" style = \"text-align: left;\">Int64</th><th title = \"Int64\" style = \"text-align: left;\">Int64</th><th title = \"Int64\" style = \"text-align: left;\">Int64</th></tr></thead><tbody><tr><td class = \"rowNumber\" style = \"font-weight: bold; text-align: right;\">1</td><td style = \"text-align: right;\">30</td><td style = \"text-align: left;\">GSW</td><td style = \"text-align: right;\">69</td><td style = \"text-align: right;\">2331</td><td style = \"text-align: right;\">24.4</td><td style = \"text-align: right;\">0.641</td><td style = \"text-align: right;\">0.604</td><td style = \"text-align: right;\">0.214</td><td style = \"text-align: right;\">2.2</td><td style = \"text-align: right;\">14.2</td><td style = \"text-align: right;\">8.4</td><td style = \"text-align: right;\">24.2</td><td style = \"text-align: right;\">1.9</td><td style = \"text-align: right;\">0.9</td><td style = \"text-align: right;\">11.6</td><td style = \"text-align: right;\">30.4</td><td style = \"text-align: right;\">7.2</td><td style = \"text-align: right;\">2.5</td><td style = \"text-align: right;\">9.7</td><td style = \"text-align: right;\">0.199</td><td style = \"text-align: right;\">7.7</td><td style = \"text-align: right;\">-1.4</td><td style = \"text-align: right;\">6.3</td><td style = \"text-align: right;\">4.9</td><td style = \"text-align: right;\">0</td><td style = \"text-align: right;\">1</td><td style = \"text-align: right;\">1</td><td style = \"text-align: right;\">2</td></tr><tr><td class = \"rowNumber\" style = \"font-weight: bold; text-align: right;\">2</td><td style = \"text-align: right;\">30</td><td style = \"text-align: left;\">GSW</td><td style = \"text-align: right;\">78</td><td style = \"text-align: right;\">2702</td><td style = \"text-align: right;\">24.2</td><td style = \"text-align: right;\">0.631</td><td style = \"text-align: right;\">0.281</td><td style = \"text-align: right;\">0.366</td><td style = \"text-align: right;\">1.4</td><td style = \"text-align: right;\">17.5</td><td style = \"text-align: right;\">9.8</td><td style = \"text-align: right;\">26.2</td><td style = \"text-align: right;\">1.0</td><td style = \"text-align: right;\">2.6</td><td style = \"text-align: right;\">12.3</td><td style = \"text-align: right;\">29.0</td><td style = \"text-align: right;\">8.6</td><td style = \"text-align: right;\">2.9</td><td style = \"text-align: right;\">11.5</td><td style = \"text-align: right;\">0.204</td><td style = \"text-align: right;\">4.2</td><td style = \"text-align: right;\">0.1</td><td style = \"text-align: right;\">4.3</td><td style = \"text-align: right;\">4.3</td><td style = \"text-align: right;\">1</td><td style = \"text-align: right;\">1</td><td style = \"text-align: right;\">1</td><td style = \"text-align: right;\">3</td></tr><tr><td class = \"rowNumber\" style = \"font-weight: bold; text-align: right;\">3</td><td style = \"text-align: right;\">29</td><td style = \"text-align: left;\">HOU</td><td style = \"text-align: right;\">78</td><td style = \"text-align: right;\">2867</td><td style = \"text-align: right;\">30.6</td><td style = \"text-align: right;\">0.616</td><td style = \"text-align: right;\">0.539</td><td style = \"text-align: right;\">0.449</td><td style = \"text-align: right;\">2.5</td><td style = \"text-align: right;\">17.8</td><td style = \"text-align: right;\">10.0</td><td style = \"text-align: right;\">39.5</td><td style = \"text-align: right;\">2.7</td><td style = \"text-align: right;\">1.7</td><td style = \"text-align: right;\">14.5</td><td style = \"text-align: right;\">40.5</td><td style = \"text-align: right;\">11.4</td><td style = \"text-align: right;\">3.8</td><td style = \"text-align: right;\">15.2</td><td style = \"text-align: right;\">0.254</td><td style = \"text-align: right;\">10.5</td><td style = \"text-align: right;\">1.1</td><td style = \"text-align: right;\">11.7</td><td style = \"text-align: right;\">9.9</td><td style = \"text-align: right;\">0</td><td style = \"text-align: right;\">1</td><td style = \"text-align: right;\">1</td><td style = \"text-align: right;\">2</td></tr><tr><td class = \"rowNumber\" style = \"font-weight: bold; text-align: right;\">4</td><td style = \"text-align: right;\">34</td><td style = \"text-align: left;\">LAL</td><td style = \"text-align: right;\">55</td><td style = \"text-align: right;\">1937</td><td style = \"text-align: right;\">25.6</td><td style = \"text-align: right;\">0.588</td><td style = \"text-align: right;\">0.299</td><td style = \"text-align: right;\">0.382</td><td style = \"text-align: right;\">3.1</td><td style = \"text-align: right;\">21.3</td><td style = \"text-align: right;\">12.4</td><td style = \"text-align: right;\">39.4</td><td style = \"text-align: right;\">1.7</td><td style = \"text-align: right;\">1.4</td><td style = \"text-align: right;\">13.3</td><td style = \"text-align: right;\">31.6</td><td style = \"text-align: right;\">4.7</td><td style = \"text-align: right;\">2.6</td><td style = \"text-align: right;\">7.2</td><td style = \"text-align: right;\">0.179</td><td style = \"text-align: right;\">6.2</td><td style = \"text-align: right;\">1.9</td><td style = \"text-align: right;\">8.1</td><td style = \"text-align: right;\">4.9</td><td style = \"text-align: right;\">0</td><td style = \"text-align: right;\">1</td><td style = \"text-align: right;\">1</td><td style = \"text-align: right;\">2</td></tr><tr><td class = \"rowNumber\" style = \"font-weight: bold; text-align: right;\">5</td><td style = \"text-align: right;\">25</td><td style = \"text-align: left;\">NOP</td><td style = \"text-align: right;\">56</td><td style = \"text-align: right;\">1850</td><td style = \"text-align: right;\">30.3</td><td style = \"text-align: right;\">0.597</td><td style = \"text-align: right;\">0.141</td><td style = \"text-align: right;\">0.422</td><td style = \"text-align: right;\">9.9</td><td style = \"text-align: right;\">27.5</td><td style = \"text-align: right;\">18.8</td><td style = \"text-align: right;\">19.0</td><td style = \"text-align: right;\">2.2</td><td style = \"text-align: right;\">6.0</td><td style = \"text-align: right;\">8.4</td><td style = \"text-align: right;\">29.5</td><td style = \"text-align: right;\">6.4</td><td style = \"text-align: right;\">3.1</td><td style = \"text-align: right;\">9.5</td><td style = \"text-align: right;\">0.247</td><td style = \"text-align: right;\">4.7</td><td style = \"text-align: right;\">3.9</td><td style = \"text-align: right;\">8.5</td><td style = \"text-align: right;\">4.9</td><td style = \"text-align: right;\">0</td><td style = \"text-align: right;\">1</td><td style = \"text-align: right;\">1</td><td style = \"text-align: right;\">2</td></tr><tr><td class = \"rowNumber\" style = \"font-weight: bold; text-align: right;\">6</td><td style = \"text-align: right;\">27</td><td style = \"text-align: left;\">TOR</td><td style = \"text-align: right;\">60</td><td style = \"text-align: right;\">2040</td><td style = \"text-align: right;\">25.8</td><td style = \"text-align: right;\">0.606</td><td style = \"text-align: right;\">0.267</td><td style = \"text-align: right;\">0.377</td><td style = \"text-align: right;\">4.2</td><td style = \"text-align: right;\">18.6</td><td style = \"text-align: right;\">11.6</td><td style = \"text-align: right;\">16.4</td><td style = \"text-align: right;\">2.5</td><td style = \"text-align: right;\">1.0</td><td style = \"text-align: right;\">8.4</td><td style = \"text-align: right;\">30.3</td><td style = \"text-align: right;\">6.1</td><td style = \"text-align: right;\">3.4</td><td style = \"text-align: right;\">9.5</td><td style = \"text-align: right;\">0.224</td><td style = \"text-align: right;\">4.3</td><td style = \"text-align: right;\">0.7</td><td style = \"text-align: right;\">5.0</td><td style = \"text-align: right;\">3.6</td><td style = \"text-align: right;\">0</td><td style = \"text-align: right;\">1</td><td style = \"text-align: right;\">1</td><td style = \"text-align: right;\">2</td></tr></tbody></table></div>"
      ],
      "text/latex": [
       "\\begin{tabular}{r|ccccccccccc}\n",
       "\t& Age & Tm & G & MP & PER & TS. & X3PAr & FTr & ORB. & DRB. & \\\\\n",
       "\t\\hline\n",
       "\t& Int64 & String3 & Int64 & Int64 & Float64 & Float64 & Float64 & Float64 & Float64 & Float64 & \\\\\n",
       "\t\\hline\n",
       "\t1 & 30 & GSW & 69 & 2331 & 24.4 & 0.641 & 0.604 & 0.214 & 2.2 & 14.2 & $\\dots$ \\\\\n",
       "\t2 & 30 & GSW & 78 & 2702 & 24.2 & 0.631 & 0.281 & 0.366 & 1.4 & 17.5 & $\\dots$ \\\\\n",
       "\t3 & 29 & HOU & 78 & 2867 & 30.6 & 0.616 & 0.539 & 0.449 & 2.5 & 17.8 & $\\dots$ \\\\\n",
       "\t4 & 34 & LAL & 55 & 1937 & 25.6 & 0.588 & 0.299 & 0.382 & 3.1 & 21.3 & $\\dots$ \\\\\n",
       "\t5 & 25 & NOP & 56 & 1850 & 30.3 & 0.597 & 0.141 & 0.422 & 9.9 & 27.5 & $\\dots$ \\\\\n",
       "\t6 & 27 & TOR & 60 & 2040 & 25.8 & 0.606 & 0.267 & 0.377 & 4.2 & 18.6 & $\\dots$ \\\\\n",
       "\\end{tabular}\n"
      ],
      "text/plain": [
       "\u001b[1m6×28 DataFrame\u001b[0m\n",
       "\u001b[1m Row \u001b[0m│\u001b[1m Age   \u001b[0m\u001b[1m Tm      \u001b[0m\u001b[1m G     \u001b[0m\u001b[1m MP    \u001b[0m\u001b[1m PER     \u001b[0m\u001b[1m TS.     \u001b[0m\u001b[1m X3PAr   \u001b[0m\u001b[1m FTr     \u001b[0m\u001b[1m ORB. \u001b[0m ⋯\n",
       "     │\u001b[90m Int64 \u001b[0m\u001b[90m String3 \u001b[0m\u001b[90m Int64 \u001b[0m\u001b[90m Int64 \u001b[0m\u001b[90m Float64 \u001b[0m\u001b[90m Float64 \u001b[0m\u001b[90m Float64 \u001b[0m\u001b[90m Float64 \u001b[0m\u001b[90m Float\u001b[0m ⋯\n",
       "─────┼──────────────────────────────────────────────────────────────────────────\n",
       "   1 │    30  GSW         69   2331     24.4    0.641    0.604    0.214      2 ⋯\n",
       "   2 │    30  GSW         78   2702     24.2    0.631    0.281    0.366      1\n",
       "   3 │    29  HOU         78   2867     30.6    0.616    0.539    0.449      2\n",
       "   4 │    34  LAL         55   1937     25.6    0.588    0.299    0.382      3\n",
       "   5 │    25  NOP         56   1850     30.3    0.597    0.141    0.422      9 ⋯\n",
       "   6 │    27  TOR         60   2040     25.8    0.606    0.267    0.377      4\n",
       "\u001b[36m                                                              20 columns omitted\u001b[0m"
      ]
     },
     "metadata": {},
     "output_type": "display_data"
    }
   ],
   "source": [
    "df = CSV.read(\"data/NBA_data_2018_2019.csv\", DataFrame);\n",
    "(\n",
    "    df \n",
    "    |> x -> sort!(\n",
    "        x, \n",
    "        [\n",
    "            :Tm, \n",
    "            order(:PER, rev=true),\n",
    "        ],\n",
    "    )\n",
    "    |> x -> subset(\n",
    "        x, \n",
    "        :PER => (x -> x .> 24),\n",
    "        :OlympicsFinalist => (x -> x .== 1),\n",
    "    )\n",
    "    |> x -> select(\n",
    "        x, \n",
    "        5:ncol(x)\n",
    "    )\n",
    ")"
   ]
  },
  {
   "cell_type": "markdown",
   "metadata": {},
   "source": [
    "The DataFrames.jl [docs](https://dataframes.juliadata.org/stable/) is excellent, and includes cheat sheets and a great User Guide. Check it out whenever you have any questions! You can also see [this](https://dataframes.juliadata.org/stable/man/comparisons/#Comparison-with-the-Python-package-pandas) comparison between Python's `pandas` dataframes and Julia's `DataFrames.jl`."
   ]
  },
  {
   "cell_type": "markdown",
   "metadata": {},
   "source": [
    "\n",
    "### Plotting in Julia\n",
    "\n",
    "Julia also has extensive support for plotting. \n",
    "\n",
    "* `Plots.jl` is a powerful and concise tool for plotting. It provides the interface to many other plotting packages with simple and consistent syntax.\n",
    "* `StatPlots.jl` offers the DataFrames integration for `Plots`. You can pass in a data frame, and map aesthetics to the column names directly. \n",
    "\n",
    "Using these would be somewhat similar to working with `ggplot2` in `R`. "
   ]
  },
  {
   "cell_type": "code",
   "execution_count": null,
   "metadata": {},
   "outputs": [],
   "source": [
    "using Pkg\n",
    "Pkg.add(\"Plots\")\n",
    "Pkg.add(\"StatsPlots\")"
   ]
  },
  {
   "cell_type": "markdown",
   "metadata": {},
   "source": [
    "Here is an example of a scatter plot based on the `nba` data, where the x axis is the `Age`, y axis is the Player Efficiency Rating (`PER`), and the grouping (therefore the colors) are based on the position (`Pos`)."
   ]
  },
  {
   "cell_type": "code",
   "execution_count": null,
   "metadata": {},
   "outputs": [],
   "source": [
    "using Plots\n",
    "using StatsPlots\n",
    "scatter(\n",
    "    df[!, :Age],\n",
    "    df[!, :PER],\n",
    "    group = df[!, :Pos],\n",
    ")"
   ]
  },
  {
   "cell_type": "markdown",
   "metadata": {},
   "source": [
    "We can make the plot more interesting by adding a few custom settings. For example:\n",
    "* Give it a title\n",
    "* Provide xlabel and ylabel\n",
    "* Change the transparency, shape, and size of the dots\n",
    "* change background color to dark grey"
   ]
  },
  {
   "cell_type": "code",
   "execution_count": null,
   "metadata": {},
   "outputs": [],
   "source": [
    "scatter(\n",
    "    df[!, :Age],\n",
    "    df[!,  :PER],\n",
    "    group = df[!, :Pos],\n",
    "    title = \"Age vs. PER\",\n",
    "    xlabel = \"Age\", \n",
    "    ylabel = \"Player Efficiency Rating (PER)\",\n",
    "    # marker: opacity, shape, size\n",
    "    m = (0.4, :hex, 8),\n",
    "    # alpha = 0.4, \n",
    "    # marker = :hex, \n",
    "    # markersize = 8,\n",
    "    # background color: red, green, blue\n",
    "    bg = RGB(.2,.2,.2)\n",
    ")"
   ]
  },
  {
   "cell_type": "markdown",
   "metadata": {},
   "source": [
    "You can also do a box plot (with the violin plot in the background) grouped by the species. Note the `!` in `boxplot!` adds the current plot to the existing one. "
   ]
  },
  {
   "cell_type": "code",
   "execution_count": null,
   "metadata": {},
   "outputs": [],
   "source": [
    "violin(\n",
    "    df[!, :Pos],\n",
    "    df[!, :PER],\n",
    ")\n",
    "boxplot!(\n",
    "    df[!, :Pos],\n",
    "    df[!, :PER], \n",
    "    leg = false,\n",
    "    xlabel = \"Position\", \n",
    "    ylabel = \"PER\",\n",
    ")"
   ]
  },
  {
   "cell_type": "markdown",
   "metadata": {},
   "source": [
    "There are many other types of plots and custom options. Further reading:\n",
    "- See this [link](https://discourse.julialang.org/t/comparison-of-plotting-packages/99860#summary-of-plotting-packages-1) for a summary of the commonly-used plotting packages in Julia.\n",
    "- The [Plots.jl tutorial](http://docs.juliaplots.org/latest/tutorial/) introduces you to various types of plots and layout options."
   ]
  }
 ],
 "metadata": {
  "@webio": {
   "lastCommId": null,
   "lastKernelId": null
  },
  "kernelspec": {
   "display_name": "Julia 1.10.4",
   "language": "julia",
   "name": "julia-1.10"
  },
  "language_info": {
   "file_extension": ".jl",
   "mimetype": "application/julia",
   "name": "julia",
   "version": "1.10.4"
  }
 },
 "nbformat": 4,
 "nbformat_minor": 2
}
