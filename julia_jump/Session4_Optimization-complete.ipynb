{
 "cells": [
  {
   "cell_type": "code",
   "execution_count": 2,
   "metadata": {},
   "outputs": [],
   "source": [
    "using Pkg\n",
    "# Pkg.add(\"DataFrames\")\n",
    "# Pkg.add(\"CSV\")"
   ]
  },
  {
   "cell_type": "code",
   "execution_count": 3,
   "metadata": {},
   "outputs": [],
   "source": [
    "using CSV\n",
    "using DataFrames"
   ]
  },
  {
   "cell_type": "markdown",
   "metadata": {},
   "source": [
    "## What is JuMP?\n",
    "\n",
    "JuMP is a _modeling language_ for optimization problems, writen in Julia. \n",
    "\n",
    "When solving an optimization problem, you should use a _solver_ :  a software implementation of an optimization algorithm. Solvers typically need the problem to be written in a very specific format, which can be time-consuming and confusing.\n",
    "\n",
    "A modeling language (like JuMP) lets you code an optimization problem in a more natural way. It does the translation to the low-level solver format for you.\n",
    "\n",
    "There are a number of modeling languages out there. Why JuMP?\n",
    "\n",
    "* User-friendly\n",
    "* Matches performance of competitors\n",
    "* Solver-independent\n",
    "* Easy to extend and take advantage of advanced features"
   ]
  },
  {
   "cell_type": "markdown",
   "metadata": {},
   "source": [
    "### Installing JuMP\n",
    "\n",
    "To install JuMP, just run:"
   ]
  },
  {
   "cell_type": "code",
   "execution_count": 4,
   "metadata": {},
   "outputs": [],
   "source": [
    "#import Pkg\n",
    "#Pkg.add(\"JuMP\")"
   ]
  },
  {
   "cell_type": "markdown",
   "metadata": {},
   "source": [
    "We already did this in the preassignment. To actually solve a problem, we will also need to install a solver package. There are 15+ options exposed in julia, each with support for different problem classes, different performance profiles, licensing requirements, etc. For the preassignment, we installed **Gurobi**, a best-of-breed linear/integer programming solver with a generous academic license. A popular open-source alternative is **Cbc**, which can be accessed without a license and allows us to solve integer optimization problems."
   ]
  },
  {
   "cell_type": "code",
   "execution_count": 5,
   "metadata": {},
   "outputs": [],
   "source": [
    "#Pkg.add(\"Gurobi\")"
   ]
  },
  {
   "cell_type": "markdown",
   "metadata": {},
   "source": [
    "### A first example\n",
    "Let's see how we translate a simple, 2 variable LP to JuMP code.\n",
    "\n",
    "$$\n",
    "\\begin{align*}\n",
    "\\max_{x,y} \\quad& x + 2y \\\\\n",
    "\\text{s.t.}\\quad& x + y \\leq 1 \\\\\n",
    "& x, y \\geq 0.\n",
    "\\end{align*}\n",
    "$$\n",
    "\n",
    "First, we load the JuMP and Gurobi libraries."
   ]
  },
  {
   "cell_type": "code",
   "execution_count": 6,
   "metadata": {},
   "outputs": [],
   "source": [
    "using JuMP, Gurobi"
   ]
  },
  {
   "cell_type": "markdown",
   "metadata": {},
   "source": [
    "Next, we construct a model object. This is a container for everything in our optimization problem: variables, constraints, solver options, etc.\n",
    "Note that when we specify the solver we can also pass additional arguments (depending on the solver we choose). \n",
    "If you're experimenting with an optimization model, it's generally a good idea to set a short time limit for the solver calculations. This will (hopefully) force the solver to stop running if you accidentally pass it a very large model that it can't solve. "
   ]
  },
  {
   "cell_type": "code",
   "execution_count": 11,
   "metadata": {},
   "outputs": [
    {
     "ename": "LoadError",
     "evalue": "UndefVarError: `status` not defined",
     "output_type": "error",
     "traceback": [
      "UndefVarError: `status` not defined",
      ""
     ]
    }
   ],
   "source": [
    "status JuMP, Gurobi"
   ]
  },
  {
   "cell_type": "code",
   "execution_count": 14,
   "metadata": {},
   "outputs": [
    {
     "name": "stdout",
     "output_type": "stream",
     "text": [
      "Set parameter Username\n",
      "Academic license - for non-commercial use only - expires 2025-01-20\n",
      "Set parameter TimeLimit to value 60\n"
     ]
    }
   ],
   "source": [
    "model = Model(Gurobi.Optimizer)\n",
    "set_optimizer_attribute(model, \"TimeLimit\", 60)"
   ]
  },
  {
   "cell_type": "markdown",
   "metadata": {},
   "source": [
    "Next, we define the two decision variables in our optimization problem. We will use the ``@variable`` macro (a fancy function, essentially). The first argument is the model object to attach the variable to, and the second specifies the variable name and any bounds."
   ]
  },
  {
   "cell_type": "code",
   "execution_count": 15,
   "metadata": {},
   "outputs": [
    {
     "data": {
      "text/latex": [
       "$ y $"
      ],
      "text/plain": [
       "y"
      ]
     },
     "execution_count": 15,
     "metadata": {},
     "output_type": "execute_result"
    }
   ],
   "source": [
    "@variable(model, x >= 0)\n",
    "@variable(model, y >= 0)"
   ]
  },
  {
   "cell_type": "code",
   "execution_count": 16,
   "metadata": {},
   "outputs": [
    {
     "data": {
      "text/plain": [
       "A JuMP Model\n",
       "├ solver: Gurobi\n",
       "├ objective_sense: FEASIBILITY_SENSE\n",
       "├ num_variables: 2\n",
       "├ num_constraints: 2\n",
       "│ └ VariableRef in MOI.GreaterThan{Float64}: 2\n",
       "└ Names registered in the model\n",
       "  └ :x, :y"
      ]
     },
     "execution_count": 16,
     "metadata": {},
     "output_type": "execute_result"
    }
   ],
   "source": [
    "model"
   ]
  },
  {
   "cell_type": "markdown",
   "metadata": {},
   "source": [
    "We now add the single constraint of our problem using the ``@constraint`` macro. We write it algebraically, exactly as we see it above."
   ]
  },
  {
   "cell_type": "code",
   "execution_count": 17,
   "metadata": {},
   "outputs": [
    {
     "data": {
      "text/plain": [
       "A JuMP Model\n",
       "├ solver: Gurobi\n",
       "├ objective_sense: FEASIBILITY_SENSE\n",
       "├ num_variables: 2\n",
       "├ num_constraints: 3\n",
       "│ ├ AffExpr in MOI.LessThan{Float64}: 1\n",
       "│ └ VariableRef in MOI.GreaterThan{Float64}: 2\n",
       "└ Names registered in the model\n",
       "  └ :x, :y"
      ]
     },
     "execution_count": 17,
     "metadata": {},
     "output_type": "execute_result"
    }
   ],
   "source": [
    "@constraint(model, x + y <= 1)\n",
    "model"
   ]
  },
  {
   "cell_type": "markdown",
   "metadata": {},
   "source": [
    "We specify the objective function with the ``@objective`` macro."
   ]
  },
  {
   "cell_type": "code",
   "execution_count": 18,
   "metadata": {},
   "outputs": [
    {
     "data": {
      "text/latex": [
       "$ x + 2 y $"
      ],
      "text/plain": [
       "x + 2 y"
      ]
     },
     "execution_count": 18,
     "metadata": {},
     "output_type": "execute_result"
    }
   ],
   "source": [
    "@objective(model, Max, x + 2y)"
   ]
  },
  {
   "cell_type": "code",
   "execution_count": 19,
   "metadata": {},
   "outputs": [
    {
     "data": {
      "text/plain": [
       "A JuMP Model\n",
       "├ solver: Gurobi\n",
       "├ objective_sense: MAX_SENSE\n",
       "│ └ objective_function_type: AffExpr\n",
       "├ num_variables: 2\n",
       "├ num_constraints: 3\n",
       "│ ├ AffExpr in MOI.LessThan{Float64}: 1\n",
       "│ └ VariableRef in MOI.GreaterThan{Float64}: 2\n",
       "└ Names registered in the model\n",
       "  └ :x, :y"
      ]
     },
     "execution_count": 19,
     "metadata": {},
     "output_type": "execute_result"
    }
   ],
   "source": [
    "model"
   ]
  },
  {
   "cell_type": "markdown",
   "metadata": {},
   "source": [
    "To solve the optimization problem, call the ``optimize!`` function."
   ]
  },
  {
   "cell_type": "code",
   "execution_count": 20,
   "metadata": {},
   "outputs": [
    {
     "name": "stdout",
     "output_type": "stream",
     "text": [
      "Set parameter TimeLimit to value 60\n",
      "Gurobi Optimizer version 11.0.2 build v11.0.2rc0 (mac64[x86] - Darwin 20.6.0 20G624)\n",
      "\n",
      "CPU model: Intel(R) Core(TM) i7-1068NG7 CPU @ 2.30GHz\n",
      "Thread count: 4 physical cores, 8 logical processors, using up to 8 threads\n",
      "\n",
      "Optimize a model with 1 rows, 2 columns and 2 nonzeros\n",
      "Model fingerprint: 0xc5f65bc7\n",
      "Coefficient statistics:\n",
      "  Matrix range     [1e+00, 1e+00]\n",
      "  Objective range  [1e+00, 2e+00]\n",
      "  Bounds range     [0e+00, 0e+00]\n",
      "  RHS range        [1e+00, 1e+00]\n",
      "Presolve removed 1 rows and 2 columns\n",
      "Presolve time: 0.00s\n",
      "Presolve: All rows and columns removed\n",
      "Iteration    Objective       Primal Inf.    Dual Inf.      Time\n",
      "       0    2.0000000e+00   0.000000e+00   0.000000e+00      0s\n",
      "\n",
      "Solved in 0 iterations and 0.00 seconds (0.00 work units)\n",
      "Optimal objective  2.000000000e+00\n",
      "\n",
      "User-callback calls 42, time in user-callback 0.00 sec\n"
     ]
    },
    {
     "data": {
      "text/plain": [
       "OPTIMAL::TerminationStatusCode = 1"
      ]
     },
     "execution_count": 20,
     "metadata": {},
     "output_type": "execute_result"
    }
   ],
   "source": [
    "optimize!(model)\n",
    "termination_status(model)"
   ]
  },
  {
   "cell_type": "markdown",
   "metadata": {},
   "source": [
    "We can now inspect the solution values and optimal cost."
   ]
  },
  {
   "cell_type": "code",
   "execution_count": 21,
   "metadata": {},
   "outputs": [
    {
     "data": {
      "text/plain": [
       "0.0"
      ]
     },
     "execution_count": 21,
     "metadata": {},
     "output_type": "execute_result"
    }
   ],
   "source": [
    "JuMP.value(x)"
   ]
  },
  {
   "cell_type": "code",
   "execution_count": 22,
   "metadata": {},
   "outputs": [
    {
     "data": {
      "text/plain": [
       "1.0"
      ]
     },
     "execution_count": 22,
     "metadata": {},
     "output_type": "execute_result"
    }
   ],
   "source": [
    "JuMP.value(y)"
   ]
  },
  {
   "cell_type": "code",
   "execution_count": 23,
   "metadata": {},
   "outputs": [
    {
     "data": {
      "text/plain": [
       "2.0"
      ]
     },
     "execution_count": 23,
     "metadata": {},
     "output_type": "execute_result"
    }
   ],
   "source": [
    "JuMP.objective_value(model)"
   ]
  },
  {
   "cell_type": "markdown",
   "metadata": {},
   "source": [
    "#### Exercise 1\n",
    "\n",
    "Code and solve the following optimization problem:\n",
    "\n",
    "$$\n",
    "\\begin{align*}\n",
    "\\min_{x,y} \\quad& 3x - y \\\\\n",
    "\\text{s.t.}\\quad& x + 2y \\geq 1 \\\\\n",
    "& x \\geq 0 \\\\\n",
    "& 0 \\leq y \\leq 1.\n",
    "\\end{align*}\n",
    "$$"
   ]
  },
  {
   "cell_type": "code",
   "execution_count": 61,
   "metadata": {},
   "outputs": [
    {
     "name": "stdout",
     "output_type": "stream",
     "text": [
      "Set parameter Username\n",
      "Academic license - for non-commercial use only - expires 2025-01-20\n",
      "Set parameter Presolve to value 0\n"
     ]
    },
    {
     "data": {
      "text/latex": [
       "$$ \\begin{aligned}\n",
       "\\min\\quad & 3 x - y\\\\\n",
       "\\text{Subject to} \\quad & x + 2 y \\geq 1\\\\\n",
       " & x \\geq 0\\\\\n",
       " & y \\geq 0\\\\\n",
       " & y \\leq 1\\\\\n",
       "\\end{aligned} $$"
      ]
     },
     "metadata": {},
     "output_type": "display_data"
    }
   ],
   "source": [
    "model1= Model(optimizer_with_attributes(Gurobi.Optimizer, \"Presolve\"=>0, \"OutputFlag\"=>1))\n",
    "set_time_limit_sec(model, 60.0)\n",
    "\n",
    "\n",
    "@variable(model1, x >= 0)\n",
    "@variable(model1, 1>= y >= 0)\n",
    "@constraint(model1, x + 2y >=1)\n",
    "@objective(model1, Min, 3x - y )\n",
    "\n",
    "print(model1)"
   ]
  },
  {
   "cell_type": "code",
   "execution_count": 62,
   "metadata": {},
   "outputs": [
    {
     "name": "stdout",
     "output_type": "stream",
     "text": [
      "Set parameter Presolve to value 0\n",
      "Gurobi Optimizer version 11.0.2 build v11.0.2rc0 (mac64[x86] - Darwin 20.6.0 20G624)\n",
      "\n",
      "CPU model: Intel(R) Core(TM) i7-1068NG7 CPU @ 2.30GHz\n",
      "Thread count: 4 physical cores, 8 logical processors, using up to 8 threads\n",
      "\n",
      "Optimize a model with 1 rows, 2 columns and 2 nonzeros\n",
      "Model fingerprint: 0xc187175f\n",
      "Coefficient statistics:\n",
      "  Matrix range     [1e+00, 2e+00]\n",
      "  Objective range  [1e+00, 3e+00]\n",
      "  Bounds range     [1e+00, 1e+00]\n",
      "  RHS range        [1e+00, 1e+00]\n",
      "Iteration    Objective       Primal Inf.    Dual Inf.      Time\n",
      "       0   -1.0000000e+00   0.000000e+00   0.000000e+00      0s\n",
      "\n",
      "Solved in 0 iterations and 0.01 seconds (0.00 work units)\n",
      "Optimal objective -1.000000000e+00\n",
      "\n",
      "User-callback calls 19, time in user-callback 0.00 sec\n",
      "0.0\n",
      "1.0\n",
      "-1.0\n"
     ]
    }
   ],
   "source": [
    "optimize!(model1)\n",
    "println(value(x))\n",
    "println(value(y))\n",
    "println(objective_value(model1))"
   ]
  },
  {
   "cell_type": "markdown",
   "metadata": {},
   "source": [
    "#### Exercise 2\n",
    "\n",
    "Take the problem from exercise 1 and make two copies below.\n",
    "* In the first copy, add a new constraint to make the problem **infeasible** (i.e., there are no values of x and y that satisfy all the constraints)\n",
    "* In the second copy, change the constraints or the objective function to make the problem unbounded (i.e., the optimal solution is infinite)\n",
    "\n",
    "Solve both versions of the problem and look at the ``termination_status`` to see if you have succeeded."
   ]
  },
  {
   "cell_type": "code",
   "execution_count": 63,
   "metadata": {},
   "outputs": [
    {
     "name": "stdout",
     "output_type": "stream",
     "text": [
      "Set parameter Username\n",
      "Academic license - for non-commercial use only - expires 2025-01-20\n"
     ]
    },
    {
     "data": {
      "text/latex": [
       "$$ \\begin{aligned}\n",
       "\\min\\quad & 3 x - y\\\\\n",
       "\\text{Subject to} \\quad & x + 2 y \\geq 1\\\\\n",
       " & x + 2 y \\leq 0\\\\\n",
       " & x \\geq 0\\\\\n",
       " & y \\geq 0\\\\\n",
       " & y \\leq 1\\\\\n",
       "\\end{aligned} $$"
      ]
     },
     "metadata": {},
     "output_type": "display_data"
    },
    {
     "name": "stdout",
     "output_type": "stream",
     "text": [
      "Gurobi Optimizer version 11.0.2 build v11.0.2rc0 (mac64[x86] - Darwin 20.6.0 20G624)\n",
      "\n",
      "CPU model: Intel(R) Core(TM) i7-1068NG7 CPU @ 2.30GHz\n",
      "Thread count: 4 physical cores, 8 logical processors, using up to 8 threads\n",
      "\n",
      "Optimize a model with 2 rows, 2 columns and 4 nonzeros\n",
      "Model fingerprint: 0xe3398fff\n",
      "Coefficient statistics:\n",
      "  Matrix range     [1e+00, 2e+00]\n",
      "  Objective range  [1e+00, 3e+00]\n",
      "  Bounds range     [1e+00, 1e+00]\n",
      "  RHS range        [1e+00, 1e+00]\n",
      "Presolve removed 1 rows and 2 columns\n",
      "Presolve time: 0.00s\n",
      "\n",
      "Solved in 0 iterations and 0.00 seconds (0.00 work units)\n",
      "Infeasible model\n",
      "\n",
      "User-callback calls 19, time in user-callback 0.00 sec\n"
     ]
    },
    {
     "data": {
      "text/plain": [
       "INFEASIBLE::TerminationStatusCode = 2"
      ]
     },
     "execution_count": 63,
     "metadata": {},
     "output_type": "execute_result"
    }
   ],
   "source": [
    "model1= Model(Gurobi.Optimizer)\n",
    "set_time_limit_sec(model, 60.0)\n",
    "\n",
    "@variable(model1, x >= 0)\n",
    "@variable(model1, 1>= y >= 0)\n",
    "@constraint(model1, x + 2y >=1)\n",
    "@constraint(model1, x + 2y <=0)\n",
    "@objective(model1, Min, 3x - y )\n",
    "\n",
    "print(model1)\n",
    "optimize!(model1)\n",
    "termination_status(model1)"
   ]
  },
  {
   "cell_type": "markdown",
   "metadata": {},
   "source": [
    "## Constructing the Olympics \"Dream Team\"\n",
    "Now, we're ready to start using optimization to formulate and solve real problems. Let's go back to our Olympics example."
   ]
  },
  {
   "cell_type": "markdown",
   "metadata": {},
   "source": [
    "First, let's load our 2018-2019 player data. This CSV file contains statistics for active US-born players in the 2018-2019 season. We have also added in information about whether each player appeared in the previous Olympics (2016) and the most recent NBA All-Star game as additional measures. \n",
    "\n",
    "Source: https://www.basketball-reference.com/"
   ]
  },
  {
   "cell_type": "code",
   "execution_count": 27,
   "metadata": {
    "scrolled": true
   },
   "outputs": [],
   "source": [
    "df = CSV.read(\"data/NBA_data_2018_2019.csv\", DataFrame);\n",
    "names(df);"
   ]
  },
  {
   "cell_type": "markdown",
   "metadata": {},
   "source": [
    "Let's see what this data looks like:"
   ]
  },
  {
   "cell_type": "code",
   "execution_count": 28,
   "metadata": {
    "scrolled": true
   },
   "outputs": [
    {
     "data": {
      "text/html": [
       "<div><div style = \"float: left;\"><span>10×32 DataFrame</span></div><div style = \"clear: both;\"></div></div><div class = \"data-frame\" style = \"overflow-x: scroll;\"><table class = \"data-frame\" style = \"margin-bottom: 6px;\"><thead><tr class = \"header\"><th class = \"rowNumber\" style = \"font-weight: bold; text-align: right;\">Row</th><th style = \"text-align: left;\">ID</th><th style = \"text-align: left;\">Player</th><th style = \"text-align: left;\">Username</th><th style = \"text-align: left;\">Pos</th><th style = \"text-align: left;\">Age</th><th style = \"text-align: left;\">Tm</th><th style = \"text-align: left;\">G</th><th style = \"text-align: left;\">MP</th><th style = \"text-align: left;\">PER</th><th style = \"text-align: left;\">TS.</th><th style = \"text-align: left;\">X3PAr</th><th style = \"text-align: left;\">FTr</th><th style = \"text-align: left;\">ORB.</th><th style = \"text-align: left;\">DRB.</th><th style = \"text-align: left;\">TRB.</th><th style = \"text-align: left;\">AST.</th><th style = \"text-align: left;\">STL.</th><th style = \"text-align: left;\">BLK.</th><th style = \"text-align: left;\">TOV.</th><th style = \"text-align: left;\">USG.</th><th style = \"text-align: left;\">OWS</th><th style = \"text-align: left;\">DWS</th><th style = \"text-align: left;\">WS</th><th style = \"text-align: left;\">WS_48</th><th style = \"text-align: left;\">OBPM</th><th style = \"text-align: left;\">DBPM</th><th style = \"text-align: left;\">BPM</th><th style = \"text-align: left;\">VORP</th><th style = \"text-align: left;\">Olympics2016</th><th style = \"text-align: left;\">OlympicsFinalist</th><th style = \"text-align: left;\">AllStar</th><th style = \"text-align: left;\">HighRated</th></tr><tr class = \"subheader headerLastRow\"><th class = \"rowNumber\" style = \"font-weight: bold; text-align: right;\"></th><th title = \"Int64\" style = \"text-align: left;\">Int64</th><th title = \"String31\" style = \"text-align: left;\">String31</th><th title = \"String15\" style = \"text-align: left;\">String15</th><th title = \"String7\" style = \"text-align: left;\">String7</th><th title = \"Int64\" style = \"text-align: left;\">Int64</th><th title = \"String3\" style = \"text-align: left;\">String3</th><th title = \"Int64\" style = \"text-align: left;\">Int64</th><th title = \"Int64\" style = \"text-align: left;\">Int64</th><th title = \"Float64\" style = \"text-align: left;\">Float64</th><th title = \"Float64\" style = \"text-align: left;\">Float64</th><th title = \"Float64\" style = \"text-align: left;\">Float64</th><th title = \"Float64\" style = \"text-align: left;\">Float64</th><th title = \"Float64\" style = \"text-align: left;\">Float64</th><th title = \"Float64\" style = \"text-align: left;\">Float64</th><th title = \"Float64\" style = \"text-align: left;\">Float64</th><th title = \"Float64\" style = \"text-align: left;\">Float64</th><th title = \"Float64\" style = \"text-align: left;\">Float64</th><th title = \"Float64\" style = \"text-align: left;\">Float64</th><th title = \"Float64\" style = \"text-align: left;\">Float64</th><th title = \"Float64\" style = \"text-align: left;\">Float64</th><th title = \"Float64\" style = \"text-align: left;\">Float64</th><th title = \"Float64\" style = \"text-align: left;\">Float64</th><th title = \"Float64\" style = \"text-align: left;\">Float64</th><th title = \"Float64\" style = \"text-align: left;\">Float64</th><th title = \"Float64\" style = \"text-align: left;\">Float64</th><th title = \"Float64\" style = \"text-align: left;\">Float64</th><th title = \"Float64\" style = \"text-align: left;\">Float64</th><th title = \"Float64\" style = \"text-align: left;\">Float64</th><th title = \"Int64\" style = \"text-align: left;\">Int64</th><th title = \"Int64\" style = \"text-align: left;\">Int64</th><th title = \"Int64\" style = \"text-align: left;\">Int64</th><th title = \"Int64\" style = \"text-align: left;\">Int64</th></tr></thead><tbody><tr><td class = \"rowNumber\" style = \"font-weight: bold; text-align: right;\">1</td><td style = \"text-align: right;\">5</td><td style = \"text-align: left;\">Bam Adebayo</td><td style = \"text-align: left;\">adebaba01</td><td style = \"text-align: left;\">C</td><td style = \"text-align: right;\">21</td><td style = \"text-align: left;\">MIA</td><td style = \"text-align: right;\">82</td><td style = \"text-align: right;\">1913</td><td style = \"text-align: right;\">17.9</td><td style = \"text-align: right;\">0.623</td><td style = \"text-align: right;\">0.031</td><td style = \"text-align: right;\">0.465</td><td style = \"text-align: right;\">9.2</td><td style = \"text-align: right;\">24.0</td><td style = \"text-align: right;\">16.6</td><td style = \"text-align: right;\">14.2</td><td style = \"text-align: right;\">1.8</td><td style = \"text-align: right;\">3.0</td><td style = \"text-align: right;\">17.1</td><td style = \"text-align: right;\">15.8</td><td style = \"text-align: right;\">3.4</td><td style = \"text-align: right;\">3.4</td><td style = \"text-align: right;\">6.8</td><td style = \"text-align: right;\">0.171</td><td style = \"text-align: right;\">-0.6</td><td style = \"text-align: right;\">3.6</td><td style = \"text-align: right;\">3.0</td><td style = \"text-align: right;\">2.4</td><td style = \"text-align: right;\">0</td><td style = \"text-align: right;\">1</td><td style = \"text-align: right;\">0</td><td style = \"text-align: right;\">1</td></tr><tr><td class = \"rowNumber\" style = \"font-weight: bold; text-align: right;\">2</td><td style = \"text-align: right;\">8</td><td style = \"text-align: left;\">LaMarcus Aldridge</td><td style = \"text-align: left;\">aldrila01</td><td style = \"text-align: left;\">C</td><td style = \"text-align: right;\">33</td><td style = \"text-align: left;\">SAS</td><td style = \"text-align: right;\">81</td><td style = \"text-align: right;\">2687</td><td style = \"text-align: right;\">22.9</td><td style = \"text-align: right;\">0.576</td><td style = \"text-align: right;\">0.032</td><td style = \"text-align: right;\">0.312</td><td style = \"text-align: right;\">10.3</td><td style = \"text-align: right;\">19.8</td><td style = \"text-align: right;\">15.1</td><td style = \"text-align: right;\">11.6</td><td style = \"text-align: right;\">0.8</td><td style = \"text-align: right;\">3.4</td><td style = \"text-align: right;\">8.8</td><td style = \"text-align: right;\">26.9</td><td style = \"text-align: right;\">6.4</td><td style = \"text-align: right;\">2.9</td><td style = \"text-align: right;\">9.3</td><td style = \"text-align: right;\">0.167</td><td style = \"text-align: right;\">1.2</td><td style = \"text-align: right;\">0.5</td><td style = \"text-align: right;\">1.6</td><td style = \"text-align: right;\">2.5</td><td style = \"text-align: right;\">0</td><td style = \"text-align: right;\">1</td><td style = \"text-align: right;\">1</td><td style = \"text-align: right;\">2</td></tr><tr><td class = \"rowNumber\" style = \"font-weight: bold; text-align: right;\">3</td><td style = \"text-align: right;\">11</td><td style = \"text-align: left;\">Jarrett Allen</td><td style = \"text-align: left;\">allenja01</td><td style = \"text-align: left;\">C</td><td style = \"text-align: right;\">20</td><td style = \"text-align: left;\">BRK</td><td style = \"text-align: right;\">80</td><td style = \"text-align: right;\">2096</td><td style = \"text-align: right;\">18.5</td><td style = \"text-align: right;\">0.632</td><td style = \"text-align: right;\">0.079</td><td style = \"text-align: right;\">0.489</td><td style = \"text-align: right;\">9.6</td><td style = \"text-align: right;\">24.0</td><td style = \"text-align: right;\">16.8</td><td style = \"text-align: right;\">7.9</td><td style = \"text-align: right;\">1.0</td><td style = \"text-align: right;\">4.5</td><td style = \"text-align: right;\">13.0</td><td style = \"text-align: right;\">15.9</td><td style = \"text-align: right;\">4.4</td><td style = \"text-align: right;\">3.3</td><td style = \"text-align: right;\">7.6</td><td style = \"text-align: right;\">0.175</td><td style = \"text-align: right;\">-0.7</td><td style = \"text-align: right;\">3.2</td><td style = \"text-align: right;\">2.5</td><td style = \"text-align: right;\">2.4</td><td style = \"text-align: right;\">0</td><td style = \"text-align: right;\">0</td><td style = \"text-align: right;\">0</td><td style = \"text-align: right;\">0</td></tr><tr><td class = \"rowNumber\" style = \"font-weight: bold; text-align: right;\">4</td><td style = \"text-align: right;\">13</td><td style = \"text-align: left;\">Al-Farouq Aminu</td><td style = \"text-align: left;\">aminual01</td><td style = \"text-align: left;\">PF</td><td style = \"text-align: right;\">28</td><td style = \"text-align: left;\">POR</td><td style = \"text-align: right;\">81</td><td style = \"text-align: right;\">2292</td><td style = \"text-align: right;\">13.2</td><td style = \"text-align: right;\">0.568</td><td style = \"text-align: right;\">0.472</td><td style = \"text-align: right;\">0.292</td><td style = \"text-align: right;\">5.3</td><td style = \"text-align: right;\">22.6</td><td style = \"text-align: right;\">14.2</td><td style = \"text-align: right;\">6.0</td><td style = \"text-align: right;\">1.4</td><td style = \"text-align: right;\">1.2</td><td style = \"text-align: right;\">9.7</td><td style = \"text-align: right;\">13.7</td><td style = \"text-align: right;\">3.0</td><td style = \"text-align: right;\">2.8</td><td style = \"text-align: right;\">5.8</td><td style = \"text-align: right;\">0.121</td><td style = \"text-align: right;\">0.1</td><td style = \"text-align: right;\">0.8</td><td style = \"text-align: right;\">0.9</td><td style = \"text-align: right;\">1.7</td><td style = \"text-align: right;\">0</td><td style = \"text-align: right;\">0</td><td style = \"text-align: right;\">0</td><td style = \"text-align: right;\">0</td></tr><tr><td class = \"rowNumber\" style = \"font-weight: bold; text-align: right;\">5</td><td style = \"text-align: right;\">20</td><td style = \"text-align: left;\">Carmelo Anthony</td><td style = \"text-align: left;\">anthoca01</td><td style = \"text-align: left;\">PF</td><td style = \"text-align: right;\">34</td><td style = \"text-align: left;\">HOU</td><td style = \"text-align: right;\">10</td><td style = \"text-align: right;\">294</td><td style = \"text-align: right;\">10.9</td><td style = \"text-align: right;\">0.513</td><td style = \"text-align: right;\">0.529</td><td style = \"text-align: right;\">0.182</td><td style = \"text-align: right;\">3.3</td><td style = \"text-align: right;\">17.3</td><td style = \"text-align: right;\">10.2</td><td style = \"text-align: right;\">2.6</td><td style = \"text-align: right;\">0.7</td><td style = \"text-align: right;\">2.0</td><td style = \"text-align: right;\">5.8</td><td style = \"text-align: right;\">20.5</td><td style = \"text-align: right;\">0.1</td><td style = \"text-align: right;\">0.2</td><td style = \"text-align: right;\">0.3</td><td style = \"text-align: right;\">0.048</td><td style = \"text-align: right;\">-3.1</td><td style = \"text-align: right;\">-2.8</td><td style = \"text-align: right;\">-5.9</td><td style = \"text-align: right;\">-0.3</td><td style = \"text-align: right;\">1</td><td style = \"text-align: right;\">0</td><td style = \"text-align: right;\">0</td><td style = \"text-align: right;\">1</td></tr><tr><td class = \"rowNumber\" style = \"font-weight: bold; text-align: right;\">6</td><td style = \"text-align: right;\">22</td><td style = \"text-align: left;\">Ryan Arcidiacono</td><td style = \"text-align: left;\">arcidry01</td><td style = \"text-align: left;\">PG</td><td style = \"text-align: right;\">24</td><td style = \"text-align: left;\">CHI</td><td style = \"text-align: right;\">81</td><td style = \"text-align: right;\">1961</td><td style = \"text-align: right;\">11.6</td><td style = \"text-align: right;\">0.588</td><td style = \"text-align: right;\">0.519</td><td style = \"text-align: right;\">0.244</td><td style = \"text-align: right;\">1.5</td><td style = \"text-align: right;\">10.8</td><td style = \"text-align: right;\">6.1</td><td style = \"text-align: right;\">18.9</td><td style = \"text-align: right;\">1.6</td><td style = \"text-align: right;\">0.2</td><td style = \"text-align: right;\">12.0</td><td style = \"text-align: right;\">11.7</td><td style = \"text-align: right;\">2.8</td><td style = \"text-align: right;\">0.9</td><td style = \"text-align: right;\">3.7</td><td style = \"text-align: right;\">0.09</td><td style = \"text-align: right;\">-0.1</td><td style = \"text-align: right;\">-1.0</td><td style = \"text-align: right;\">-1.0</td><td style = \"text-align: right;\">0.5</td><td style = \"text-align: right;\">0</td><td style = \"text-align: right;\">0</td><td style = \"text-align: right;\">0</td><td style = \"text-align: right;\">0</td></tr><tr><td class = \"rowNumber\" style = \"font-weight: bold; text-align: right;\">7</td><td style = \"text-align: right;\">23</td><td style = \"text-align: left;\">Trevor Ariza</td><td style = \"text-align: left;\">arizatr01</td><td style = \"text-align: left;\">SF</td><td style = \"text-align: right;\">33</td><td style = \"text-align: left;\">TOT</td><td style = \"text-align: right;\">69</td><td style = \"text-align: right;\">2349</td><td style = \"text-align: right;\">12.0</td><td style = \"text-align: right;\">0.534</td><td style = \"text-align: right;\">0.59</td><td style = \"text-align: right;\">0.223</td><td style = \"text-align: right;\">2.3</td><td style = \"text-align: right;\">15.2</td><td style = \"text-align: right;\">8.6</td><td style = \"text-align: right;\">14.8</td><td style = \"text-align: right;\">1.8</td><td style = \"text-align: right;\">0.7</td><td style = \"text-align: right;\">11.6</td><td style = \"text-align: right;\">16.6</td><td style = \"text-align: right;\">1.3</td><td style = \"text-align: right;\">1.2</td><td style = \"text-align: right;\">2.5</td><td style = \"text-align: right;\">0.052</td><td style = \"text-align: right;\">-0.1</td><td style = \"text-align: right;\">-0.4</td><td style = \"text-align: right;\">-0.5</td><td style = \"text-align: right;\">0.9</td><td style = \"text-align: right;\">0</td><td style = \"text-align: right;\">0</td><td style = \"text-align: right;\">0</td><td style = \"text-align: right;\">0</td></tr><tr><td class = \"rowNumber\" style = \"font-weight: bold; text-align: right;\">8</td><td style = \"text-align: right;\">24</td><td style = \"text-align: left;\">D.J. Augustin</td><td style = \"text-align: left;\">augusdj01</td><td style = \"text-align: left;\">PG</td><td style = \"text-align: right;\">31</td><td style = \"text-align: left;\">ORL</td><td style = \"text-align: right;\">81</td><td style = \"text-align: right;\">2269</td><td style = \"text-align: right;\">15.7</td><td style = \"text-align: right;\">0.616</td><td style = \"text-align: right;\">0.459</td><td style = \"text-align: right;\">0.309</td><td style = \"text-align: right;\">1.9</td><td style = \"text-align: right;\">7.8</td><td style = \"text-align: right;\">4.8</td><td style = \"text-align: right;\">26.9</td><td style = \"text-align: right;\">1.1</td><td style = \"text-align: right;\">0.1</td><td style = \"text-align: right;\">14.3</td><td style = \"text-align: right;\">17.2</td><td style = \"text-align: right;\">5.0</td><td style = \"text-align: right;\">1.9</td><td style = \"text-align: right;\">6.9</td><td style = \"text-align: right;\">0.146</td><td style = \"text-align: right;\">1.7</td><td style = \"text-align: right;\">-2.0</td><td style = \"text-align: right;\">-0.3</td><td style = \"text-align: right;\">1.0</td><td style = \"text-align: right;\">0</td><td style = \"text-align: right;\">0</td><td style = \"text-align: right;\">0</td><td style = \"text-align: right;\">0</td></tr><tr><td class = \"rowNumber\" style = \"font-weight: bold; text-align: right;\">9</td><td style = \"text-align: right;\">27</td><td style = \"text-align: left;\">Marvin Bagley</td><td style = \"text-align: left;\">baglema01</td><td style = \"text-align: left;\">PF</td><td style = \"text-align: right;\">19</td><td style = \"text-align: left;\">SAC</td><td style = \"text-align: right;\">62</td><td style = \"text-align: right;\">1567</td><td style = \"text-align: right;\">18.9</td><td style = \"text-align: right;\">0.562</td><td style = \"text-align: right;\">0.136</td><td style = \"text-align: right;\">0.371</td><td style = \"text-align: right;\">10.4</td><td style = \"text-align: right;\">20.8</td><td style = \"text-align: right;\">15.5</td><td style = \"text-align: right;\">5.9</td><td style = \"text-align: right;\">1.0</td><td style = \"text-align: right;\">3.2</td><td style = \"text-align: right;\">10.7</td><td style = \"text-align: right;\">24.2</td><td style = \"text-align: right;\">2.0</td><td style = \"text-align: right;\">1.6</td><td style = \"text-align: right;\">3.6</td><td style = \"text-align: right;\">0.11</td><td style = \"text-align: right;\">-1.2</td><td style = \"text-align: right;\">-0.7</td><td style = \"text-align: right;\">-1.8</td><td style = \"text-align: right;\">0.1</td><td style = \"text-align: right;\">0</td><td style = \"text-align: right;\">0</td><td style = \"text-align: right;\">0</td><td style = \"text-align: right;\">0</td></tr><tr><td class = \"rowNumber\" style = \"font-weight: bold; text-align: right;\">10</td><td style = \"text-align: right;\">33</td><td style = \"text-align: left;\">Harrison Barnes</td><td style = \"text-align: left;\">barneha02</td><td style = \"text-align: left;\">PF-SF</td><td style = \"text-align: right;\">26</td><td style = \"text-align: left;\">TOT</td><td style = \"text-align: right;\">77</td><td style = \"text-align: right;\">2533</td><td style = \"text-align: right;\">12.8</td><td style = \"text-align: right;\">0.55</td><td style = \"text-align: right;\">0.429</td><td style = \"text-align: right;\">0.271</td><td style = \"text-align: right;\">2.4</td><td style = \"text-align: right;\">12.7</td><td style = \"text-align: right;\">7.5</td><td style = \"text-align: right;\">6.7</td><td style = \"text-align: right;\">0.9</td><td style = \"text-align: right;\">0.4</td><td style = \"text-align: right;\">7.9</td><td style = \"text-align: right;\">20.9</td><td style = \"text-align: right;\">2.0</td><td style = \"text-align: right;\">1.6</td><td style = \"text-align: right;\">3.6</td><td style = \"text-align: right;\">0.068</td><td style = \"text-align: right;\">-0.6</td><td style = \"text-align: right;\">-1.8</td><td style = \"text-align: right;\">-2.3</td><td style = \"text-align: right;\">-0.2</td><td style = \"text-align: right;\">1</td><td style = \"text-align: right;\">1</td><td style = \"text-align: right;\">0</td><td style = \"text-align: right;\">2</td></tr></tbody></table></div>"
      ],
      "text/latex": [
       "\\begin{tabular}{r|cccccccccc}\n",
       "\t& ID & Player & Username & Pos & Age & Tm & G & MP & PER & \\\\\n",
       "\t\\hline\n",
       "\t& Int64 & String31 & String15 & String7 & Int64 & String3 & Int64 & Int64 & Float64 & \\\\\n",
       "\t\\hline\n",
       "\t1 & 5 & Bam Adebayo & adebaba01 & C & 21 & MIA & 82 & 1913 & 17.9 & $\\dots$ \\\\\n",
       "\t2 & 8 & LaMarcus Aldridge & aldrila01 & C & 33 & SAS & 81 & 2687 & 22.9 & $\\dots$ \\\\\n",
       "\t3 & 11 & Jarrett Allen & allenja01 & C & 20 & BRK & 80 & 2096 & 18.5 & $\\dots$ \\\\\n",
       "\t4 & 13 & Al-Farouq Aminu & aminual01 & PF & 28 & POR & 81 & 2292 & 13.2 & $\\dots$ \\\\\n",
       "\t5 & 20 & Carmelo Anthony & anthoca01 & PF & 34 & HOU & 10 & 294 & 10.9 & $\\dots$ \\\\\n",
       "\t6 & 22 & Ryan Arcidiacono & arcidry01 & PG & 24 & CHI & 81 & 1961 & 11.6 & $\\dots$ \\\\\n",
       "\t7 & 23 & Trevor Ariza & arizatr01 & SF & 33 & TOT & 69 & 2349 & 12.0 & $\\dots$ \\\\\n",
       "\t8 & 24 & D.J. Augustin & augusdj01 & PG & 31 & ORL & 81 & 2269 & 15.7 & $\\dots$ \\\\\n",
       "\t9 & 27 & Marvin Bagley & baglema01 & PF & 19 & SAC & 62 & 1567 & 18.9 & $\\dots$ \\\\\n",
       "\t10 & 33 & Harrison Barnes & barneha02 & PF-SF & 26 & TOT & 77 & 2533 & 12.8 & $\\dots$ \\\\\n",
       "\\end{tabular}\n"
      ],
      "text/plain": [
       "\u001b[1m10×32 DataFrame\u001b[0m\n",
       "\u001b[1m Row \u001b[0m│\u001b[1m ID    \u001b[0m\u001b[1m Player            \u001b[0m\u001b[1m Username  \u001b[0m\u001b[1m Pos     \u001b[0m\u001b[1m Age   \u001b[0m\u001b[1m Tm      \u001b[0m\u001b[1m G     \u001b[0m\u001b[1m MP\u001b[0m ⋯\n",
       "     │\u001b[90m Int64 \u001b[0m\u001b[90m String31          \u001b[0m\u001b[90m String15  \u001b[0m\u001b[90m String7 \u001b[0m\u001b[90m Int64 \u001b[0m\u001b[90m String3 \u001b[0m\u001b[90m Int64 \u001b[0m\u001b[90m In\u001b[0m ⋯\n",
       "─────┼──────────────────────────────────────────────────────────────────────────\n",
       "   1 │     5  Bam Adebayo        adebaba01  C           21  MIA         82   1 ⋯\n",
       "   2 │     8  LaMarcus Aldridge  aldrila01  C           33  SAS         81   2\n",
       "   3 │    11  Jarrett Allen      allenja01  C           20  BRK         80   2\n",
       "   4 │    13  Al-Farouq Aminu    aminual01  PF          28  POR         81   2\n",
       "   5 │    20  Carmelo Anthony    anthoca01  PF          34  HOU         10     ⋯\n",
       "   6 │    22  Ryan Arcidiacono   arcidry01  PG          24  CHI         81   1\n",
       "   7 │    23  Trevor Ariza       arizatr01  SF          33  TOT         69   2\n",
       "   8 │    24  D.J. Augustin      augusdj01  PG          31  ORL         81   2\n",
       "   9 │    27  Marvin Bagley      baglema01  PF          19  SAC         62   1 ⋯\n",
       "  10 │    33  Harrison Barnes    barneha02  PF-SF       26  TOT         77   2\n",
       "\u001b[36m                                                              25 columns omitted\u001b[0m"
      ]
     },
     "execution_count": 28,
     "metadata": {},
     "output_type": "execute_result"
    }
   ],
   "source": [
    "first(df,10)"
   ]
  },
  {
   "cell_type": "markdown",
   "metadata": {},
   "source": [
    "### A Simple Model\n",
    "We'll start by coding up the simple model we sketched out in the slides."
   ]
  },
  {
   "cell_type": "code",
   "execution_count": 30,
   "metadata": {},
   "outputs": [
    {
     "name": "stdout",
     "output_type": "stream",
     "text": [
      "Set parameter Username\n",
      "Academic license - for non-commercial use only - expires 2025-01-20\n",
      "Set parameter TimeLimit to value 60\n"
     ]
    }
   ],
   "source": [
    "model = Model(Gurobi.Optimizer)\n",
    "set_optimizer_attribute(model, \"TimeLimit\", 60)"
   ]
  },
  {
   "cell_type": "markdown",
   "metadata": {},
   "source": [
    "### I. Defining the Decision Variables\n",
    "First we need to create our decision variables. Remember, we want to construct variables:\n",
    "\n",
    "$$\n",
    "    x_i=\\left\\{\n",
    "                \\begin{array}{ll}\n",
    "                  1 & \\text{if player $i$ is selected for the team,}\\\\\n",
    "                  0 & \\text{otherwise.}\n",
    "                \\end{array}\n",
    "              \\right.\n",
    "$$\n",
    "\n",
    "These are called **binary** variables since they only take on values between 0 and 1. We need an $x_i$ for all $i=1,\\ldots,N$."
   ]
  },
  {
   "cell_type": "code",
   "execution_count": 31,
   "metadata": {},
   "outputs": [
    {
     "data": {
      "text/plain": [
       "200-element Vector{VariableRef}:\n",
       " x[1]\n",
       " x[2]\n",
       " x[3]\n",
       " x[4]\n",
       " x[5]\n",
       " x[6]\n",
       " x[7]\n",
       " x[8]\n",
       " x[9]\n",
       " x[10]\n",
       " x[11]\n",
       " x[12]\n",
       " x[13]\n",
       " ⋮\n",
       " x[189]\n",
       " x[190]\n",
       " x[191]\n",
       " x[192]\n",
       " x[193]\n",
       " x[194]\n",
       " x[195]\n",
       " x[196]\n",
       " x[197]\n",
       " x[198]\n",
       " x[199]\n",
       " x[200]"
      ]
     },
     "execution_count": 31,
     "metadata": {},
     "output_type": "execute_result"
    }
   ],
   "source": [
    "N = nrow(df)\n",
    "@variable(model, x[1:N], Bin)"
   ]
  },
  {
   "cell_type": "markdown",
   "metadata": {},
   "source": [
    "#### II. Formalizing the Objective\n",
    "\n",
    "We'll start with a basic objective, which is simply to maximize the average Player Efficiency Rating (PER) of the players on the selected team. We'll denote player $i$'s PER as $c_i$. We can then calculate the objective as:\n",
    "\n",
    "$$ \\frac{1}{12} \\sum_{i=1}^{N}(x_i*s_i)$$\n",
    "\n",
    "We can easily formulate this in JuMP:"
   ]
  },
  {
   "cell_type": "code",
   "execution_count": 32,
   "metadata": {},
   "outputs": [
    {
     "data": {
      "text/plain": [
       "200-element Vector{Float64}:\n",
       " 17.9\n",
       " 22.9\n",
       " 18.5\n",
       " 13.2\n",
       " 10.9\n",
       " 11.6\n",
       " 12.0\n",
       " 15.7\n",
       " 18.9\n",
       " 12.8\n",
       " 13.1\n",
       " 12.3\n",
       " 11.9\n",
       "  ⋮\n",
       " 15.8\n",
       " 21.7\n",
       "  7.0\n",
       " 21.1\n",
       " 14.8\n",
       " 23.5\n",
       " 21.2\n",
       " 12.6\n",
       " 12.8\n",
       " 15.5\n",
       " 16.2\n",
       " 17.0"
      ]
     },
     "execution_count": 32,
     "metadata": {},
     "output_type": "execute_result"
    }
   ],
   "source": [
    "s = df[!,:PER]"
   ]
  },
  {
   "cell_type": "code",
   "execution_count": 33,
   "metadata": {},
   "outputs": [
    {
     "data": {
      "text/latex": [
       "$ 1.4916666666666665 x_{1} + 1.9083333333333332 x_{2} + 1.5416666666666665 x_{3} + 1.0999999999999999 x_{4} + 0.9083333333333333 x_{5} + 0.9666666666666666 x_{6} + x_{7} + 1.3083333333333331 x_{8} + 1.5749999999999997 x_{9} + 1.0666666666666667 x_{10} + 1.0916666666666666 x_{11} + 1.025 x_{12} + 0.9916666666666667 x_{13} + 1.7333333333333334 x_{14} + 1.1833333333333331 x_{15} + 1.075 x_{16} + 0.9 x_{17} + 0.9833333333333334 x_{18} + 1.6083333333333334 x_{19} + 1.6833333333333331 x_{20} + 0.6333333333333333 x_{21} + 0.9 x_{22} + 1.0916666666666666 x_{23} + 1.4833333333333334 x_{24} + 0.575 x_{25} + 1.125 x_{26} + 1.0666666666666667 x_{27} + 1.75 x_{28} + 0.875 x_{29} + 1.0583333333333331 x_{30} + [[\\ldots\\text{140 terms omitted}\\ldots]] + x_{171} + 0.9166666666666666 x_{172} + 0.7583333333333333 x_{173} + 1.0916666666666666 x_{174} + 0.8916666666666666 x_{175} + 0.9833333333333334 x_{176} + 1.2583333333333333 x_{177} + 0.7083333333333333 x_{178} + 1.3833333333333333 x_{179} + 0.43333333333333335 x_{180} + 0.7166666666666666 x_{181} + 2.1916666666666664 x_{182} + 1.0166666666666666 x_{183} + 0.7666666666666666 x_{184} + 0.9666666666666666 x_{185} + 1.5 x_{186} + 1.1416666666666666 x_{187} + 1.1583333333333332 x_{188} + 1.3166666666666667 x_{189} + 1.8083333333333331 x_{190} + 0.5833333333333333 x_{191} + 1.7583333333333333 x_{192} + 1.2333333333333334 x_{193} + 1.9583333333333333 x_{194} + 1.7666666666666666 x_{195} + 1.0499999999999998 x_{196} + 1.0666666666666667 x_{197} + 1.2916666666666665 x_{198} + 1.3499999999999999 x_{199} + 1.4166666666666665 x_{200} $"
      ],
      "text/plain": [
       "1.4916666666666665 x[1] + 1.9083333333333332 x[2] + 1.5416666666666665 x[3] + 1.0999999999999999 x[4] + 0.9083333333333333 x[5] + 0.9666666666666666 x[6] + x[7] + 1.3083333333333331 x[8] + 1.5749999999999997 x[9] + 1.0666666666666667 x[10] + 1.0916666666666666 x[11] + 1.025 x[12] + 0.9916666666666667 x[13] + 1.7333333333333334 x[14] + 1.1833333333333331 x[15] + 1.075 x[16] + 0.9 x[17] + 0.9833333333333334 x[18] + 1.6083333333333334 x[19] + 1.6833333333333331 x[20] + 0.6333333333333333 x[21] + 0.9 x[22] + 1.0916666666666666 x[23] + 1.4833333333333334 x[24] + 0.575 x[25] + 1.125 x[26] + 1.0666666666666667 x[27] + 1.75 x[28] + 0.875 x[29] + 1.0583333333333331 x[30] + [[...140 terms omitted...]] + x[171] + 0.9166666666666666 x[172] + 0.7583333333333333 x[173] + 1.0916666666666666 x[174] + 0.8916666666666666 x[175] + 0.9833333333333334 x[176] + 1.2583333333333333 x[177] + 0.7083333333333333 x[178] + 1.3833333333333333 x[179] + 0.43333333333333335 x[180] + 0.7166666666666666 x[181] + 2.1916666666666664 x[182] + 1.0166666666666666 x[183] + 0.7666666666666666 x[184] + 0.9666666666666666 x[185] + 1.5 x[186] + 1.1416666666666666 x[187] + 1.1583333333333332 x[188] + 1.3166666666666667 x[189] + 1.8083333333333331 x[190] + 0.5833333333333333 x[191] + 1.7583333333333333 x[192] + 1.2333333333333334 x[193] + 1.9583333333333333 x[194] + 1.7666666666666666 x[195] + 1.0499999999999998 x[196] + 1.0666666666666667 x[197] + 1.2916666666666665 x[198] + 1.3499999999999999 x[199] + 1.4166666666666665 x[200]"
      ]
     },
     "execution_count": 33,
     "metadata": {},
     "output_type": "execute_result"
    }
   ],
   "source": [
    "s = df[!,:PER]\n",
    "@objective(model, Max, 1/12*sum(x[i]*s[i] for i=1:N))"
   ]
  },
  {
   "cell_type": "markdown",
   "metadata": {},
   "source": [
    "#### III. Constructing the Constraints \n",
    "\n",
    "Now that we have defined our variables and quantified our goal, we need to specify what requirements any team must satisfy. Let's start by just placing a constraint on team size. "
   ]
  },
  {
   "cell_type": "code",
   "execution_count": 34,
   "metadata": {},
   "outputs": [],
   "source": [
    "@constraint(model, sum(x[i] for i=1:N) == 12);"
   ]
  },
  {
   "cell_type": "markdown",
   "metadata": {},
   "source": [
    "#### IV. Solving the Model\n",
    "We have specified the three key elements of any mixed-integer optimization model: \n",
    "- Decision Variables\n",
    "- Objective \n",
    "- Feasibility Constraints\n",
    "\n",
    "We're ready to solve the model!"
   ]
  },
  {
   "cell_type": "code",
   "execution_count": 35,
   "metadata": {},
   "outputs": [
    {
     "data": {
      "text/plain": [
       "A JuMP Model\n",
       "├ solver: Gurobi\n",
       "├ objective_sense: MAX_SENSE\n",
       "│ └ objective_function_type: AffExpr\n",
       "├ num_variables: 200\n",
       "├ num_constraints: 201\n",
       "│ ├ AffExpr in MOI.EqualTo{Float64}: 1\n",
       "│ └ VariableRef in MOI.ZeroOne: 200\n",
       "└ Names registered in the model\n",
       "  └ :x"
      ]
     },
     "execution_count": 35,
     "metadata": {},
     "output_type": "execute_result"
    }
   ],
   "source": [
    "model"
   ]
  },
  {
   "cell_type": "code",
   "execution_count": 36,
   "metadata": {
    "scrolled": true
   },
   "outputs": [
    {
     "name": "stdout",
     "output_type": "stream",
     "text": [
      "Set parameter TimeLimit to value 60\n",
      "Gurobi Optimizer version 11.0.2 build v11.0.2rc0 (mac64[x86] - Darwin 20.6.0 20G624)\n",
      "\n",
      "CPU model: Intel(R) Core(TM) i7-1068NG7 CPU @ 2.30GHz\n",
      "Thread count: 4 physical cores, 8 logical processors, using up to 8 threads\n",
      "\n",
      "Optimize a model with 1 rows, 200 columns and 200 nonzeros\n",
      "Model fingerprint: 0x70c4ea97\n",
      "Variable types: 0 continuous, 200 integer (200 binary)\n",
      "Coefficient statistics:\n",
      "  Matrix range     [1e+00, 1e+00]\n",
      "  Objective range  [4e-01, 3e+00]\n",
      "  Bounds range     [0e+00, 0e+00]\n",
      "  RHS range        [1e+01, 1e+01]\n",
      "Found heuristic solution: objective 14.9833333\n",
      "Presolve removed 1 rows and 200 columns\n",
      "Presolve time: 0.00s\n",
      "Presolve: All rows and columns removed\n",
      "\n",
      "Explored 0 nodes (0 simplex iterations) in 0.00 seconds (0.00 work units)\n",
      "Thread count was 1 (of 8 available processors)\n",
      "\n",
      "Solution count 2: 25.375 14.9833 \n",
      "\n",
      "Optimal solution found (tolerance 1.00e-04)\n",
      "Best objective 2.537500000000e+01, best bound 2.537500000000e+01, gap 0.0000%\n",
      "\n",
      "User-callback calls 176, time in user-callback 0.00 sec\n"
     ]
    }
   ],
   "source": [
    "optimize!(model);"
   ]
  },
  {
   "cell_type": "markdown",
   "metadata": {},
   "source": [
    "Let's see what our results look like: we can look at the values of our decision variables $x_1,\\ldots,x_N$ to see which indices were set to 1. These indices correspond to the players that were selected for the team."
   ]
  },
  {
   "cell_type": "code",
   "execution_count": 37,
   "metadata": {
    "scrolled": true
   },
   "outputs": [
    {
     "data": {
      "text/plain": [
       "200-element Vector{Float64}:\n",
       " 0.0\n",
       " 0.0\n",
       " 0.0\n",
       " 0.0\n",
       " 0.0\n",
       " 0.0\n",
       " 0.0\n",
       " 0.0\n",
       " 0.0\n",
       " 0.0\n",
       " 0.0\n",
       " 0.0\n",
       " 0.0\n",
       " ⋮\n",
       " 0.0\n",
       " 0.0\n",
       " 0.0\n",
       " 0.0\n",
       " 0.0\n",
       " 1.0\n",
       " 0.0\n",
       " 0.0\n",
       " 0.0\n",
       " 0.0\n",
       " 0.0\n",
       " 0.0"
      ]
     },
     "execution_count": 37,
     "metadata": {},
     "output_type": "execute_result"
    }
   ],
   "source": [
    "selection_indices = value.(x)"
   ]
  },
  {
   "cell_type": "code",
   "execution_count": 38,
   "metadata": {},
   "outputs": [
    {
     "data": {
      "text/plain": [
       "12-element Vector{String31}:\n",
       " \"Stephen Curry\"\n",
       " \"Anthony Davis\"\n",
       " \"Andre Drummond\"\n",
       " \"Kevin Durant\"\n",
       " \"Paul George\"\n",
       " \"James Harden\"\n",
       " \"Montrezl Harrell\"\n",
       " \"LeBron James\"\n",
       " \"Kawhi Leonard\"\n",
       " \"Damian Lillard\"\n",
       " \"Karl-Anthony Towns\"\n",
       " \"Hassan Whiteside\""
      ]
     },
     "execution_count": 38,
     "metadata": {},
     "output_type": "execute_result"
    }
   ],
   "source": [
    "selected_players = df[selection_indices.==1,:Player]"
   ]
  },
  {
   "cell_type": "code",
   "execution_count": 39,
   "metadata": {},
   "outputs": [
    {
     "data": {
      "text/plain": [
       "25.374999999999996"
      ]
     },
     "execution_count": 39,
     "metadata": {},
     "output_type": "execute_result"
    }
   ],
   "source": [
    "objective_value(model)"
   ]
  },
  {
   "cell_type": "markdown",
   "metadata": {},
   "source": [
    "How well does this match the list of finalists for the Olympics? "
   ]
  },
  {
   "cell_type": "code",
   "execution_count": 40,
   "metadata": {},
   "outputs": [
    {
     "data": {
      "text/html": [
       "<div><div style = \"float: left;\"><span>12×5 DataFrame</span></div><div style = \"clear: both;\"></div></div><div class = \"data-frame\" style = \"overflow-x: scroll;\"><table class = \"data-frame\" style = \"margin-bottom: 6px;\"><thead><tr class = \"header\"><th class = \"rowNumber\" style = \"font-weight: bold; text-align: right;\">Row</th><th style = \"text-align: left;\">Player</th><th style = \"text-align: left;\">Pos</th><th style = \"text-align: left;\">AllStar</th><th style = \"text-align: left;\">Olympics2016</th><th style = \"text-align: left;\">OlympicsFinalist</th></tr><tr class = \"subheader headerLastRow\"><th class = \"rowNumber\" style = \"font-weight: bold; text-align: right;\"></th><th title = \"String31\" style = \"text-align: left;\">String31</th><th title = \"String7\" style = \"text-align: left;\">String7</th><th title = \"Int64\" style = \"text-align: left;\">Int64</th><th title = \"Int64\" style = \"text-align: left;\">Int64</th><th title = \"Int64\" style = \"text-align: left;\">Int64</th></tr></thead><tbody><tr><td class = \"rowNumber\" style = \"font-weight: bold; text-align: right;\">1</td><td style = \"text-align: left;\">Stephen Curry</td><td style = \"text-align: left;\">PG</td><td style = \"text-align: right;\">1</td><td style = \"text-align: right;\">0</td><td style = \"text-align: right;\">1</td></tr><tr><td class = \"rowNumber\" style = \"font-weight: bold; text-align: right;\">2</td><td style = \"text-align: left;\">Anthony Davis</td><td style = \"text-align: left;\">C</td><td style = \"text-align: right;\">1</td><td style = \"text-align: right;\">0</td><td style = \"text-align: right;\">1</td></tr><tr><td class = \"rowNumber\" style = \"font-weight: bold; text-align: right;\">3</td><td style = \"text-align: left;\">Andre Drummond</td><td style = \"text-align: left;\">C</td><td style = \"text-align: right;\">0</td><td style = \"text-align: right;\">0</td><td style = \"text-align: right;\">1</td></tr><tr><td class = \"rowNumber\" style = \"font-weight: bold; text-align: right;\">4</td><td style = \"text-align: left;\">Kevin Durant</td><td style = \"text-align: left;\">SF</td><td style = \"text-align: right;\">1</td><td style = \"text-align: right;\">1</td><td style = \"text-align: right;\">1</td></tr><tr><td class = \"rowNumber\" style = \"font-weight: bold; text-align: right;\">5</td><td style = \"text-align: left;\">Paul George</td><td style = \"text-align: left;\">SF</td><td style = \"text-align: right;\">1</td><td style = \"text-align: right;\">1</td><td style = \"text-align: right;\">1</td></tr><tr><td class = \"rowNumber\" style = \"font-weight: bold; text-align: right;\">6</td><td style = \"text-align: left;\">James Harden</td><td style = \"text-align: left;\">PG</td><td style = \"text-align: right;\">1</td><td style = \"text-align: right;\">0</td><td style = \"text-align: right;\">1</td></tr><tr><td class = \"rowNumber\" style = \"font-weight: bold; text-align: right;\">7</td><td style = \"text-align: left;\">Montrezl Harrell</td><td style = \"text-align: left;\">C</td><td style = \"text-align: right;\">0</td><td style = \"text-align: right;\">0</td><td style = \"text-align: right;\">1</td></tr><tr><td class = \"rowNumber\" style = \"font-weight: bold; text-align: right;\">8</td><td style = \"text-align: left;\">LeBron James</td><td style = \"text-align: left;\">SF</td><td style = \"text-align: right;\">1</td><td style = \"text-align: right;\">0</td><td style = \"text-align: right;\">1</td></tr><tr><td class = \"rowNumber\" style = \"font-weight: bold; text-align: right;\">9</td><td style = \"text-align: left;\">Kawhi Leonard</td><td style = \"text-align: left;\">SF</td><td style = \"text-align: right;\">1</td><td style = \"text-align: right;\">0</td><td style = \"text-align: right;\">1</td></tr><tr><td class = \"rowNumber\" style = \"font-weight: bold; text-align: right;\">10</td><td style = \"text-align: left;\">Damian Lillard</td><td style = \"text-align: left;\">PG</td><td style = \"text-align: right;\">1</td><td style = \"text-align: right;\">0</td><td style = \"text-align: right;\">1</td></tr><tr><td class = \"rowNumber\" style = \"font-weight: bold; text-align: right;\">11</td><td style = \"text-align: left;\">Karl-Anthony Towns</td><td style = \"text-align: left;\">C</td><td style = \"text-align: right;\">1</td><td style = \"text-align: right;\">0</td><td style = \"text-align: right;\">0</td></tr><tr><td class = \"rowNumber\" style = \"font-weight: bold; text-align: right;\">12</td><td style = \"text-align: left;\">Hassan Whiteside</td><td style = \"text-align: left;\">C</td><td style = \"text-align: right;\">0</td><td style = \"text-align: right;\">0</td><td style = \"text-align: right;\">0</td></tr></tbody></table></div>"
      ],
      "text/latex": [
       "\\begin{tabular}{r|ccccc}\n",
       "\t& Player & Pos & AllStar & Olympics2016 & OlympicsFinalist\\\\\n",
       "\t\\hline\n",
       "\t& String31 & String7 & Int64 & Int64 & Int64\\\\\n",
       "\t\\hline\n",
       "\t1 & Stephen Curry & PG & 1 & 0 & 1 \\\\\n",
       "\t2 & Anthony Davis & C & 1 & 0 & 1 \\\\\n",
       "\t3 & Andre Drummond & C & 0 & 0 & 1 \\\\\n",
       "\t4 & Kevin Durant & SF & 1 & 1 & 1 \\\\\n",
       "\t5 & Paul George & SF & 1 & 1 & 1 \\\\\n",
       "\t6 & James Harden & PG & 1 & 0 & 1 \\\\\n",
       "\t7 & Montrezl Harrell & C & 0 & 0 & 1 \\\\\n",
       "\t8 & LeBron James & SF & 1 & 0 & 1 \\\\\n",
       "\t9 & Kawhi Leonard & SF & 1 & 0 & 1 \\\\\n",
       "\t10 & Damian Lillard & PG & 1 & 0 & 1 \\\\\n",
       "\t11 & Karl-Anthony Towns & C & 1 & 0 & 0 \\\\\n",
       "\t12 & Hassan Whiteside & C & 0 & 0 & 0 \\\\\n",
       "\\end{tabular}\n"
      ],
      "text/plain": [
       "\u001b[1m12×5 DataFrame\u001b[0m\n",
       "\u001b[1m Row \u001b[0m│\u001b[1m Player             \u001b[0m\u001b[1m Pos     \u001b[0m\u001b[1m AllStar \u001b[0m\u001b[1m Olympics2016 \u001b[0m\u001b[1m OlympicsFinalist \u001b[0m\n",
       "     │\u001b[90m String31           \u001b[0m\u001b[90m String7 \u001b[0m\u001b[90m Int64   \u001b[0m\u001b[90m Int64        \u001b[0m\u001b[90m Int64            \u001b[0m\n",
       "─────┼──────────────────────────────────────────────────────────────────────\n",
       "   1 │ Stephen Curry       PG             1             0                 1\n",
       "   2 │ Anthony Davis       C              1             0                 1\n",
       "   3 │ Andre Drummond      C              0             0                 1\n",
       "   4 │ Kevin Durant        SF             1             1                 1\n",
       "   5 │ Paul George         SF             1             1                 1\n",
       "   6 │ James Harden        PG             1             0                 1\n",
       "   7 │ Montrezl Harrell    C              0             0                 1\n",
       "   8 │ LeBron James        SF             1             0                 1\n",
       "   9 │ Kawhi Leonard       SF             1             0                 1\n",
       "  10 │ Damian Lillard      PG             1             0                 1\n",
       "  11 │ Karl-Anthony Towns  C              1             0                 0\n",
       "  12 │ Hassan Whiteside    C              0             0                 0"
      ]
     },
     "execution_count": 40,
     "metadata": {},
     "output_type": "execute_result"
    }
   ],
   "source": [
    "df[selection_indices.==1,[:Player,:Pos,:AllStar,:Olympics2016,:OlympicsFinalist]]"
   ]
  },
  {
   "cell_type": "markdown",
   "metadata": {},
   "source": [
    "### Making a More Realistic Team\n",
    "\n",
    "While this team is technically legal under Olympic regulations, it's not enough for us just to look at PER! We want to make sure that we have enough players of each position to fill out the team. We can add a few constraints to make a more useful team. "
   ]
  },
  {
   "cell_type": "code",
   "execution_count": 42,
   "metadata": {},
   "outputs": [
    {
     "name": "stdout",
     "output_type": "stream",
     "text": [
      "Set parameter Username\n",
      "Academic license - for non-commercial use only - expires 2025-01-20\n"
     ]
    }
   ],
   "source": [
    "## Our original model\n",
    "model2 = Model(Gurobi.Optimizer)\n",
    "@variable(model2, x[1:N], Bin)\n",
    "@objective(model2, Max, 1/12*sum(x[i]*df[i,:PER] for i=1:N));\n",
    "@constraint(model2, sum(x[i] for i=1:N) == 12);"
   ]
  },
  {
   "cell_type": "markdown",
   "metadata": {},
   "source": [
    "#### Position Requirements\n",
    "\n",
    "Suppose we want at least 4 guards, 4 forwards, and 3 centers. We first define indicators for each player's position. For example, to indicate which players are forwards, we define:\n",
    "\n",
    "\n",
    "$$\n",
    "    f_i=\\left\\{\n",
    "                \\begin{array}{ll}\n",
    "                  1 & \\text{if player $i$ is a forward,}\\\\\n",
    "                  0 & \\text{otherwise.}\n",
    "                \\end{array}\n",
    "              \\right.\n",
    "$$\n",
    "\n",
    "We can create similar variables $c_i$ and $g_i$ for center and guard positions. Note that this is **data**; these are not decision variables."
   ]
  },
  {
   "cell_type": "code",
   "execution_count": 43,
   "metadata": {},
   "outputs": [
    {
     "name": "stdout",
     "output_type": "stream",
     "text": [
      "Center Count: 33\n",
      "Forward Count: 67\n",
      "Guard Count: 96\n"
     ]
    }
   ],
   "source": [
    "c = ifelse.(df[!,:Pos].==\"C\",1,0);\n",
    "f = ifelse.((df[!,:Pos].==\"PF\").|(df[!,:Pos].==\"SF\"),1,0);\n",
    "g = ifelse.((df[!,:Pos].==\"PG\").|(df[!,:Pos].==\"SG\"),1,0);\n",
    "\n",
    "println(\"Center Count: \", sum(c))\n",
    "println(\"Forward Count: \", sum(f))\n",
    "println(\"Guard Count: \", sum(g))"
   ]
  },
  {
   "cell_type": "markdown",
   "metadata": {},
   "source": [
    "We can create constraints by summing the position indicator over the players who are selected for the team, like we did with the objective:\n",
    "\n",
    "$$ \\sum_{i=1}^{N}(f_i*x_i) \\geq 4$$\n",
    "\n",
    "We can do the same for the center and guard positions as well."
   ]
  },
  {
   "cell_type": "code",
   "execution_count": 44,
   "metadata": {
    "scrolled": true
   },
   "outputs": [],
   "source": [
    "# Forward constraint\n",
    "@constraint(model2, sum(f[i]*x[i] for i=1:N) >= 4);\n",
    "\n",
    "# Center constraint\n",
    "@constraint(model2, sum(c[i]*x[i] for i=1:N) >= 3);\n",
    "\n",
    "# Guard constraint\n",
    "@constraint(model2, sum(g[i]*x[i] for i=1:N) >= 4);"
   ]
  },
  {
   "cell_type": "markdown",
   "metadata": {},
   "source": [
    "#### Defensive Ability\n",
    "We want to make sure that our team has good average defensive ability. One (imperfect!) way to measure this is using Defensive Box Plus/Minus (DBPM). We can require that the average DBPM of the chosen team is at least +1. \n",
    "\n",
    "\n",
    "$$ \\frac{1}{12} \\sum_{i=1}^{N}(d_i*x_i) \\geq 1$$\n",
    "\n",
    "where $d_i$ is player $i$'s DBPM. "
   ]
  },
  {
   "cell_type": "code",
   "execution_count": 45,
   "metadata": {},
   "outputs": [],
   "source": [
    "d = df[!,:DBPM]\n",
    "@constraint(model2, 1/12 * sum(d[i]*x[i] for i=1:N) >= 1.0);"
   ]
  },
  {
   "cell_type": "markdown",
   "metadata": {},
   "source": [
    "#### Experience Constraints\n",
    "We also want to make sure our team has enough Olympics experience: let's add a constraint that at least 3 selected players were on the 2016 Olympic team.\n",
    "\n",
    "We use a similar syntax as before:\n",
    "\n",
    "$$ \\sum_{i=1}^{N}(o_i*x_i) \\geq 3 $$\n",
    "\n",
    "where $o_i = 1$ if player $i$ was on the 2016 Olympic team, and 0 otherwise. \n"
   ]
  },
  {
   "cell_type": "code",
   "execution_count": 46,
   "metadata": {
    "scrolled": true
   },
   "outputs": [],
   "source": [
    "o = df[!,:Olympics2016]\n",
    "@constraint(model2, sum(o[i]*x[i] for i=1:N) >= 3);"
   ]
  },
  {
   "cell_type": "markdown",
   "metadata": {},
   "source": [
    "Let's solve our new model."
   ]
  },
  {
   "cell_type": "code",
   "execution_count": 47,
   "metadata": {},
   "outputs": [],
   "source": [
    "set_silent(model2)\n",
    "optimize!(model2)"
   ]
  },
  {
   "cell_type": "code",
   "execution_count": 48,
   "metadata": {},
   "outputs": [
    {
     "data": {
      "text/plain": [
       "12-element Vector{String31}:\n",
       " \"Andre Drummond\"\n",
       " \"Anthony Davis\"\n",
       " \"Damian Lillard\"\n",
       " \"Hassan Whiteside\"\n",
       " \"James Harden\"\n",
       " \"Jimmy Butler\"\n",
       " \"Karl-Anthony Towns\"\n",
       " \"Kawhi Leonard\"\n",
       " \"Kevin Durant\"\n",
       " \"LeBron James\"\n",
       " \"Paul George\"\n",
       " \"Stephen Curry\""
      ]
     },
     "execution_count": 48,
     "metadata": {},
     "output_type": "execute_result"
    }
   ],
   "source": [
    "selected_players2 = sort(df[value.(x).==1,:Player])"
   ]
  },
  {
   "cell_type": "markdown",
   "metadata": {},
   "source": [
    "If we compare to the original player list, we see that we have removed Montrezl Harrell (Center) and added Jimmy Butler (Forward)."
   ]
  },
  {
   "cell_type": "code",
   "execution_count": 49,
   "metadata": {
    "scrolled": true
   },
   "outputs": [
    {
     "data": {
      "text/plain": [
       "12-element Vector{String31}:\n",
       " \"Andre Drummond\"\n",
       " \"Anthony Davis\"\n",
       " \"Damian Lillard\"\n",
       " \"Hassan Whiteside\"\n",
       " \"James Harden\"\n",
       " \"Karl-Anthony Towns\"\n",
       " \"Kawhi Leonard\"\n",
       " \"Kevin Durant\"\n",
       " \"LeBron James\"\n",
       " \"Montrezl Harrell\"\n",
       " \"Paul George\"\n",
       " \"Stephen Curry\""
      ]
     },
     "execution_count": 49,
     "metadata": {},
     "output_type": "execute_result"
    }
   ],
   "source": [
    "sort(selected_players)"
   ]
  },
  {
   "cell_type": "markdown",
   "metadata": {},
   "source": [
    "How good is our new model, according to our **objective function**?"
   ]
  },
  {
   "cell_type": "code",
   "execution_count": 50,
   "metadata": {},
   "outputs": [
    {
     "data": {
      "text/plain": [
       "25.28333333333333"
      ]
     },
     "execution_count": 50,
     "metadata": {},
     "output_type": "execute_result"
    }
   ],
   "source": [
    "objective_value(model2)"
   ]
  },
  {
   "cell_type": "code",
   "execution_count": 51,
   "metadata": {},
   "outputs": [
    {
     "data": {
      "text/plain": [
       "25.374999999999996"
      ]
     },
     "execution_count": 51,
     "metadata": {},
     "output_type": "execute_result"
    }
   ],
   "source": [
    "objective_value(model)"
   ]
  },
  {
   "cell_type": "markdown",
   "metadata": {},
   "source": [
    "This is < 0.1 worse than our original solution: even with these new constraints, we haven't lost much."
   ]
  },
  {
   "cell_type": "markdown",
   "metadata": {},
   "source": [
    "### Variations of Our Basic Model\n"
   ]
  },
  {
   "cell_type": "markdown",
   "metadata": {},
   "source": [
    "Before we experiment further, we can put our full model into a **function** that will let us easily modify the model for different objectives and datasets."
   ]
  },
  {
   "cell_type": "code",
   "execution_count": 55,
   "metadata": {},
   "outputs": [
    {
     "data": {
      "text/plain": [
       "create_roster (generic function with 1 method)"
      ]
     },
     "execution_count": 55,
     "metadata": {},
     "output_type": "execute_result"
    }
   ],
   "source": [
    "function create_roster(df, objective_metric)\n",
    "    m = Model(Gurobi.Optimizer)\n",
    "    set_silent(m)\n",
    "    \n",
    "    # Define variables\n",
    "    N = nrow(df)\n",
    "    @variable(m, x[1:N], Bin)\n",
    "    \n",
    "    # Define relevant data columns\n",
    "    c = ifelse.(df[!,:Pos].==\"C\",1,0);\n",
    "    f = ifelse.((df[!,:Pos].==\"PF\").|(df[!,:Pos].==\"SF\"),1,0);\n",
    "    g = ifelse.((df[!,:Pos].==\"PG\").|(df[!,:Pos].==\"SG\"),1,0);\n",
    "    d = df[!,:DBPM];\n",
    "    o = df[!,:Olympics2016];\n",
    "    \n",
    "    # Pull in data for our chosen objective\n",
    "    s = df[!,objective_metric];\n",
    "    \n",
    "    # Objective\n",
    "    @objective(m, Max, 1/12 * sum(x[i]*s[i] for i=1:N))\n",
    "    \n",
    "    # Team size constraint\n",
    "    @constraint(m, sum(x[i] for i=1:N) == 12);\n",
    "    \n",
    "    # Position constraints\n",
    "    @constraint(m, sum(f[i]*x[i] for i=1:N) >= 4);\n",
    "    @constraint(m, sum(c[i]*x[i] for i=1:N) >= 3);\n",
    "    @constraint(m, sum(g[i]*x[i] for i=1:N) >= 4);\n",
    "\n",
    "    # Experience constraint\n",
    "    @constraint(m, sum(o[i]*x[i] for i=1:N) >= 3);\n",
    "\n",
    "    # Defensive ability constraint\n",
    "    @constraint(m, 1/12 * sum(d[i]*x[i] for i=1:N) >= 1);\n",
    "    \n",
    "    optimize!(m)\n",
    "    \n",
    "    players = sort(df[value.(x).>0.99,:Player])\n",
    "    return(objective_value(m), players)\n",
    "end"
   ]
  },
  {
   "cell_type": "markdown",
   "metadata": {},
   "source": [
    "Now, it is easy for us to build models for different objective functions. We simply have to specify our dataset of interest and the column of the metric that we want to maximize."
   ]
  },
  {
   "cell_type": "markdown",
   "metadata": {},
   "source": [
    "#### Alternative Objective Functions\n",
    "\n",
    "We chose to optimize average PER, but we could have chosen other metrics too. How does our team composition change when we use other measures of player performance? Try using our function to experiment with different objectives. Remember: you can write `names(df)` to see all of the available columns."
   ]
  },
  {
   "cell_type": "code",
   "execution_count": 56,
   "metadata": {},
   "outputs": [
    {
     "name": "stdout",
     "output_type": "stream",
     "text": [
      "Set parameter Username\n",
      "Academic license - for non-commercial use only - expires 2025-01-20\n"
     ]
    },
    {
     "data": {
      "text/plain": [
       "(25.28333333333333, String31[\"Andre Drummond\", \"Anthony Davis\", \"Damian Lillard\", \"Hassan Whiteside\", \"James Harden\", \"Jimmy Butler\", \"Karl-Anthony Towns\", \"Kawhi Leonard\", \"Kevin Durant\", \"LeBron James\", \"Paul George\", \"Stephen Curry\"])"
      ]
     },
     "execution_count": 56,
     "metadata": {},
     "output_type": "execute_result"
    }
   ],
   "source": [
    "obj_per, players_per = create_roster(df,:PER)"
   ]
  },
  {
   "cell_type": "code",
   "execution_count": 64,
   "metadata": {},
   "outputs": [
    {
     "name": "stdout",
     "output_type": "stream",
     "text": [
      "Set parameter Username\n",
      "Academic license - for non-commercial use only - expires 2025-01-20\n",
      "Set parameter Username\n",
      "Academic license - for non-commercial use only - expires 2025-01-20\n"
     ]
    },
    {
     "data": {
      "text/plain": [
       "(10.274999999999999, String31[\"Andre Drummond\", \"Anthony Davis\", \"Damian Lillard\", \"Eric Bledsoe\", \"James Harden\", \"Jimmy Butler\", \"Karl-Anthony Towns\", \"Kawhi Leonard\", \"Kevin Durant\", \"Montrezl Harrell\", \"Paul George\", \"Stephen Curry\"])"
      ]
     },
     "execution_count": 64,
     "metadata": {},
     "output_type": "execute_result"
    }
   ],
   "source": [
    "obj_bpm, players_bpm =  create_roster(df,:BPM) # FILL IN HERE using BPM\n",
    "obj_ws48, players_ws48 = create_roster(df,:WS) # FILL IN HERE using WS"
   ]
  },
  {
   "cell_type": "markdown",
   "metadata": {},
   "source": [
    "#### How different is the playoff perspective?  \n",
    "\n",
    "Now let's repeat the model (with the original PER objective), but using data from the past two playoff seasons instead. We're looking at average playoff statistics for all active US-born NBA players."
   ]
  },
  {
   "cell_type": "code",
   "execution_count": 65,
   "metadata": {
    "scrolled": true
   },
   "outputs": [
    {
     "data": {
      "text/html": [
       "<div><div style = \"float: left;\"><span>10×36 DataFrame</span></div><div style = \"clear: both;\"></div></div><div class = \"data-frame\" style = \"overflow-x: scroll;\"><table class = \"data-frame\" style = \"margin-bottom: 6px;\"><thead><tr class = \"header\"><th class = \"rowNumber\" style = \"font-weight: bold; text-align: right;\">Row</th><th style = \"text-align: left;\">ID</th><th style = \"text-align: left;\">Player</th><th style = \"text-align: left;\">Username</th><th style = \"text-align: left;\">From</th><th style = \"text-align: left;\">To</th><th style = \"text-align: left;\">Tm</th><th style = \"text-align: left;\">Lg</th><th style = \"text-align: left;\">WS</th><th style = \"text-align: left;\">G</th><th style = \"text-align: left;\">GS</th><th style = \"text-align: left;\">MP</th><th style = \"text-align: left;\">PER</th><th style = \"text-align: left;\">X3PAr</th><th style = \"text-align: left;\">FTr</th><th style = \"text-align: left;\">ORB.</th><th style = \"text-align: left;\">DRB.</th><th style = \"text-align: left;\">TRB.</th><th style = \"text-align: left;\">AST.</th><th style = \"text-align: left;\">STL.</th><th style = \"text-align: left;\">BLK.</th><th style = \"text-align: left;\">TOV.</th><th style = \"text-align: left;\">USG.</th><th style = \"text-align: left;\">ORtg</th><th style = \"text-align: left;\">DRtg</th><th style = \"text-align: left;\">OWS</th><th style = \"text-align: left;\">DWS</th><th style = \"text-align: left;\">WS_48</th><th style = \"text-align: left;\">OBPM</th><th style = \"text-align: left;\">DBPM</th><th style = \"text-align: left;\">BPM</th><th style = \"text-align: left;\">VORP</th><th style = \"text-align: left;\">Olympics2016</th><th style = \"text-align: left;\">OlympicsFinalist</th><th style = \"text-align: left;\">AllStar</th><th style = \"text-align: left;\">Pos</th><th style = \"text-align: left;\">HighRated</th></tr><tr class = \"subheader headerLastRow\"><th class = \"rowNumber\" style = \"font-weight: bold; text-align: right;\"></th><th title = \"Int64\" style = \"text-align: left;\">Int64</th><th title = \"String31\" style = \"text-align: left;\">String31</th><th title = \"String15\" style = \"text-align: left;\">String15</th><th title = \"Int64\" style = \"text-align: left;\">Int64</th><th title = \"Int64\" style = \"text-align: left;\">Int64</th><th title = \"String3\" style = \"text-align: left;\">String3</th><th title = \"String3\" style = \"text-align: left;\">String3</th><th title = \"Float64\" style = \"text-align: left;\">Float64</th><th title = \"Int64\" style = \"text-align: left;\">Int64</th><th title = \"Int64\" style = \"text-align: left;\">Int64</th><th title = \"Int64\" style = \"text-align: left;\">Int64</th><th title = \"Float64\" style = \"text-align: left;\">Float64</th><th title = \"String7\" style = \"text-align: left;\">String7</th><th title = \"String7\" style = \"text-align: left;\">String7</th><th title = \"Float64\" style = \"text-align: left;\">Float64</th><th title = \"Float64\" style = \"text-align: left;\">Float64</th><th title = \"Float64\" style = \"text-align: left;\">Float64</th><th title = \"Float64\" style = \"text-align: left;\">Float64</th><th title = \"Float64\" style = \"text-align: left;\">Float64</th><th title = \"Float64\" style = \"text-align: left;\">Float64</th><th title = \"String7\" style = \"text-align: left;\">String7</th><th title = \"Float64\" style = \"text-align: left;\">Float64</th><th title = \"String3\" style = \"text-align: left;\">String3</th><th title = \"Int64\" style = \"text-align: left;\">Int64</th><th title = \"Float64\" style = \"text-align: left;\">Float64</th><th title = \"Float64\" style = \"text-align: left;\">Float64</th><th title = \"Float64\" style = \"text-align: left;\">Float64</th><th title = \"Float64\" style = \"text-align: left;\">Float64</th><th title = \"Float64\" style = \"text-align: left;\">Float64</th><th title = \"Float64\" style = \"text-align: left;\">Float64</th><th title = \"Float64\" style = \"text-align: left;\">Float64</th><th title = \"Int64\" style = \"text-align: left;\">Int64</th><th title = \"Int64\" style = \"text-align: left;\">Int64</th><th title = \"Int64\" style = \"text-align: left;\">Int64</th><th title = \"String7\" style = \"text-align: left;\">String7</th><th title = \"Int64\" style = \"text-align: left;\">Int64</th></tr></thead><tbody><tr><td class = \"rowNumber\" style = \"font-weight: bold; text-align: right;\">1</td><td style = \"text-align: right;\">1</td><td style = \"text-align: left;\">LeBron James</td><td style = \"text-align: left;\">jamesle01</td><td style = \"text-align: right;\">2017</td><td style = \"text-align: right;\">2018</td><td style = \"text-align: left;\">CLE</td><td style = \"text-align: left;\">NBA</td><td style = \"text-align: right;\">9.4</td><td style = \"text-align: right;\">40</td><td style = \"text-align: right;\">40</td><td style = \"text-align: right;\">1666</td><td style = \"text-align: right;\">31.3</td><td style = \"text-align: left;\">0.247</td><td style = \"text-align: left;\">0.419</td><td style = \"text-align: right;\">3.6</td><td style = \"text-align: right;\">22.0</td><td style = \"text-align: right;\">12.9</td><td style = \"text-align: right;\">40.8</td><td style = \"text-align: right;\">2.0</td><td style = \"text-align: right;\">2.4</td><td style = \"text-align: left;\">13.6</td><td style = \"text-align: right;\">33.5</td><td style = \"text-align: left;\">123</td><td style = \"text-align: right;\">108</td><td style = \"text-align: right;\">7.4</td><td style = \"text-align: right;\">2.0</td><td style = \"text-align: right;\">0.271</td><td style = \"text-align: right;\">9.6</td><td style = \"text-align: right;\">3.2</td><td style = \"text-align: right;\">12.9</td><td style = \"text-align: right;\">6.3</td><td style = \"text-align: right;\">0</td><td style = \"text-align: right;\">1</td><td style = \"text-align: right;\">1</td><td style = \"text-align: left;\">SF</td><td style = \"text-align: right;\">2</td></tr><tr><td class = \"rowNumber\" style = \"font-weight: bold; text-align: right;\">2</td><td style = \"text-align: right;\">2</td><td style = \"text-align: left;\">Kevin Durant</td><td style = \"text-align: left;\">duranke01</td><td style = \"text-align: right;\">2017</td><td style = \"text-align: right;\">2019</td><td style = \"text-align: left;\">GSW</td><td style = \"text-align: left;\">NBA</td><td style = \"text-align: right;\">9.0</td><td style = \"text-align: right;\">48</td><td style = \"text-align: right;\">48</td><td style = \"text-align: right;\">1782</td><td style = \"text-align: right;\">26.2</td><td style = \"text-align: left;\">0.321</td><td style = \"text-align: left;\">0.389</td><td style = \"text-align: right;\">1.9</td><td style = \"text-align: right;\">18.3</td><td style = \"text-align: right;\">10.5</td><td style = \"text-align: right;\">20.6</td><td style = \"text-align: right;\">1.1</td><td style = \"text-align: right;\">2.8</td><td style = \"text-align: left;\">10.6</td><td style = \"text-align: right;\">30.5</td><td style = \"text-align: left;\">122</td><td style = \"text-align: right;\">106</td><td style = \"text-align: right;\">6.4</td><td style = \"text-align: right;\">2.6</td><td style = \"text-align: right;\">0.242</td><td style = \"text-align: right;\">5.3</td><td style = \"text-align: right;\">1.3</td><td style = \"text-align: right;\">6.6</td><td style = \"text-align: right;\">3.9</td><td style = \"text-align: right;\">1</td><td style = \"text-align: right;\">1</td><td style = \"text-align: right;\">1</td><td style = \"text-align: left;\">SF</td><td style = \"text-align: right;\">3</td></tr><tr><td class = \"rowNumber\" style = \"font-weight: bold; text-align: right;\">3</td><td style = \"text-align: right;\">3</td><td style = \"text-align: left;\">Stephen Curry</td><td style = \"text-align: left;\">curryst01</td><td style = \"text-align: right;\">2017</td><td style = \"text-align: right;\">2019</td><td style = \"text-align: left;\">GSW</td><td style = \"text-align: left;\">NBA</td><td style = \"text-align: right;\">8.8</td><td style = \"text-align: right;\">54</td><td style = \"text-align: right;\">53</td><td style = \"text-align: right;\">2002</td><td style = \"text-align: right;\">23.8</td><td style = \"text-align: left;\">0.552</td><td style = \"text-align: left;\">0.304</td><td style = \"text-align: right;\">2.8</td><td style = \"text-align: right;\">14.9</td><td style = \"text-align: right;\">9.1</td><td style = \"text-align: right;\">25.6</td><td style = \"text-align: right;\">2.0</td><td style = \"text-align: right;\">0.8</td><td style = \"text-align: left;\">12.3</td><td style = \"text-align: right;\">29.5</td><td style = \"text-align: left;\">120</td><td style = \"text-align: right;\">108</td><td style = \"text-align: right;\">6.3</td><td style = \"text-align: right;\">2.5</td><td style = \"text-align: right;\">0.21</td><td style = \"text-align: right;\">6.9</td><td style = \"text-align: right;\">0.6</td><td style = \"text-align: right;\">7.5</td><td style = \"text-align: right;\">4.8</td><td style = \"text-align: right;\">0</td><td style = \"text-align: right;\">1</td><td style = \"text-align: right;\">1</td><td style = \"text-align: left;\">PG</td><td style = \"text-align: right;\">2</td></tr><tr><td class = \"rowNumber\" style = \"font-weight: bold; text-align: right;\">4</td><td style = \"text-align: right;\">4</td><td style = \"text-align: left;\">Kawhi Leonard</td><td style = \"text-align: left;\">leonaka01</td><td style = \"text-align: right;\">2017</td><td style = \"text-align: right;\">2019</td><td style = \"text-align: left;\">TOT</td><td style = \"text-align: left;\">NBA</td><td style = \"text-align: right;\">7.7</td><td style = \"text-align: right;\">36</td><td style = \"text-align: right;\">36</td><td style = \"text-align: right;\">1368</td><td style = \"text-align: right;\">29.0</td><td style = \"text-align: left;\">0.287</td><td style = \"text-align: left;\">0.456</td><td style = \"text-align: right;\">5.9</td><td style = \"text-align: right;\">19.8</td><td style = \"text-align: right;\">12.7</td><td style = \"text-align: right;\">20.2</td><td style = \"text-align: right;\">2.2</td><td style = \"text-align: right;\">1.7</td><td style = \"text-align: left;\">10.7</td><td style = \"text-align: right;\">30.8</td><td style = \"text-align: left;\">124</td><td style = \"text-align: right;\">105</td><td style = \"text-align: right;\">5.5</td><td style = \"text-align: right;\">2.2</td><td style = \"text-align: right;\">0.27</td><td style = \"text-align: right;\">7.2</td><td style = \"text-align: right;\">2.3</td><td style = \"text-align: right;\">9.4</td><td style = \"text-align: right;\">3.9</td><td style = \"text-align: right;\">0</td><td style = \"text-align: right;\">1</td><td style = \"text-align: right;\">1</td><td style = \"text-align: left;\">SF</td><td style = \"text-align: right;\">2</td></tr><tr><td class = \"rowNumber\" style = \"font-weight: bold; text-align: right;\">5</td><td style = \"text-align: right;\">5</td><td style = \"text-align: left;\">Draymond Green</td><td style = \"text-align: left;\">greendr01</td><td style = \"text-align: right;\">2017</td><td style = \"text-align: right;\">2019</td><td style = \"text-align: left;\">GSW</td><td style = \"text-align: left;\">NBA</td><td style = \"text-align: right;\">7.2</td><td style = \"text-align: right;\">60</td><td style = \"text-align: right;\">60</td><td style = \"text-align: right;\">2263</td><td style = \"text-align: right;\">16.8</td><td style = \"text-align: left;\">0.368</td><td style = \"text-align: left;\">0.321</td><td style = \"text-align: right;\">5.3</td><td style = \"text-align: right;\">23.3</td><td style = \"text-align: right;\">14.7</td><td style = \"text-align: right;\">27.9</td><td style = \"text-align: right;\">2.2</td><td style = \"text-align: right;\">3.6</td><td style = \"text-align: left;\">21.5</td><td style = \"text-align: right;\">16.3</td><td style = \"text-align: left;\">113</td><td style = \"text-align: right;\">103</td><td style = \"text-align: right;\">2.9</td><td style = \"text-align: right;\">4.2</td><td style = \"text-align: right;\">0.152</td><td style = \"text-align: right;\">0.9</td><td style = \"text-align: right;\">5.7</td><td style = \"text-align: right;\">6.6</td><td style = \"text-align: right;\">4.9</td><td style = \"text-align: right;\">1</td><td style = \"text-align: right;\">1</td><td style = \"text-align: right;\">0</td><td style = \"text-align: left;\">PF</td><td style = \"text-align: right;\">2</td></tr><tr><td class = \"rowNumber\" style = \"font-weight: bold; text-align: right;\">6</td><td style = \"text-align: right;\">6</td><td style = \"text-align: left;\">James Harden</td><td style = \"text-align: left;\">hardeja01</td><td style = \"text-align: right;\">2017</td><td style = \"text-align: right;\">2019</td><td style = \"text-align: left;\">HOU</td><td style = \"text-align: left;\">NBA</td><td style = \"text-align: right;\">5.1</td><td style = \"text-align: right;\">39</td><td style = \"text-align: right;\">39</td><td style = \"text-align: right;\">1452</td><td style = \"text-align: right;\">24.5</td><td style = \"text-align: left;\">0.491</td><td style = \"text-align: left;\">0.399</td><td style = \"text-align: right;\">2.3</td><td style = \"text-align: right;\">14.7</td><td style = \"text-align: right;\">8.6</td><td style = \"text-align: right;\">36.9</td><td style = \"text-align: right;\">2.9</td><td style = \"text-align: right;\">1.6</td><td style = \"text-align: left;\">14.7</td><td style = \"text-align: right;\">36.4</td><td style = \"text-align: left;\">110</td><td style = \"text-align: right;\">106</td><td style = \"text-align: right;\">3.0</td><td style = \"text-align: right;\">2.1</td><td style = \"text-align: right;\">0.169</td><td style = \"text-align: right;\">6.3</td><td style = \"text-align: right;\">1.7</td><td style = \"text-align: right;\">8.0</td><td style = \"text-align: right;\">3.7</td><td style = \"text-align: right;\">0</td><td style = \"text-align: right;\">1</td><td style = \"text-align: right;\">1</td><td style = \"text-align: left;\">PG</td><td style = \"text-align: right;\">2</td></tr><tr><td class = \"rowNumber\" style = \"font-weight: bold; text-align: right;\">7</td><td style = \"text-align: right;\">7</td><td style = \"text-align: left;\">Kyle Lowry</td><td style = \"text-align: left;\">lowryky01</td><td style = \"text-align: right;\">2017</td><td style = \"text-align: right;\">2019</td><td style = \"text-align: left;\">TOR</td><td style = \"text-align: left;\">NBA</td><td style = \"text-align: right;\">4.7</td><td style = \"text-align: right;\">42</td><td style = \"text-align: right;\">42</td><td style = \"text-align: right;\">1562</td><td style = \"text-align: right;\">16.5</td><td style = \"text-align: left;\">0.503</td><td style = \"text-align: left;\">0.299</td><td style = \"text-align: right;\">1.9</td><td style = \"text-align: right;\">11.8</td><td style = \"text-align: right;\">6.8</td><td style = \"text-align: right;\">29.5</td><td style = \"text-align: right;\">1.9</td><td style = \"text-align: right;\">0.7</td><td style = \"text-align: left;\">15.4</td><td style = \"text-align: right;\">19.1</td><td style = \"text-align: left;\">117</td><td style = \"text-align: right;\">110</td><td style = \"text-align: right;\">3.0</td><td style = \"text-align: right;\">1.6</td><td style = \"text-align: right;\">0.144</td><td style = \"text-align: right;\">2.9</td><td style = \"text-align: right;\">0.7</td><td style = \"text-align: right;\">3.6</td><td style = \"text-align: right;\">2.2</td><td style = \"text-align: right;\">1</td><td style = \"text-align: right;\">1</td><td style = \"text-align: right;\">1</td><td style = \"text-align: left;\">PG</td><td style = \"text-align: right;\">3</td></tr><tr><td class = \"rowNumber\" style = \"font-weight: bold; text-align: right;\">8</td><td style = \"text-align: right;\">8</td><td style = \"text-align: left;\">Chris Paul</td><td style = \"text-align: left;\">paulch01</td><td style = \"text-align: right;\">2017</td><td style = \"text-align: right;\">2019</td><td style = \"text-align: left;\">TOT</td><td style = \"text-align: left;\">NBA</td><td style = \"text-align: right;\">4.5</td><td style = \"text-align: right;\">33</td><td style = \"text-align: right;\">33</td><td style = \"text-align: right;\">1174</td><td style = \"text-align: right;\">22.2</td><td style = \"text-align: left;\">0.37</td><td style = \"text-align: left;\">0.243</td><td style = \"text-align: right;\">2.6</td><td style = \"text-align: right;\">16.3</td><td style = \"text-align: right;\">9.5</td><td style = \"text-align: right;\">33.8</td><td style = \"text-align: right;\">2.8</td><td style = \"text-align: right;\">0.9</td><td style = \"text-align: left;\">12.3</td><td style = \"text-align: right;\">26.3</td><td style = \"text-align: left;\">116</td><td style = \"text-align: right;\">106</td><td style = \"text-align: right;\">2.8</td><td style = \"text-align: right;\">1.7</td><td style = \"text-align: right;\">0.184</td><td style = \"text-align: right;\">4.8</td><td style = \"text-align: right;\">2.2</td><td style = \"text-align: right;\">7.0</td><td style = \"text-align: right;\">2.7</td><td style = \"text-align: right;\">0</td><td style = \"text-align: right;\">1</td><td style = \"text-align: right;\">0</td><td style = \"text-align: left;\">PG</td><td style = \"text-align: right;\">1</td></tr><tr><td class = \"rowNumber\" style = \"font-weight: bold; text-align: right;\">9</td><td style = \"text-align: right;\">9</td><td style = \"text-align: left;\">Andre Iguodala</td><td style = \"text-align: left;\">iguodan01</td><td style = \"text-align: right;\">2017</td><td style = \"text-align: right;\">2019</td><td style = \"text-align: left;\">GSW</td><td style = \"text-align: left;\">NBA</td><td style = \"text-align: right;\">3.8</td><td style = \"text-align: right;\">52</td><td style = \"text-align: right;\">27</td><td style = \"text-align: right;\">1449</td><td style = \"text-align: right;\">13.7</td><td style = \"text-align: left;\">0.452</td><td style = \"text-align: left;\">0.276</td><td style = \"text-align: right;\">3.8</td><td style = \"text-align: right;\">12.9</td><td style = \"text-align: right;\">8.6</td><td style = \"text-align: right;\">16.2</td><td style = \"text-align: right;\">2.0</td><td style = \"text-align: right;\">2.4</td><td style = \"text-align: left;\">11.4</td><td style = \"text-align: right;\">13.4</td><td style = \"text-align: left;\">117</td><td style = \"text-align: right;\">108</td><td style = \"text-align: right;\">2.0</td><td style = \"text-align: right;\">1.9</td><td style = \"text-align: right;\">0.127</td><td style = \"text-align: right;\">0.8</td><td style = \"text-align: right;\">2.9</td><td style = \"text-align: right;\">3.6</td><td style = \"text-align: right;\">2.1</td><td style = \"text-align: right;\">0</td><td style = \"text-align: right;\">0</td><td style = \"text-align: right;\">0</td><td style = \"text-align: left;\">SF</td><td style = \"text-align: right;\">0</td></tr><tr><td class = \"rowNumber\" style = \"font-weight: bold; text-align: right;\">10</td><td style = \"text-align: right;\">10</td><td style = \"text-align: left;\">Klay Thompson</td><td style = \"text-align: left;\">thompkl01</td><td style = \"text-align: right;\">2017</td><td style = \"text-align: right;\">2019</td><td style = \"text-align: left;\">GSW</td><td style = \"text-align: left;\">NBA</td><td style = \"text-align: right;\">3.6</td><td style = \"text-align: right;\">59</td><td style = \"text-align: right;\">59</td><td style = \"text-align: right;\">2208</td><td style = \"text-align: right;\">12.9</td><td style = \"text-align: left;\">0.448</td><td style = \"text-align: left;\">0.112</td><td style = \"text-align: right;\">1.8</td><td style = \"text-align: right;\">9.8</td><td style = \"text-align: right;\">6.0</td><td style = \"text-align: right;\">7.9</td><td style = \"text-align: right;\">1.3</td><td style = \"text-align: right;\">1.1</td><td style = \"text-align: left;\">8.6</td><td style = \"text-align: right;\">21.4</td><td style = \"text-align: left;\">107</td><td style = \"text-align: right;\">111</td><td style = \"text-align: right;\">1.5</td><td style = \"text-align: right;\">2.1</td><td style = \"text-align: right;\">0.078</td><td style = \"text-align: right;\">0.3</td><td style = \"text-align: right;\">-0.2</td><td style = \"text-align: right;\">0.1</td><td style = \"text-align: right;\">1.2</td><td style = \"text-align: right;\">1</td><td style = \"text-align: right;\">1</td><td style = \"text-align: right;\">1</td><td style = \"text-align: left;\">SG</td><td style = \"text-align: right;\">3</td></tr></tbody></table></div>"
      ],
      "text/latex": [
       "\\begin{tabular}{r|cccccccccc}\n",
       "\t& ID & Player & Username & From & To & Tm & Lg & WS & G & \\\\\n",
       "\t\\hline\n",
       "\t& Int64 & String31 & String15 & Int64 & Int64 & String3 & String3 & Float64 & Int64 & \\\\\n",
       "\t\\hline\n",
       "\t1 & 1 & LeBron James & jamesle01 & 2017 & 2018 & CLE & NBA & 9.4 & 40 & $\\dots$ \\\\\n",
       "\t2 & 2 & Kevin Durant & duranke01 & 2017 & 2019 & GSW & NBA & 9.0 & 48 & $\\dots$ \\\\\n",
       "\t3 & 3 & Stephen Curry & curryst01 & 2017 & 2019 & GSW & NBA & 8.8 & 54 & $\\dots$ \\\\\n",
       "\t4 & 4 & Kawhi Leonard & leonaka01 & 2017 & 2019 & TOT & NBA & 7.7 & 36 & $\\dots$ \\\\\n",
       "\t5 & 5 & Draymond Green & greendr01 & 2017 & 2019 & GSW & NBA & 7.2 & 60 & $\\dots$ \\\\\n",
       "\t6 & 6 & James Harden & hardeja01 & 2017 & 2019 & HOU & NBA & 5.1 & 39 & $\\dots$ \\\\\n",
       "\t7 & 7 & Kyle Lowry & lowryky01 & 2017 & 2019 & TOR & NBA & 4.7 & 42 & $\\dots$ \\\\\n",
       "\t8 & 8 & Chris Paul & paulch01 & 2017 & 2019 & TOT & NBA & 4.5 & 33 & $\\dots$ \\\\\n",
       "\t9 & 9 & Andre Iguodala & iguodan01 & 2017 & 2019 & GSW & NBA & 3.8 & 52 & $\\dots$ \\\\\n",
       "\t10 & 10 & Klay Thompson & thompkl01 & 2017 & 2019 & GSW & NBA & 3.6 & 59 & $\\dots$ \\\\\n",
       "\\end{tabular}\n"
      ],
      "text/plain": [
       "\u001b[1m10×36 DataFrame\u001b[0m\n",
       "\u001b[1m Row \u001b[0m│\u001b[1m ID    \u001b[0m\u001b[1m Player         \u001b[0m\u001b[1m Username  \u001b[0m\u001b[1m From  \u001b[0m\u001b[1m To    \u001b[0m\u001b[1m Tm      \u001b[0m\u001b[1m Lg      \u001b[0m\u001b[1m WS   \u001b[0m ⋯\n",
       "     │\u001b[90m Int64 \u001b[0m\u001b[90m String31       \u001b[0m\u001b[90m String15  \u001b[0m\u001b[90m Int64 \u001b[0m\u001b[90m Int64 \u001b[0m\u001b[90m String3 \u001b[0m\u001b[90m String3 \u001b[0m\u001b[90m Float\u001b[0m ⋯\n",
       "─────┼──────────────────────────────────────────────────────────────────────────\n",
       "   1 │     1  LeBron James    jamesle01   2017   2018  CLE      NBA          9 ⋯\n",
       "   2 │     2  Kevin Durant    duranke01   2017   2019  GSW      NBA          9\n",
       "   3 │     3  Stephen Curry   curryst01   2017   2019  GSW      NBA          8\n",
       "   4 │     4  Kawhi Leonard   leonaka01   2017   2019  TOT      NBA          7\n",
       "   5 │     5  Draymond Green  greendr01   2017   2019  GSW      NBA          7 ⋯\n",
       "   6 │     6  James Harden    hardeja01   2017   2019  HOU      NBA          5\n",
       "   7 │     7  Kyle Lowry      lowryky01   2017   2019  TOR      NBA          4\n",
       "   8 │     8  Chris Paul      paulch01    2017   2019  TOT      NBA          4\n",
       "   9 │     9  Andre Iguodala  iguodan01   2017   2019  GSW      NBA          3 ⋯\n",
       "  10 │    10  Klay Thompson   thompkl01   2017   2019  GSW      NBA          3\n",
       "\u001b[36m                                                              29 columns omitted\u001b[0m"
      ]
     },
     "execution_count": 65,
     "metadata": {},
     "output_type": "execute_result"
    }
   ],
   "source": [
    "df_playoffs = CSV.read(\"data/NBA_data_playoffs_2017_2019.csv\", DataFrame);\n",
    "first(df_playoffs,10)"
   ]
  },
  {
   "cell_type": "markdown",
   "metadata": {},
   "source": [
    "We can leverage the same function, but now we want to speficy a new dataset, **df_playoffs**, rather than the original dataset **df**."
   ]
  },
  {
   "cell_type": "code",
   "execution_count": 66,
   "metadata": {},
   "outputs": [
    {
     "name": "stdout",
     "output_type": "stream",
     "text": [
      "Set parameter Username\n",
      "Academic license - for non-commercial use only - expires 2025-01-20\n"
     ]
    },
    {
     "data": {
      "text/plain": [
       "(30.866666666666667, String31[\"Anthony Davis\", \"Chris Paul\", \"Draymond Green\", \"JaVale McGee\", \"James Harden\", \"Jimmy Butler\", \"Kawhi Leonard\", \"Kevin Durant\", \"Larry Nance\", \"LeBron James\", \"Malcolm Delaney\", \"Stephen Curry\"])"
      ]
     },
     "execution_count": 66,
     "metadata": {},
     "output_type": "execute_result"
    }
   ],
   "source": [
    "obj_playoff, players_playoff = create_roster(df_playoffs,:PER)"
   ]
  },
  {
   "cell_type": "markdown",
   "metadata": {},
   "source": [
    "We can create a table to compare how much these different lists overlap. We'll do this using the `join` function, which is similar to SQL syntax."
   ]
  },
  {
   "cell_type": "code",
   "execution_count": 67,
   "metadata": {
    "scrolled": true
   },
   "outputs": [
    {
     "data": {
      "text/html": [
       "<div><div style = \"float: left;\"><span>21×5 DataFrame</span></div><div style = \"clear: both;\"></div></div><div class = \"data-frame\" style = \"overflow-x: scroll;\"><table class = \"data-frame\" style = \"margin-bottom: 6px;\"><thead><tr class = \"header\"><th class = \"rowNumber\" style = \"font-weight: bold; text-align: right;\">Row</th><th style = \"text-align: left;\">Player</th><th style = \"text-align: left;\">PER</th><th style = \"text-align: left;\">BPM</th><th style = \"text-align: left;\">WS_48</th><th style = \"text-align: left;\">PER_PLAYOFF</th></tr><tr class = \"subheader headerLastRow\"><th class = \"rowNumber\" style = \"font-weight: bold; text-align: right;\"></th><th title = \"String31\" style = \"text-align: left;\">String31</th><th title = \"Union{Missing, Int64}\" style = \"text-align: left;\">Int64?</th><th title = \"Union{Missing, Int64}\" style = \"text-align: left;\">Int64?</th><th title = \"Union{Missing, Int64}\" style = \"text-align: left;\">Int64?</th><th title = \"Union{Missing, Int64}\" style = \"text-align: left;\">Int64?</th></tr></thead><tbody><tr><td class = \"rowNumber\" style = \"font-weight: bold; text-align: right;\">1</td><td style = \"text-align: left;\">Andre Drummond</td><td style = \"text-align: right;\">1</td><td style = \"font-style: italic; text-align: right;\">missing</td><td style = \"text-align: right;\">1</td><td style = \"font-style: italic; text-align: right;\">missing</td></tr><tr><td class = \"rowNumber\" style = \"font-weight: bold; text-align: right;\">2</td><td style = \"text-align: left;\">Anthony Davis</td><td style = \"text-align: right;\">1</td><td style = \"text-align: right;\">1</td><td style = \"text-align: right;\">1</td><td style = \"text-align: right;\">1</td></tr><tr><td class = \"rowNumber\" style = \"font-weight: bold; text-align: right;\">3</td><td style = \"text-align: left;\">Chris Paul</td><td style = \"font-style: italic; text-align: right;\">missing</td><td style = \"font-style: italic; text-align: right;\">missing</td><td style = \"font-style: italic; text-align: right;\">missing</td><td style = \"text-align: right;\">1</td></tr><tr><td class = \"rowNumber\" style = \"font-weight: bold; text-align: right;\">4</td><td style = \"text-align: left;\">Damian Lillard</td><td style = \"text-align: right;\">1</td><td style = \"text-align: right;\">1</td><td style = \"text-align: right;\">1</td><td style = \"font-style: italic; text-align: right;\">missing</td></tr><tr><td class = \"rowNumber\" style = \"font-weight: bold; text-align: right;\">5</td><td style = \"text-align: left;\">Draymond Green</td><td style = \"font-style: italic; text-align: right;\">missing</td><td style = \"font-style: italic; text-align: right;\">missing</td><td style = \"font-style: italic; text-align: right;\">missing</td><td style = \"text-align: right;\">1</td></tr><tr><td class = \"rowNumber\" style = \"font-weight: bold; text-align: right;\">6</td><td style = \"text-align: left;\">Eric Bledsoe</td><td style = \"font-style: italic; text-align: right;\">missing</td><td style = \"font-style: italic; text-align: right;\">missing</td><td style = \"text-align: right;\">1</td><td style = \"font-style: italic; text-align: right;\">missing</td></tr><tr><td class = \"rowNumber\" style = \"font-weight: bold; text-align: right;\">7</td><td style = \"text-align: left;\">Hassan Whiteside</td><td style = \"text-align: right;\">1</td><td style = \"font-style: italic; text-align: right;\">missing</td><td style = \"font-style: italic; text-align: right;\">missing</td><td style = \"font-style: italic; text-align: right;\">missing</td></tr><tr><td class = \"rowNumber\" style = \"font-weight: bold; text-align: right;\">8</td><td style = \"text-align: left;\">JaVale McGee</td><td style = \"font-style: italic; text-align: right;\">missing</td><td style = \"font-style: italic; text-align: right;\">missing</td><td style = \"font-style: italic; text-align: right;\">missing</td><td style = \"text-align: right;\">1</td></tr><tr><td class = \"rowNumber\" style = \"font-weight: bold; text-align: right;\">9</td><td style = \"text-align: left;\">James Harden</td><td style = \"text-align: right;\">1</td><td style = \"text-align: right;\">1</td><td style = \"text-align: right;\">1</td><td style = \"text-align: right;\">1</td></tr><tr><td class = \"rowNumber\" style = \"font-weight: bold; text-align: right;\">10</td><td style = \"text-align: left;\">Jimmy Butler</td><td style = \"text-align: right;\">1</td><td style = \"text-align: right;\">1</td><td style = \"text-align: right;\">1</td><td style = \"text-align: right;\">1</td></tr><tr><td class = \"rowNumber\" style = \"font-weight: bold; text-align: right;\">11</td><td style = \"text-align: left;\">Karl-Anthony Towns</td><td style = \"text-align: right;\">1</td><td style = \"text-align: right;\">1</td><td style = \"text-align: right;\">1</td><td style = \"font-style: italic; text-align: right;\">missing</td></tr><tr><td class = \"rowNumber\" style = \"font-weight: bold; text-align: right;\">12</td><td style = \"text-align: left;\">Kawhi Leonard</td><td style = \"text-align: right;\">1</td><td style = \"text-align: right;\">1</td><td style = \"text-align: right;\">1</td><td style = \"text-align: right;\">1</td></tr><tr><td class = \"rowNumber\" style = \"font-weight: bold; text-align: right;\">13</td><td style = \"text-align: left;\">Kevin Durant</td><td style = \"text-align: right;\">1</td><td style = \"text-align: right;\">1</td><td style = \"text-align: right;\">1</td><td style = \"text-align: right;\">1</td></tr><tr><td class = \"rowNumber\" style = \"font-weight: bold; text-align: right;\">14</td><td style = \"text-align: left;\">Larry Nance</td><td style = \"font-style: italic; text-align: right;\">missing</td><td style = \"font-style: italic; text-align: right;\">missing</td><td style = \"font-style: italic; text-align: right;\">missing</td><td style = \"text-align: right;\">1</td></tr><tr><td class = \"rowNumber\" style = \"font-weight: bold; text-align: right;\">15</td><td style = \"text-align: left;\">LeBron James</td><td style = \"text-align: right;\">1</td><td style = \"text-align: right;\">1</td><td style = \"font-style: italic; text-align: right;\">missing</td><td style = \"text-align: right;\">1</td></tr><tr><td class = \"rowNumber\" style = \"font-weight: bold; text-align: right;\">16</td><td style = \"text-align: left;\">Malcolm Delaney</td><td style = \"font-style: italic; text-align: right;\">missing</td><td style = \"font-style: italic; text-align: right;\">missing</td><td style = \"font-style: italic; text-align: right;\">missing</td><td style = \"text-align: right;\">1</td></tr><tr><td class = \"rowNumber\" style = \"font-weight: bold; text-align: right;\">17</td><td style = \"text-align: left;\">Mitchell Robinson</td><td style = \"font-style: italic; text-align: right;\">missing</td><td style = \"text-align: right;\">1</td><td style = \"font-style: italic; text-align: right;\">missing</td><td style = \"font-style: italic; text-align: right;\">missing</td></tr><tr><td class = \"rowNumber\" style = \"font-weight: bold; text-align: right;\">18</td><td style = \"text-align: left;\">Montrezl Harrell</td><td style = \"font-style: italic; text-align: right;\">missing</td><td style = \"font-style: italic; text-align: right;\">missing</td><td style = \"text-align: right;\">1</td><td style = \"font-style: italic; text-align: right;\">missing</td></tr><tr><td class = \"rowNumber\" style = \"font-weight: bold; text-align: right;\">19</td><td style = \"text-align: left;\">Paul George</td><td style = \"text-align: right;\">1</td><td style = \"text-align: right;\">1</td><td style = \"text-align: right;\">1</td><td style = \"font-style: italic; text-align: right;\">missing</td></tr><tr><td class = \"rowNumber\" style = \"font-weight: bold; text-align: right;\">20</td><td style = \"text-align: left;\">Russell Westbrook</td><td style = \"font-style: italic; text-align: right;\">missing</td><td style = \"text-align: right;\">1</td><td style = \"font-style: italic; text-align: right;\">missing</td><td style = \"font-style: italic; text-align: right;\">missing</td></tr><tr><td class = \"rowNumber\" style = \"font-weight: bold; text-align: right;\">21</td><td style = \"text-align: left;\">Stephen Curry</td><td style = \"text-align: right;\">1</td><td style = \"text-align: right;\">1</td><td style = \"text-align: right;\">1</td><td style = \"text-align: right;\">1</td></tr></tbody></table></div>"
      ],
      "text/latex": [
       "\\begin{tabular}{r|ccccc}\n",
       "\t& Player & PER & BPM & WS\\_48 & PER\\_PLAYOFF\\\\\n",
       "\t\\hline\n",
       "\t& String31 & Int64? & Int64? & Int64? & Int64?\\\\\n",
       "\t\\hline\n",
       "\t1 & Andre Drummond & 1 & \\emph{missing} & 1 & \\emph{missing} \\\\\n",
       "\t2 & Anthony Davis & 1 & 1 & 1 & 1 \\\\\n",
       "\t3 & Chris Paul & \\emph{missing} & \\emph{missing} & \\emph{missing} & 1 \\\\\n",
       "\t4 & Damian Lillard & 1 & 1 & 1 & \\emph{missing} \\\\\n",
       "\t5 & Draymond Green & \\emph{missing} & \\emph{missing} & \\emph{missing} & 1 \\\\\n",
       "\t6 & Eric Bledsoe & \\emph{missing} & \\emph{missing} & 1 & \\emph{missing} \\\\\n",
       "\t7 & Hassan Whiteside & 1 & \\emph{missing} & \\emph{missing} & \\emph{missing} \\\\\n",
       "\t8 & JaVale McGee & \\emph{missing} & \\emph{missing} & \\emph{missing} & 1 \\\\\n",
       "\t9 & James Harden & 1 & 1 & 1 & 1 \\\\\n",
       "\t10 & Jimmy Butler & 1 & 1 & 1 & 1 \\\\\n",
       "\t11 & Karl-Anthony Towns & 1 & 1 & 1 & \\emph{missing} \\\\\n",
       "\t12 & Kawhi Leonard & 1 & 1 & 1 & 1 \\\\\n",
       "\t13 & Kevin Durant & 1 & 1 & 1 & 1 \\\\\n",
       "\t14 & Larry Nance & \\emph{missing} & \\emph{missing} & \\emph{missing} & 1 \\\\\n",
       "\t15 & LeBron James & 1 & 1 & \\emph{missing} & 1 \\\\\n",
       "\t16 & Malcolm Delaney & \\emph{missing} & \\emph{missing} & \\emph{missing} & 1 \\\\\n",
       "\t17 & Mitchell Robinson & \\emph{missing} & 1 & \\emph{missing} & \\emph{missing} \\\\\n",
       "\t18 & Montrezl Harrell & \\emph{missing} & \\emph{missing} & 1 & \\emph{missing} \\\\\n",
       "\t19 & Paul George & 1 & 1 & 1 & \\emph{missing} \\\\\n",
       "\t20 & Russell Westbrook & \\emph{missing} & 1 & \\emph{missing} & \\emph{missing} \\\\\n",
       "\t21 & Stephen Curry & 1 & 1 & 1 & 1 \\\\\n",
       "\\end{tabular}\n"
      ],
      "text/plain": [
       "\u001b[1m21×5 DataFrame\u001b[0m\n",
       "\u001b[1m Row \u001b[0m│\u001b[1m Player             \u001b[0m\u001b[1m PER     \u001b[0m\u001b[1m BPM     \u001b[0m\u001b[1m WS_48   \u001b[0m\u001b[1m PER_PLAYOFF \u001b[0m\n",
       "     │\u001b[90m String31           \u001b[0m\u001b[90m Int64?  \u001b[0m\u001b[90m Int64?  \u001b[0m\u001b[90m Int64?  \u001b[0m\u001b[90m Int64?      \u001b[0m\n",
       "─────┼────────────────────────────────────────────────────────────\n",
       "   1 │ Andre Drummond            1 \u001b[90m missing \u001b[0m       1 \u001b[90m     missing \u001b[0m\n",
       "   2 │ Anthony Davis             1        1        1            1\n",
       "   3 │ Chris Paul         \u001b[90m missing \u001b[0m\u001b[90m missing \u001b[0m\u001b[90m missing \u001b[0m           1\n",
       "   4 │ Damian Lillard            1        1        1 \u001b[90m     missing \u001b[0m\n",
       "   5 │ Draymond Green     \u001b[90m missing \u001b[0m\u001b[90m missing \u001b[0m\u001b[90m missing \u001b[0m           1\n",
       "   6 │ Eric Bledsoe       \u001b[90m missing \u001b[0m\u001b[90m missing \u001b[0m       1 \u001b[90m     missing \u001b[0m\n",
       "   7 │ Hassan Whiteside          1 \u001b[90m missing \u001b[0m\u001b[90m missing \u001b[0m\u001b[90m     missing \u001b[0m\n",
       "   8 │ JaVale McGee       \u001b[90m missing \u001b[0m\u001b[90m missing \u001b[0m\u001b[90m missing \u001b[0m           1\n",
       "   9 │ James Harden              1        1        1            1\n",
       "  10 │ Jimmy Butler              1        1        1            1\n",
       "  11 │ Karl-Anthony Towns        1        1        1 \u001b[90m     missing \u001b[0m\n",
       "  12 │ Kawhi Leonard             1        1        1            1\n",
       "  13 │ Kevin Durant              1        1        1            1\n",
       "  14 │ Larry Nance        \u001b[90m missing \u001b[0m\u001b[90m missing \u001b[0m\u001b[90m missing \u001b[0m           1\n",
       "  15 │ LeBron James              1        1 \u001b[90m missing \u001b[0m           1\n",
       "  16 │ Malcolm Delaney    \u001b[90m missing \u001b[0m\u001b[90m missing \u001b[0m\u001b[90m missing \u001b[0m           1\n",
       "  17 │ Mitchell Robinson  \u001b[90m missing \u001b[0m       1 \u001b[90m missing \u001b[0m\u001b[90m     missing \u001b[0m\n",
       "  18 │ Montrezl Harrell   \u001b[90m missing \u001b[0m\u001b[90m missing \u001b[0m       1 \u001b[90m     missing \u001b[0m\n",
       "  19 │ Paul George               1        1        1 \u001b[90m     missing \u001b[0m\n",
       "  20 │ Russell Westbrook  \u001b[90m missing \u001b[0m       1 \u001b[90m missing \u001b[0m\u001b[90m     missing \u001b[0m\n",
       "  21 │ Stephen Curry             1        1        1            1"
      ]
     },
     "execution_count": 67,
     "metadata": {},
     "output_type": "execute_result"
    }
   ],
   "source": [
    "player_compare = outerjoin(\n",
    "    DataFrame(Player = players_per, PER = 1), \n",
    "    DataFrame(Player = players_bpm, BPM = 1),\n",
    "    DataFrame(Player = players_ws48, WS_48 = 1), \n",
    "    DataFrame(Player = players_playoff, PER_PLAYOFF = 1),\n",
    "    on = :Player)\n",
    "\n",
    "sort(player_compare)"
   ]
  },
  {
   "cell_type": "markdown",
   "metadata": {},
   "source": [
    "Finally, we can also add a column comparing our lists to the true list of Olympic Finalists for 2020.   "
   ]
  },
  {
   "cell_type": "code",
   "execution_count": 68,
   "metadata": {},
   "outputs": [
    {
     "data": {
      "text/html": [
       "<div><div style = \"float: left;\"><span>21×6 DataFrame</span></div><div style = \"clear: both;\"></div></div><div class = \"data-frame\" style = \"overflow-x: scroll;\"><table class = \"data-frame\" style = \"margin-bottom: 6px;\"><thead><tr class = \"header\"><th class = \"rowNumber\" style = \"font-weight: bold; text-align: right;\">Row</th><th style = \"text-align: left;\">Player</th><th style = \"text-align: left;\">PER</th><th style = \"text-align: left;\">BPM</th><th style = \"text-align: left;\">WS_48</th><th style = \"text-align: left;\">PER_PLAYOFF</th><th style = \"text-align: left;\">OlympicsFinalist</th></tr><tr class = \"subheader headerLastRow\"><th class = \"rowNumber\" style = \"font-weight: bold; text-align: right;\"></th><th title = \"String31\" style = \"text-align: left;\">String31</th><th title = \"Union{Missing, Int64}\" style = \"text-align: left;\">Int64?</th><th title = \"Union{Missing, Int64}\" style = \"text-align: left;\">Int64?</th><th title = \"Union{Missing, Int64}\" style = \"text-align: left;\">Int64?</th><th title = \"Union{Missing, Int64}\" style = \"text-align: left;\">Int64?</th><th title = \"Union{Missing, Int64}\" style = \"text-align: left;\">Int64?</th></tr></thead><tbody><tr><td class = \"rowNumber\" style = \"font-weight: bold; text-align: right;\">1</td><td style = \"text-align: left;\">Andre Drummond</td><td style = \"text-align: right;\">1</td><td style = \"font-style: italic; text-align: right;\">missing</td><td style = \"text-align: right;\">1</td><td style = \"font-style: italic; text-align: right;\">missing</td><td style = \"text-align: right;\">1</td></tr><tr><td class = \"rowNumber\" style = \"font-weight: bold; text-align: right;\">2</td><td style = \"text-align: left;\">Anthony Davis</td><td style = \"text-align: right;\">1</td><td style = \"text-align: right;\">1</td><td style = \"text-align: right;\">1</td><td style = \"text-align: right;\">1</td><td style = \"text-align: right;\">1</td></tr><tr><td class = \"rowNumber\" style = \"font-weight: bold; text-align: right;\">3</td><td style = \"text-align: left;\">Chris Paul</td><td style = \"font-style: italic; text-align: right;\">missing</td><td style = \"font-style: italic; text-align: right;\">missing</td><td style = \"font-style: italic; text-align: right;\">missing</td><td style = \"text-align: right;\">1</td><td style = \"text-align: right;\">1</td></tr><tr><td class = \"rowNumber\" style = \"font-weight: bold; text-align: right;\">4</td><td style = \"text-align: left;\">Damian Lillard</td><td style = \"text-align: right;\">1</td><td style = \"text-align: right;\">1</td><td style = \"text-align: right;\">1</td><td style = \"font-style: italic; text-align: right;\">missing</td><td style = \"text-align: right;\">1</td></tr><tr><td class = \"rowNumber\" style = \"font-weight: bold; text-align: right;\">5</td><td style = \"text-align: left;\">Draymond Green</td><td style = \"font-style: italic; text-align: right;\">missing</td><td style = \"font-style: italic; text-align: right;\">missing</td><td style = \"font-style: italic; text-align: right;\">missing</td><td style = \"text-align: right;\">1</td><td style = \"text-align: right;\">1</td></tr><tr><td class = \"rowNumber\" style = \"font-weight: bold; text-align: right;\">6</td><td style = \"text-align: left;\">Eric Bledsoe</td><td style = \"font-style: italic; text-align: right;\">missing</td><td style = \"font-style: italic; text-align: right;\">missing</td><td style = \"text-align: right;\">1</td><td style = \"font-style: italic; text-align: right;\">missing</td><td style = \"font-style: italic; text-align: right;\">missing</td></tr><tr><td class = \"rowNumber\" style = \"font-weight: bold; text-align: right;\">7</td><td style = \"text-align: left;\">Hassan Whiteside</td><td style = \"text-align: right;\">1</td><td style = \"font-style: italic; text-align: right;\">missing</td><td style = \"font-style: italic; text-align: right;\">missing</td><td style = \"font-style: italic; text-align: right;\">missing</td><td style = \"font-style: italic; text-align: right;\">missing</td></tr><tr><td class = \"rowNumber\" style = \"font-weight: bold; text-align: right;\">8</td><td style = \"text-align: left;\">JaVale McGee</td><td style = \"font-style: italic; text-align: right;\">missing</td><td style = \"font-style: italic; text-align: right;\">missing</td><td style = \"font-style: italic; text-align: right;\">missing</td><td style = \"text-align: right;\">1</td><td style = \"text-align: right;\">1</td></tr><tr><td class = \"rowNumber\" style = \"font-weight: bold; text-align: right;\">9</td><td style = \"text-align: left;\">James Harden</td><td style = \"text-align: right;\">1</td><td style = \"text-align: right;\">1</td><td style = \"text-align: right;\">1</td><td style = \"text-align: right;\">1</td><td style = \"text-align: right;\">1</td></tr><tr><td class = \"rowNumber\" style = \"font-weight: bold; text-align: right;\">10</td><td style = \"text-align: left;\">Jimmy Butler</td><td style = \"text-align: right;\">1</td><td style = \"text-align: right;\">1</td><td style = \"text-align: right;\">1</td><td style = \"text-align: right;\">1</td><td style = \"text-align: right;\">1</td></tr><tr><td class = \"rowNumber\" style = \"font-weight: bold; text-align: right;\">11</td><td style = \"text-align: left;\">Karl-Anthony Towns</td><td style = \"text-align: right;\">1</td><td style = \"text-align: right;\">1</td><td style = \"text-align: right;\">1</td><td style = \"font-style: italic; text-align: right;\">missing</td><td style = \"font-style: italic; text-align: right;\">missing</td></tr><tr><td class = \"rowNumber\" style = \"font-weight: bold; text-align: right;\">12</td><td style = \"text-align: left;\">Kawhi Leonard</td><td style = \"text-align: right;\">1</td><td style = \"text-align: right;\">1</td><td style = \"text-align: right;\">1</td><td style = \"text-align: right;\">1</td><td style = \"text-align: right;\">1</td></tr><tr><td class = \"rowNumber\" style = \"font-weight: bold; text-align: right;\">13</td><td style = \"text-align: left;\">Kevin Durant</td><td style = \"text-align: right;\">1</td><td style = \"text-align: right;\">1</td><td style = \"text-align: right;\">1</td><td style = \"text-align: right;\">1</td><td style = \"text-align: right;\">1</td></tr><tr><td class = \"rowNumber\" style = \"font-weight: bold; text-align: right;\">14</td><td style = \"text-align: left;\">Larry Nance</td><td style = \"font-style: italic; text-align: right;\">missing</td><td style = \"font-style: italic; text-align: right;\">missing</td><td style = \"font-style: italic; text-align: right;\">missing</td><td style = \"text-align: right;\">1</td><td style = \"font-style: italic; text-align: right;\">missing</td></tr><tr><td class = \"rowNumber\" style = \"font-weight: bold; text-align: right;\">15</td><td style = \"text-align: left;\">LeBron James</td><td style = \"text-align: right;\">1</td><td style = \"text-align: right;\">1</td><td style = \"font-style: italic; text-align: right;\">missing</td><td style = \"text-align: right;\">1</td><td style = \"text-align: right;\">1</td></tr><tr><td class = \"rowNumber\" style = \"font-weight: bold; text-align: right;\">16</td><td style = \"text-align: left;\">Malcolm Delaney</td><td style = \"font-style: italic; text-align: right;\">missing</td><td style = \"font-style: italic; text-align: right;\">missing</td><td style = \"font-style: italic; text-align: right;\">missing</td><td style = \"text-align: right;\">1</td><td style = \"font-style: italic; text-align: right;\">missing</td></tr><tr><td class = \"rowNumber\" style = \"font-weight: bold; text-align: right;\">17</td><td style = \"text-align: left;\">Mitchell Robinson</td><td style = \"font-style: italic; text-align: right;\">missing</td><td style = \"text-align: right;\">1</td><td style = \"font-style: italic; text-align: right;\">missing</td><td style = \"font-style: italic; text-align: right;\">missing</td><td style = \"font-style: italic; text-align: right;\">missing</td></tr><tr><td class = \"rowNumber\" style = \"font-weight: bold; text-align: right;\">18</td><td style = \"text-align: left;\">Montrezl Harrell</td><td style = \"font-style: italic; text-align: right;\">missing</td><td style = \"font-style: italic; text-align: right;\">missing</td><td style = \"text-align: right;\">1</td><td style = \"font-style: italic; text-align: right;\">missing</td><td style = \"text-align: right;\">1</td></tr><tr><td class = \"rowNumber\" style = \"font-weight: bold; text-align: right;\">19</td><td style = \"text-align: left;\">Paul George</td><td style = \"text-align: right;\">1</td><td style = \"text-align: right;\">1</td><td style = \"text-align: right;\">1</td><td style = \"font-style: italic; text-align: right;\">missing</td><td style = \"text-align: right;\">1</td></tr><tr><td class = \"rowNumber\" style = \"font-weight: bold; text-align: right;\">20</td><td style = \"text-align: left;\">Russell Westbrook</td><td style = \"font-style: italic; text-align: right;\">missing</td><td style = \"text-align: right;\">1</td><td style = \"font-style: italic; text-align: right;\">missing</td><td style = \"font-style: italic; text-align: right;\">missing</td><td style = \"text-align: right;\">1</td></tr><tr><td class = \"rowNumber\" style = \"font-weight: bold; text-align: right;\">21</td><td style = \"text-align: left;\">Stephen Curry</td><td style = \"text-align: right;\">1</td><td style = \"text-align: right;\">1</td><td style = \"text-align: right;\">1</td><td style = \"text-align: right;\">1</td><td style = \"text-align: right;\">1</td></tr></tbody></table></div>"
      ],
      "text/latex": [
       "\\begin{tabular}{r|cccccc}\n",
       "\t& Player & PER & BPM & WS\\_48 & PER\\_PLAYOFF & OlympicsFinalist\\\\\n",
       "\t\\hline\n",
       "\t& String31 & Int64? & Int64? & Int64? & Int64? & Int64?\\\\\n",
       "\t\\hline\n",
       "\t1 & Andre Drummond & 1 & \\emph{missing} & 1 & \\emph{missing} & 1 \\\\\n",
       "\t2 & Anthony Davis & 1 & 1 & 1 & 1 & 1 \\\\\n",
       "\t3 & Chris Paul & \\emph{missing} & \\emph{missing} & \\emph{missing} & 1 & 1 \\\\\n",
       "\t4 & Damian Lillard & 1 & 1 & 1 & \\emph{missing} & 1 \\\\\n",
       "\t5 & Draymond Green & \\emph{missing} & \\emph{missing} & \\emph{missing} & 1 & 1 \\\\\n",
       "\t6 & Eric Bledsoe & \\emph{missing} & \\emph{missing} & 1 & \\emph{missing} & \\emph{missing} \\\\\n",
       "\t7 & Hassan Whiteside & 1 & \\emph{missing} & \\emph{missing} & \\emph{missing} & \\emph{missing} \\\\\n",
       "\t8 & JaVale McGee & \\emph{missing} & \\emph{missing} & \\emph{missing} & 1 & 1 \\\\\n",
       "\t9 & James Harden & 1 & 1 & 1 & 1 & 1 \\\\\n",
       "\t10 & Jimmy Butler & 1 & 1 & 1 & 1 & 1 \\\\\n",
       "\t11 & Karl-Anthony Towns & 1 & 1 & 1 & \\emph{missing} & \\emph{missing} \\\\\n",
       "\t12 & Kawhi Leonard & 1 & 1 & 1 & 1 & 1 \\\\\n",
       "\t13 & Kevin Durant & 1 & 1 & 1 & 1 & 1 \\\\\n",
       "\t14 & Larry Nance & \\emph{missing} & \\emph{missing} & \\emph{missing} & 1 & \\emph{missing} \\\\\n",
       "\t15 & LeBron James & 1 & 1 & \\emph{missing} & 1 & 1 \\\\\n",
       "\t16 & Malcolm Delaney & \\emph{missing} & \\emph{missing} & \\emph{missing} & 1 & \\emph{missing} \\\\\n",
       "\t17 & Mitchell Robinson & \\emph{missing} & 1 & \\emph{missing} & \\emph{missing} & \\emph{missing} \\\\\n",
       "\t18 & Montrezl Harrell & \\emph{missing} & \\emph{missing} & 1 & \\emph{missing} & 1 \\\\\n",
       "\t19 & Paul George & 1 & 1 & 1 & \\emph{missing} & 1 \\\\\n",
       "\t20 & Russell Westbrook & \\emph{missing} & 1 & \\emph{missing} & \\emph{missing} & 1 \\\\\n",
       "\t21 & Stephen Curry & 1 & 1 & 1 & 1 & 1 \\\\\n",
       "\\end{tabular}\n"
      ],
      "text/plain": [
       "\u001b[1m21×6 DataFrame\u001b[0m\n",
       "\u001b[1m Row \u001b[0m│\u001b[1m Player             \u001b[0m\u001b[1m PER     \u001b[0m\u001b[1m BPM     \u001b[0m\u001b[1m WS_48   \u001b[0m\u001b[1m PER_PLAYOFF \u001b[0m\u001b[1m OlympicsFin\u001b[0m ⋯\n",
       "     │\u001b[90m String31           \u001b[0m\u001b[90m Int64?  \u001b[0m\u001b[90m Int64?  \u001b[0m\u001b[90m Int64?  \u001b[0m\u001b[90m Int64?      \u001b[0m\u001b[90m Int64?     \u001b[0m ⋯\n",
       "─────┼──────────────────────────────────────────────────────────────────────────\n",
       "   1 │ Andre Drummond            1 \u001b[90m missing \u001b[0m       1 \u001b[90m     missing \u001b[0m             ⋯\n",
       "   2 │ Anthony Davis             1        1        1            1\n",
       "   3 │ Chris Paul         \u001b[90m missing \u001b[0m\u001b[90m missing \u001b[0m\u001b[90m missing \u001b[0m           1\n",
       "   4 │ Damian Lillard            1        1        1 \u001b[90m     missing \u001b[0m\n",
       "   5 │ Draymond Green     \u001b[90m missing \u001b[0m\u001b[90m missing \u001b[0m\u001b[90m missing \u001b[0m           1              ⋯\n",
       "   6 │ Eric Bledsoe       \u001b[90m missing \u001b[0m\u001b[90m missing \u001b[0m       1 \u001b[90m     missing \u001b[0m\u001b[90m          mi\u001b[0m\n",
       "   7 │ Hassan Whiteside          1 \u001b[90m missing \u001b[0m\u001b[90m missing \u001b[0m\u001b[90m     missing \u001b[0m\u001b[90m          mi\u001b[0m\n",
       "   8 │ JaVale McGee       \u001b[90m missing \u001b[0m\u001b[90m missing \u001b[0m\u001b[90m missing \u001b[0m           1\n",
       "   9 │ James Harden              1        1        1            1              ⋯\n",
       "  10 │ Jimmy Butler              1        1        1            1\n",
       "  11 │ Karl-Anthony Towns        1        1        1 \u001b[90m     missing \u001b[0m\u001b[90m          mi\u001b[0m\n",
       "  12 │ Kawhi Leonard             1        1        1            1\n",
       "  13 │ Kevin Durant              1        1        1            1              ⋯\n",
       "  14 │ Larry Nance        \u001b[90m missing \u001b[0m\u001b[90m missing \u001b[0m\u001b[90m missing \u001b[0m           1 \u001b[90m          mi\u001b[0m\n",
       "  15 │ LeBron James              1        1 \u001b[90m missing \u001b[0m           1\n",
       "  16 │ Malcolm Delaney    \u001b[90m missing \u001b[0m\u001b[90m missing \u001b[0m\u001b[90m missing \u001b[0m           1 \u001b[90m          mi\u001b[0m\n",
       "  17 │ Mitchell Robinson  \u001b[90m missing \u001b[0m       1 \u001b[90m missing \u001b[0m\u001b[90m     missing \u001b[0m\u001b[90m          mi\u001b[0m ⋯\n",
       "  18 │ Montrezl Harrell   \u001b[90m missing \u001b[0m\u001b[90m missing \u001b[0m       1 \u001b[90m     missing \u001b[0m\n",
       "  19 │ Paul George               1        1        1 \u001b[90m     missing \u001b[0m\n",
       "  20 │ Russell Westbrook  \u001b[90m missing \u001b[0m       1 \u001b[90m missing \u001b[0m\u001b[90m     missing \u001b[0m\n",
       "  21 │ Stephen Curry             1        1        1            1              ⋯\n",
       "\u001b[36m                                                                1 column omitted\u001b[0m"
      ]
     },
     "execution_count": 68,
     "metadata": {},
     "output_type": "execute_result"
    }
   ],
   "source": [
    "# Pull a dataset of the olympic finalists\n",
    "olympics_finalists = unique(df[df[!,:OlympicsFinalist].==1,[:Player,:OlympicsFinalist]])\n",
    "\n",
    "sort(leftjoin(player_compare, olympics_finalists, on = :Player))"
   ]
  },
  {
   "cell_type": "markdown",
   "metadata": {},
   "source": [
    "7 players (Anthony Davis, James Harden, Jimmy Butler, Kawhi Leonard, Kevin Durant, Lebron James, and Stephen Curry) are chosen in every variation of our model. Certain players only appear when we look at playoff statistics (e.g. Chris Paul, Draymond Green), while others look better when we focus on the regular season (e.g. Paul George, Damian Lillard)."
   ]
  },
  {
   "cell_type": "code",
   "execution_count": null,
   "metadata": {},
   "outputs": [],
   "source": []
  }
 ],
 "metadata": {
  "@webio": {
   "lastCommId": null,
   "lastKernelId": null
  },
  "kernelspec": {
   "display_name": "Julia 1.10.4",
   "language": "julia",
   "name": "julia-1.10"
  },
  "language_info": {
   "file_extension": ".jl",
   "mimetype": "application/julia",
   "name": "julia",
   "version": "1.10.4"
  }
 },
 "nbformat": 4,
 "nbformat_minor": 4
}
